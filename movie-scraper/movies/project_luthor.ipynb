{
 "cells": [
  {
   "cell_type": "code",
   "execution_count": 360,
   "metadata": {},
   "outputs": [],
   "source": [
    "import pandas as pd\n",
    "import json\n",
    "import statsmodels.formula.api as smf\n",
    "import re\n",
    "import statsmodels.regression.linear_model as sm\n",
    "\n",
    "\n",
    "with open('result2.json') as f:\n",
    "    data = json.load(f)\n",
    "\n",
    "with open('studios.txt') as f:\n",
    "    studios = []\n",
    "    for s in f:\n",
    "        studios.append(s.strip())"
   ]
  },
  {
   "cell_type": "code",
   "execution_count": 361,
   "metadata": {},
   "outputs": [
    {
     "data": {
      "text/plain": [
       "(2127, 15)"
      ]
     },
     "execution_count": 361,
     "metadata": {},
     "output_type": "execute_result"
    }
   ],
   "source": [
    "df = pd.DataFrame(data).drop(['download_latency', 'download_slot','download_timeout', 'depth'], axis=1)\n",
    "df.shape"
   ]
  },
  {
   "cell_type": "code",
   "execution_count": 362,
   "metadata": {},
   "outputs": [],
   "source": [
    "df = df.applymap(lambda x: np.nan if ((str(x).lower() == 'nan') or (str(x) == 'n/a')) else x)"
   ]
  },
  {
   "cell_type": "code",
   "execution_count": 417,
   "metadata": {},
   "outputs": [],
   "source": [
    "# Genre\n",
    "df.genre = df.genre.str.replace('-', '_')\n",
    "genre_pre = df.set_index('title').genre.str.split(',', expand=True).stack().reset_index(level=1, drop=True).to_frame('genre')\n",
    "dummy_genre = pd.get_dummies(genre_pre, prefix='g', columns=['genre']).groupby(level=0).sum().reset_index()\n",
    "col = dummy_genre.columns.str.replace(' ', '')\n",
    "dummy_genre.columns = col"
   ]
  },
  {
   "cell_type": "code",
   "execution_count": 418,
   "metadata": {},
   "outputs": [],
   "source": [
    "# Language\n",
    "df.language = df.language.str.replace(' ', '_')\n",
    "language_pre = df.set_index('title').language.str.split(',', expand=True).stack().reset_index(level=1, drop=True).to_frame('language')\n",
    "dummy_language = pd.get_dummies(language_pre, prefix='l', columns=['language']).groupby(level=0).sum().reset_index()"
   ]
  },
  {
   "cell_type": "code",
   "execution_count": 419,
   "metadata": {},
   "outputs": [],
   "source": [
    "# MPAA\n",
    "df.mpaa = df.mpaa.str.replace('-', '_')\n",
    "df.mpaa = df.mpaa.str.replace('PG_13', 'PGthirt')\n",
    "df.mpaa = df.mpaa.str.replace('NC_17', 'NC')\n",
    "df[df.mpaa == 'PG_'].iloc[0].mpaa = 'PGthirt' # Fix an odd value\n",
    "\n",
    "mpaa_pre = df.set_index('title').mpaa.str.split(',', expand=True).stack().reset_index(level=1, drop=True).to_frame('mpaa')\n",
    "dummy_mpaa = pd.get_dummies(mpaa_pre, prefix='m', columns=['mpaa']).groupby(level=0).sum().reset_index()"
   ]
  },
  {
   "cell_type": "code",
   "execution_count": 420,
   "metadata": {},
   "outputs": [],
   "source": [
    "# Directors\n",
    "director_pre = df.set_index('title').director.str.split(',', expand=True).stack().reset_index(level=1, drop=True).to_frame('director')\n",
    "dummy_director = pd.get_dummies(director_pre, prefix='d', columns=['director']).groupby(level=0).sum().reset_index()"
   ]
  },
  {
   "cell_type": "code",
   "execution_count": 421,
   "metadata": {
    "collapsed": true
   },
   "outputs": [],
   "source": [
    "# Country\n",
    "df.country = df.country.str.replace(' ', '_')\n",
    "country_pre = df.set_index('title').country.str.split(',', expand=True).stack().reset_index(level=1, drop=True).to_frame('country')\n",
    "dummy_country = pd.get_dummies(country_pre, prefix='d', columns=['country']).groupby(level=0).sum().reset_index()"
   ]
  },
  {
   "cell_type": "code",
   "execution_count": 422,
   "metadata": {},
   "outputs": [
    {
     "data": {
      "text/plain": [
       "(2126, 181)"
      ]
     },
     "execution_count": 422,
     "metadata": {},
     "output_type": "execute_result"
    }
   ],
   "source": [
    "df_clean = df.merge(dummy_genre)\n",
    "df_clean = df_clean.merge(dummy_language)\n",
    "df_clean = df_clean.merge(dummy_mpaa)\n",
    "df_clean = df_clean.merge(dummy_country)\n",
    "#df_clean = df_clean.merge(dummy_director)\n",
    "df_clean.shape"
   ]
  },
  {
   "cell_type": "code",
   "execution_count": 423,
   "metadata": {},
   "outputs": [
    {
     "data": {
      "text/plain": [
       "array(['PGthirt', 'PG', 'R', 'NC', 'PG_'], dtype=object)"
      ]
     },
     "execution_count": 423,
     "metadata": {},
     "output_type": "execute_result"
    }
   ],
   "source": [
    "# USD conversions\n",
    "# Euro \n",
    "# Pound (check year conversion) grab year and exchange rate\n",
    "\n",
    "# Clean\n",
    "df_clean.lifetime = df_clean.lifetime.str.replace('$', '').str.replace(',', '')\n",
    "df_clean.opening = df_clean.opening.str.replace('$', '').str.replace(',', '')\n",
    "\n",
    "df_clean.mpaa.unique()\n",
    "\n",
    "# clean budget"
   ]
  },
  {
   "cell_type": "code",
   "execution_count": 424,
   "metadata": {
    "collapsed": true
   },
   "outputs": [],
   "source": [
    "df_clean.rating = df_clean.rating.apply(float)\n",
    "df_clean.runtime = df_clean.runtime.apply(float)\n"
   ]
  },
  {
   "cell_type": "code",
   "execution_count": 425,
   "metadata": {},
   "outputs": [
    {
     "data": {
      "text/plain": [
       "0     $20000000\n",
       "1    $250000000\n",
       "2      $6500000\n",
       "3    $110000000\n",
       "4    $108000000\n",
       "Name: budget, dtype: object"
      ]
     },
     "execution_count": 425,
     "metadata": {},
     "output_type": "execute_result"
    }
   ],
   "source": [
    "# Temporary, need to do currency conversions, or scrap from box office mojo\n",
    "#df_clean.budget = df_clean.opening.str.replace('$', '')\n",
    "#df_clean.budget = df_clean.opening.apply(lambda x: x if x.isdigit() else np.nan)\n",
    "df_clean.budget[:5]"
   ]
  },
  {
   "cell_type": "code",
   "execution_count": 426,
   "metadata": {},
   "outputs": [],
   "source": [
    "# df_clean[df_clean.budget.apply(lambda x: str(x)[0]) != '$'].sort_values(by='budget')"
   ]
  },
  {
   "cell_type": "code",
   "execution_count": 427,
   "metadata": {},
   "outputs": [],
   "source": [
    "#df_clean['currency'] = df_clean.budget.apply(lambda x: re.search(r'([^\\d]+)([^(\\s]+)', str(x))[1].strip() if (x is not np.nan) else np.nan)"
   ]
  },
  {
   "cell_type": "code",
   "execution_count": 428,
   "metadata": {},
   "outputs": [
    {
     "data": {
      "text/plain": [
       "['budget',\n",
       " 'country',\n",
       " 'director',\n",
       " 'genre',\n",
       " 'language',\n",
       " 'lifetime',\n",
       " 'mojo_url',\n",
       " 'mpaa',\n",
       " 'opening',\n",
       " 'rating',\n",
       " 'rating_count',\n",
       " 'runtime',\n",
       " 'title',\n",
       " 'url',\n",
       " 'year',\n",
       " 'g_Action',\n",
       " 'g_Adventure',\n",
       " 'g_Animation',\n",
       " 'g_Biography',\n",
       " 'g_Comedy',\n",
       " 'g_Crime',\n",
       " 'g_Drama',\n",
       " 'g_Family',\n",
       " 'g_Fantasy',\n",
       " 'g_History',\n",
       " 'g_Horror',\n",
       " 'g_Music',\n",
       " 'g_Musical',\n",
       " 'g_Mystery',\n",
       " 'g_Romance',\n",
       " 'g_Sci_Fi',\n",
       " 'g_Sport',\n",
       " 'g_Thriller',\n",
       " 'g_War',\n",
       " 'g_Western',\n",
       " 'l_',\n",
       " 'l_Aboriginal',\n",
       " 'l_Acholi',\n",
       " 'l_Afrikaans',\n",
       " 'l_Albanian',\n",
       " 'l_Algonquin',\n",
       " 'l_American_Sign_Language',\n",
       " 'l_Apache_languages',\n",
       " 'l_Arabic',\n",
       " 'l_Aramaic',\n",
       " 'l_Armenian',\n",
       " 'l_Bambara',\n",
       " 'l_Bengali',\n",
       " 'l_Berber_languages',\n",
       " 'l_Bulgarian',\n",
       " 'l_Burmese',\n",
       " 'l_Cantonese',\n",
       " 'l_Catalan',\n",
       " 'l_Chinese',\n",
       " 'l_Croatian',\n",
       " 'l_Czech',\n",
       " 'l_Danish',\n",
       " 'l_Dari',\n",
       " 'l_Dutch',\n",
       " 'l_Egyptian_(Ancient)',\n",
       " 'l_English',\n",
       " 'l_Esperanto',\n",
       " 'l_Estonian',\n",
       " 'l_Filipino',\n",
       " 'l_Finnish',\n",
       " 'l_Flemish',\n",
       " 'l_French',\n",
       " 'l_Georgian',\n",
       " 'l_German',\n",
       " 'l_Greek',\n",
       " 'l_Greenlandic',\n",
       " 'l_Hawaiian',\n",
       " 'l_Hebrew',\n",
       " 'l_Hindi',\n",
       " 'l_Hmong',\n",
       " 'l_Hungarian',\n",
       " 'l_Ibo',\n",
       " 'l_Icelandic',\n",
       " 'l_Indonesian',\n",
       " 'l_Irish',\n",
       " 'l_Italian',\n",
       " 'l_Japanese',\n",
       " 'l_Japanese_Sign_Language',\n",
       " 'l_Khmer',\n",
       " 'l_Kirundi',\n",
       " 'l_Klingon',\n",
       " 'l_Korean',\n",
       " 'l_Latin',\n",
       " 'l_Lingala',\n",
       " 'l_Mandarin',\n",
       " 'l_Maori',\n",
       " 'l_Maya',\n",
       " 'l_Mende',\n",
       " 'l_Mongolian',\n",
       " 'l_Navajo',\n",
       " 'l_None',\n",
       " 'l_North_American_Indian',\n",
       " 'l_Norwegian',\n",
       " 'l_Nyanja',\n",
       " 'l_Old_English',\n",
       " 'l_Panjabi',\n",
       " 'l_Pawnee',\n",
       " 'l_Persian',\n",
       " 'l_Polish',\n",
       " 'l_Portuguese',\n",
       " 'l_Pushto',\n",
       " 'l_Romanian',\n",
       " 'l_Romany',\n",
       " 'l_Russian',\n",
       " 'l_Sanskrit',\n",
       " 'l_Scottish_Gaelic',\n",
       " 'l_Serbian',\n",
       " 'l_Serbo_Croatian',\n",
       " 'l_Sign_Languages',\n",
       " 'l_Slovak',\n",
       " 'l_Somali',\n",
       " 'l_Southern_Sotho',\n",
       " 'l_Spanish',\n",
       " 'l_Swahili',\n",
       " 'l_Swedish',\n",
       " 'l_Swiss_German',\n",
       " 'l_Syriac',\n",
       " 'l_Tagalog',\n",
       " 'l_Tamil',\n",
       " 'l_Thai',\n",
       " 'l_Tibetan',\n",
       " 'l_Turkish',\n",
       " 'l_Ukrainian',\n",
       " 'l_Urdu',\n",
       " 'l_Vietnamese',\n",
       " 'l_Welsh',\n",
       " 'l_Xhosa',\n",
       " 'l_Yiddish',\n",
       " 'l_Zulu',\n",
       " 'l__Ancient_(to_1453)',\n",
       " 'm_NC',\n",
       " 'm_PG',\n",
       " 'm_PG_',\n",
       " 'm_PGthirt',\n",
       " 'm_R',\n",
       " 'd_Algeria',\n",
       " 'd_Australia',\n",
       " 'd_Austria',\n",
       " 'd_Bahamas',\n",
       " 'd_Belgium',\n",
       " 'd_Brazil',\n",
       " 'd_Canada',\n",
       " 'd_Chile',\n",
       " 'd_China',\n",
       " 'd_Czech_Republic',\n",
       " 'd_Denmark',\n",
       " 'd_Finland',\n",
       " 'd_France',\n",
       " 'd_Georgia',\n",
       " 'd_Germany',\n",
       " 'd_Greece',\n",
       " 'd_Hong_Kong',\n",
       " 'd_Hungary',\n",
       " 'd_Iceland',\n",
       " 'd_India',\n",
       " 'd_Indonesia',\n",
       " 'd_Iran',\n",
       " 'd_Ireland',\n",
       " 'd_Israel',\n",
       " 'd_Italy',\n",
       " 'd_Japan',\n",
       " 'd_Kenya',\n",
       " 'd_Malta',\n",
       " 'd_Mexico',\n",
       " 'd_New_Zealand',\n",
       " 'd_Norway',\n",
       " 'd_Palestine',\n",
       " 'd_Panama',\n",
       " 'd_Romania',\n",
       " 'd_Russia',\n",
       " 'd_South_Africa',\n",
       " 'd_South_Korea',\n",
       " 'd_Spain',\n",
       " 'd_Sweden',\n",
       " 'd_UK',\n",
       " 'd_USA']"
      ]
     },
     "execution_count": 428,
     "metadata": {},
     "output_type": "execute_result"
    }
   ],
   "source": [
    "df_clean_dropped = df_clean.dropna(how='any')\n",
    "list(df_clean_dropped.columns)"
   ]
  },
  {
   "cell_type": "code",
   "execution_count": 429,
   "metadata": {},
   "outputs": [],
   "source": [
    "X = df_clean_dropped.drop(['l__Ancient_(to_1453)','lifetime','budget','director', 'genre', 'language', 'mpaa', 'url', 'rating_count', 'mojo_url', 'title', 'country'], axis=1)"
   ]
  },
  {
   "cell_type": "code",
   "execution_count": 430,
   "metadata": {},
   "outputs": [
    {
     "ename": "PatsyError",
     "evalue": "Error evaluating factor: NameError: name 'l_Egyptian_' is not defined\n    lifetime ~ opening + rating + runtime + year + g_Action + g_Adventure + g_Animation + g_Biography + g_Comedy + g_Crime + g_Drama + g_Family + g_Fantasy + g_History + g_Horror + g_Music + g_Musical + g_Mystery + g_Romance + g_Sci_Fi + g_Sport + g_Thriller + g_War + g_Western + l_ + l_Aboriginal + l_Acholi + l_Afrikaans + l_Albanian + l_Algonquin + l_American_Sign_Language + l_Apache_languages + l_Arabic + l_Aramaic + l_Armenian + l_Bambara + l_Bengali + l_Berber_languages + l_Bulgarian + l_Burmese + l_Cantonese + l_Catalan + l_Chinese + l_Croatian + l_Czech + l_Danish + l_Dari + l_Dutch + l_Egyptian_(Ancient) + l_English + l_Esperanto + l_Estonian + l_Filipino + l_Finnish + l_Flemish + l_French + l_Georgian + l_German + l_Greek + l_Greenlandic + l_Hawaiian + l_Hebrew + l_Hindi + l_Hmong + l_Hungarian + l_Ibo + l_Icelandic + l_Indonesian + l_Irish + l_Italian + l_Japanese + l_Japanese_Sign_Language + l_Khmer + l_Kirundi + l_Klingon + l_Korean + l_Latin + l_Lingala + l_Mandarin + l_Maori + l_Maya + l_Mende + l_Mongolian + l_Navajo + l_None + l_North_American_Indian + l_Norwegian + l_Nyanja + l_Old_English + l_Panjabi + l_Pawnee + l_Persian + l_Polish + l_Portuguese + l_Pushto + l_Romanian + l_Romany + l_Russian + l_Sanskrit + l_Scottish_Gaelic + l_Serbian + l_Serbo_Croatian + l_Sign_Languages + l_Slovak + l_Somali + l_Southern_Sotho + l_Spanish + l_Swahili + l_Swedish + l_Swiss_German + l_Syriac + l_Tagalog + l_Tamil + l_Thai + l_Tibetan + l_Turkish + l_Ukrainian + l_Urdu + l_Vietnamese + l_Welsh + l_Xhosa + l_Yiddish + l_Zulu + m_NC + m_PG + m_PG_ + m_PGthirt + m_R + d_Algeria + d_Australia + d_Austria + d_Bahamas + d_Belgium + d_Brazil + d_Canada + d_Chile + d_China + d_Czech_Republic + d_Denmark + d_Finland + d_France + d_Georgia + d_Germany + d_Greece + d_Hong_Kong + d_Hungary + d_Iceland + d_India + d_Indonesia + d_Iran + d_Ireland + d_Israel + d_Italy + d_Japan + d_Kenya + d_Malta + d_Mexico + d_New_Zealand + d_Norway + d_Palestine + d_Panama + d_Romania + d_Russia + d_South_Africa + d_South_Korea + d_Spain + d_Sweden + d_UK + d_USA\n                                                                                                                                                                                                                                                                                                                                                                                                                                                                                                                                                                                                                       ^^^^^^^^^^^^^^^^^^^^",
     "output_type": "error",
     "traceback": [
      "\u001b[0;31m---------------------------------------------------------------------------\u001b[0m",
      "\u001b[0;31mNameError\u001b[0m                                 Traceback (most recent call last)",
      "\u001b[0;32m/home/jvheeswijck/anaconda3/lib/python3.6/site-packages/patsy/compat.py\u001b[0m in \u001b[0;36mcall_and_wrap_exc\u001b[0;34m(msg, origin, f, *args, **kwargs)\u001b[0m\n\u001b[1;32m    116\u001b[0m     \u001b[0;32mtry\u001b[0m\u001b[0;34m:\u001b[0m\u001b[0;34m\u001b[0m\u001b[0m\n\u001b[0;32m--> 117\u001b[0;31m         \u001b[0;32mreturn\u001b[0m \u001b[0mf\u001b[0m\u001b[0;34m(\u001b[0m\u001b[0;34m*\u001b[0m\u001b[0margs\u001b[0m\u001b[0;34m,\u001b[0m \u001b[0;34m**\u001b[0m\u001b[0mkwargs\u001b[0m\u001b[0;34m)\u001b[0m\u001b[0;34m\u001b[0m\u001b[0m\n\u001b[0m\u001b[1;32m    118\u001b[0m     \u001b[0;32mexcept\u001b[0m \u001b[0mException\u001b[0m \u001b[0;32mas\u001b[0m \u001b[0me\u001b[0m\u001b[0;34m:\u001b[0m\u001b[0;34m\u001b[0m\u001b[0m\n",
      "\u001b[0;32m/home/jvheeswijck/anaconda3/lib/python3.6/site-packages/patsy/eval.py\u001b[0m in \u001b[0;36meval\u001b[0;34m(self, expr, source_name, inner_namespace)\u001b[0m\n\u001b[1;32m    165\u001b[0m         return eval(code, {}, VarLookupDict([inner_namespace]\n\u001b[0;32m--> 166\u001b[0;31m                                             + self._namespaces))\n\u001b[0m\u001b[1;32m    167\u001b[0m \u001b[0;34m\u001b[0m\u001b[0m\n",
      "\u001b[0;32m<string>\u001b[0m in \u001b[0;36m<module>\u001b[0;34m()\u001b[0m\n",
      "\u001b[0;31mNameError\u001b[0m: name 'l_Egyptian_' is not defined",
      "\nThe above exception was the direct cause of the following exception:\n",
      "\u001b[0;31mPatsyError\u001b[0m                                Traceback (most recent call last)",
      "\u001b[0;32m<ipython-input-430-296f0cf6d35b>\u001b[0m in \u001b[0;36m<module>\u001b[0;34m()\u001b[0m\n\u001b[1;32m      8\u001b[0m \u001b[0mformula_name\u001b[0m \u001b[0;34m=\u001b[0m \u001b[0mgenerate_formula\u001b[0m\u001b[0;34m(\u001b[0m\u001b[0;34m'lifetime'\u001b[0m\u001b[0;34m,\u001b[0m \u001b[0mlist\u001b[0m\u001b[0;34m(\u001b[0m\u001b[0mX\u001b[0m\u001b[0;34m.\u001b[0m\u001b[0mcolumns\u001b[0m\u001b[0;34m)\u001b[0m\u001b[0;34m)\u001b[0m\u001b[0;34m.\u001b[0m\u001b[0mstrip\u001b[0m\u001b[0;34m(\u001b[0m\u001b[0;34m)\u001b[0m\u001b[0;34m\u001b[0m\u001b[0m\n\u001b[1;32m      9\u001b[0m \u001b[0mformula_name\u001b[0m\u001b[0;34m\u001b[0m\u001b[0m\n\u001b[0;32m---> 10\u001b[0;31m \u001b[0mlm1\u001b[0m \u001b[0;34m=\u001b[0m \u001b[0msmf\u001b[0m\u001b[0;34m.\u001b[0m\u001b[0mols\u001b[0m\u001b[0;34m(\u001b[0m\u001b[0mformula_name\u001b[0m\u001b[0;34m,\u001b[0m \u001b[0mdata\u001b[0m\u001b[0;34m=\u001b[0m\u001b[0mX\u001b[0m\u001b[0;34m)\u001b[0m\u001b[0;34m\u001b[0m\u001b[0m\n\u001b[0m\u001b[1;32m     11\u001b[0m \u001b[0;31m#fit1 = lm1.fit()\u001b[0m\u001b[0;34m\u001b[0m\u001b[0;34m\u001b[0m\u001b[0m\n",
      "\u001b[0;32m/home/jvheeswijck/anaconda3/lib/python3.6/site-packages/statsmodels/base/model.py\u001b[0m in \u001b[0;36mfrom_formula\u001b[0;34m(cls, formula, data, subset, drop_cols, *args, **kwargs)\u001b[0m\n\u001b[1;32m    153\u001b[0m \u001b[0;34m\u001b[0m\u001b[0m\n\u001b[1;32m    154\u001b[0m         tmp = handle_formula_data(data, None, formula, depth=eval_env,\n\u001b[0;32m--> 155\u001b[0;31m                                   missing=missing)\n\u001b[0m\u001b[1;32m    156\u001b[0m         \u001b[0;34m(\u001b[0m\u001b[0;34m(\u001b[0m\u001b[0mendog\u001b[0m\u001b[0;34m,\u001b[0m \u001b[0mexog\u001b[0m\u001b[0;34m)\u001b[0m\u001b[0;34m,\u001b[0m \u001b[0mmissing_idx\u001b[0m\u001b[0;34m,\u001b[0m \u001b[0mdesign_info\u001b[0m\u001b[0;34m)\u001b[0m \u001b[0;34m=\u001b[0m \u001b[0mtmp\u001b[0m\u001b[0;34m\u001b[0m\u001b[0m\n\u001b[1;32m    157\u001b[0m \u001b[0;34m\u001b[0m\u001b[0m\n",
      "\u001b[0;32m/home/jvheeswijck/anaconda3/lib/python3.6/site-packages/statsmodels/formula/formulatools.py\u001b[0m in \u001b[0;36mhandle_formula_data\u001b[0;34m(Y, X, formula, depth, missing)\u001b[0m\n\u001b[1;32m     63\u001b[0m         \u001b[0;32mif\u001b[0m \u001b[0mdata_util\u001b[0m\u001b[0;34m.\u001b[0m\u001b[0m_is_using_pandas\u001b[0m\u001b[0;34m(\u001b[0m\u001b[0mY\u001b[0m\u001b[0;34m,\u001b[0m \u001b[0;32mNone\u001b[0m\u001b[0;34m)\u001b[0m\u001b[0;34m:\u001b[0m\u001b[0;34m\u001b[0m\u001b[0m\n\u001b[1;32m     64\u001b[0m             result = dmatrices(formula, Y, depth, return_type='dataframe',\n\u001b[0;32m---> 65\u001b[0;31m                                NA_action=na_action)\n\u001b[0m\u001b[1;32m     66\u001b[0m         \u001b[0;32melse\u001b[0m\u001b[0;34m:\u001b[0m\u001b[0;34m\u001b[0m\u001b[0m\n\u001b[1;32m     67\u001b[0m             result = dmatrices(formula, Y, depth, return_type='dataframe',\n",
      "\u001b[0;32m/home/jvheeswijck/anaconda3/lib/python3.6/site-packages/patsy/highlevel.py\u001b[0m in \u001b[0;36mdmatrices\u001b[0;34m(formula_like, data, eval_env, NA_action, return_type)\u001b[0m\n\u001b[1;32m    308\u001b[0m     \u001b[0meval_env\u001b[0m \u001b[0;34m=\u001b[0m \u001b[0mEvalEnvironment\u001b[0m\u001b[0;34m.\u001b[0m\u001b[0mcapture\u001b[0m\u001b[0;34m(\u001b[0m\u001b[0meval_env\u001b[0m\u001b[0;34m,\u001b[0m \u001b[0mreference\u001b[0m\u001b[0;34m=\u001b[0m\u001b[0;36m1\u001b[0m\u001b[0;34m)\u001b[0m\u001b[0;34m\u001b[0m\u001b[0m\n\u001b[1;32m    309\u001b[0m     (lhs, rhs) = _do_highlevel_design(formula_like, data, eval_env,\n\u001b[0;32m--> 310\u001b[0;31m                                       NA_action, return_type)\n\u001b[0m\u001b[1;32m    311\u001b[0m     \u001b[0;32mif\u001b[0m \u001b[0mlhs\u001b[0m\u001b[0;34m.\u001b[0m\u001b[0mshape\u001b[0m\u001b[0;34m[\u001b[0m\u001b[0;36m1\u001b[0m\u001b[0;34m]\u001b[0m \u001b[0;34m==\u001b[0m \u001b[0;36m0\u001b[0m\u001b[0;34m:\u001b[0m\u001b[0;34m\u001b[0m\u001b[0m\n\u001b[1;32m    312\u001b[0m         \u001b[0;32mraise\u001b[0m \u001b[0mPatsyError\u001b[0m\u001b[0;34m(\u001b[0m\u001b[0;34m\"model is missing required outcome variables\"\u001b[0m\u001b[0;34m)\u001b[0m\u001b[0;34m\u001b[0m\u001b[0m\n",
      "\u001b[0;32m/home/jvheeswijck/anaconda3/lib/python3.6/site-packages/patsy/highlevel.py\u001b[0m in \u001b[0;36m_do_highlevel_design\u001b[0;34m(formula_like, data, eval_env, NA_action, return_type)\u001b[0m\n\u001b[1;32m    163\u001b[0m         \u001b[0;32mreturn\u001b[0m \u001b[0miter\u001b[0m\u001b[0;34m(\u001b[0m\u001b[0;34m[\u001b[0m\u001b[0mdata\u001b[0m\u001b[0;34m]\u001b[0m\u001b[0;34m)\u001b[0m\u001b[0;34m\u001b[0m\u001b[0m\n\u001b[1;32m    164\u001b[0m     design_infos = _try_incr_builders(formula_like, data_iter_maker, eval_env,\n\u001b[0;32m--> 165\u001b[0;31m                                       NA_action)\n\u001b[0m\u001b[1;32m    166\u001b[0m     \u001b[0;32mif\u001b[0m \u001b[0mdesign_infos\u001b[0m \u001b[0;32mis\u001b[0m \u001b[0;32mnot\u001b[0m \u001b[0;32mNone\u001b[0m\u001b[0;34m:\u001b[0m\u001b[0;34m\u001b[0m\u001b[0m\n\u001b[1;32m    167\u001b[0m         return build_design_matrices(design_infos, data,\n",
      "\u001b[0;32m/home/jvheeswijck/anaconda3/lib/python3.6/site-packages/patsy/highlevel.py\u001b[0m in \u001b[0;36m_try_incr_builders\u001b[0;34m(formula_like, data_iter_maker, eval_env, NA_action)\u001b[0m\n\u001b[1;32m     68\u001b[0m                                       \u001b[0mdata_iter_maker\u001b[0m\u001b[0;34m,\u001b[0m\u001b[0;34m\u001b[0m\u001b[0m\n\u001b[1;32m     69\u001b[0m                                       \u001b[0meval_env\u001b[0m\u001b[0;34m,\u001b[0m\u001b[0;34m\u001b[0m\u001b[0m\n\u001b[0;32m---> 70\u001b[0;31m                                       NA_action)\n\u001b[0m\u001b[1;32m     71\u001b[0m     \u001b[0;32melse\u001b[0m\u001b[0;34m:\u001b[0m\u001b[0;34m\u001b[0m\u001b[0m\n\u001b[1;32m     72\u001b[0m         \u001b[0;32mreturn\u001b[0m \u001b[0;32mNone\u001b[0m\u001b[0;34m\u001b[0m\u001b[0m\n",
      "\u001b[0;32m/home/jvheeswijck/anaconda3/lib/python3.6/site-packages/patsy/build.py\u001b[0m in \u001b[0;36mdesign_matrix_builders\u001b[0;34m(termlists, data_iter_maker, eval_env, NA_action)\u001b[0m\n\u001b[1;32m    694\u001b[0m                                                    \u001b[0mfactor_states\u001b[0m\u001b[0;34m,\u001b[0m\u001b[0;34m\u001b[0m\u001b[0m\n\u001b[1;32m    695\u001b[0m                                                    \u001b[0mdata_iter_maker\u001b[0m\u001b[0;34m,\u001b[0m\u001b[0;34m\u001b[0m\u001b[0m\n\u001b[0;32m--> 696\u001b[0;31m                                                    NA_action)\n\u001b[0m\u001b[1;32m    697\u001b[0m     \u001b[0;31m# Now we need the factor infos, which encapsulate the knowledge of\u001b[0m\u001b[0;34m\u001b[0m\u001b[0;34m\u001b[0m\u001b[0m\n\u001b[1;32m    698\u001b[0m     \u001b[0;31m# how to turn any given factor into a chunk of data:\u001b[0m\u001b[0;34m\u001b[0m\u001b[0;34m\u001b[0m\u001b[0m\n",
      "\u001b[0;32m/home/jvheeswijck/anaconda3/lib/python3.6/site-packages/patsy/build.py\u001b[0m in \u001b[0;36m_examine_factor_types\u001b[0;34m(factors, factor_states, data_iter_maker, NA_action)\u001b[0m\n\u001b[1;32m    441\u001b[0m     \u001b[0;32mfor\u001b[0m \u001b[0mdata\u001b[0m \u001b[0;32min\u001b[0m \u001b[0mdata_iter_maker\u001b[0m\u001b[0;34m(\u001b[0m\u001b[0;34m)\u001b[0m\u001b[0;34m:\u001b[0m\u001b[0;34m\u001b[0m\u001b[0m\n\u001b[1;32m    442\u001b[0m         \u001b[0;32mfor\u001b[0m \u001b[0mfactor\u001b[0m \u001b[0;32min\u001b[0m \u001b[0mlist\u001b[0m\u001b[0;34m(\u001b[0m\u001b[0mexamine_needed\u001b[0m\u001b[0;34m)\u001b[0m\u001b[0;34m:\u001b[0m\u001b[0;34m\u001b[0m\u001b[0m\n\u001b[0;32m--> 443\u001b[0;31m             \u001b[0mvalue\u001b[0m \u001b[0;34m=\u001b[0m \u001b[0mfactor\u001b[0m\u001b[0;34m.\u001b[0m\u001b[0meval\u001b[0m\u001b[0;34m(\u001b[0m\u001b[0mfactor_states\u001b[0m\u001b[0;34m[\u001b[0m\u001b[0mfactor\u001b[0m\u001b[0;34m]\u001b[0m\u001b[0;34m,\u001b[0m \u001b[0mdata\u001b[0m\u001b[0;34m)\u001b[0m\u001b[0;34m\u001b[0m\u001b[0m\n\u001b[0m\u001b[1;32m    444\u001b[0m             \u001b[0;32mif\u001b[0m \u001b[0mfactor\u001b[0m \u001b[0;32min\u001b[0m \u001b[0mcat_sniffers\u001b[0m \u001b[0;32mor\u001b[0m \u001b[0mguess_categorical\u001b[0m\u001b[0;34m(\u001b[0m\u001b[0mvalue\u001b[0m\u001b[0;34m)\u001b[0m\u001b[0;34m:\u001b[0m\u001b[0;34m\u001b[0m\u001b[0m\n\u001b[1;32m    445\u001b[0m                 \u001b[0;32mif\u001b[0m \u001b[0mfactor\u001b[0m \u001b[0;32mnot\u001b[0m \u001b[0;32min\u001b[0m \u001b[0mcat_sniffers\u001b[0m\u001b[0;34m:\u001b[0m\u001b[0;34m\u001b[0m\u001b[0m\n",
      "\u001b[0;32m/home/jvheeswijck/anaconda3/lib/python3.6/site-packages/patsy/eval.py\u001b[0m in \u001b[0;36meval\u001b[0;34m(self, memorize_state, data)\u001b[0m\n\u001b[1;32m    564\u001b[0m         return self._eval(memorize_state[\"eval_code\"],\n\u001b[1;32m    565\u001b[0m                           \u001b[0mmemorize_state\u001b[0m\u001b[0;34m,\u001b[0m\u001b[0;34m\u001b[0m\u001b[0m\n\u001b[0;32m--> 566\u001b[0;31m                           data)\n\u001b[0m\u001b[1;32m    567\u001b[0m \u001b[0;34m\u001b[0m\u001b[0m\n\u001b[1;32m    568\u001b[0m     \u001b[0m__getstate__\u001b[0m \u001b[0;34m=\u001b[0m \u001b[0mno_pickling\u001b[0m\u001b[0;34m\u001b[0m\u001b[0m\n",
      "\u001b[0;32m/home/jvheeswijck/anaconda3/lib/python3.6/site-packages/patsy/eval.py\u001b[0m in \u001b[0;36m_eval\u001b[0;34m(self, code, memorize_state, data)\u001b[0m\n\u001b[1;32m    549\u001b[0m                                  \u001b[0mmemorize_state\u001b[0m\u001b[0;34m[\u001b[0m\u001b[0;34m\"eval_env\"\u001b[0m\u001b[0;34m]\u001b[0m\u001b[0;34m.\u001b[0m\u001b[0meval\u001b[0m\u001b[0;34m,\u001b[0m\u001b[0;34m\u001b[0m\u001b[0m\n\u001b[1;32m    550\u001b[0m                                  \u001b[0mcode\u001b[0m\u001b[0;34m,\u001b[0m\u001b[0;34m\u001b[0m\u001b[0m\n\u001b[0;32m--> 551\u001b[0;31m                                  inner_namespace=inner_namespace)\n\u001b[0m\u001b[1;32m    552\u001b[0m \u001b[0;34m\u001b[0m\u001b[0m\n\u001b[1;32m    553\u001b[0m     \u001b[0;32mdef\u001b[0m \u001b[0mmemorize_chunk\u001b[0m\u001b[0;34m(\u001b[0m\u001b[0mself\u001b[0m\u001b[0;34m,\u001b[0m \u001b[0mstate\u001b[0m\u001b[0;34m,\u001b[0m \u001b[0mwhich_pass\u001b[0m\u001b[0;34m,\u001b[0m \u001b[0mdata\u001b[0m\u001b[0;34m)\u001b[0m\u001b[0;34m:\u001b[0m\u001b[0;34m\u001b[0m\u001b[0m\n",
      "\u001b[0;32m/home/jvheeswijck/anaconda3/lib/python3.6/site-packages/patsy/compat.py\u001b[0m in \u001b[0;36mcall_and_wrap_exc\u001b[0;34m(msg, origin, f, *args, **kwargs)\u001b[0m\n\u001b[1;32m    122\u001b[0m                                  origin)\n\u001b[1;32m    123\u001b[0m             \u001b[0;31m# Use 'exec' to hide this syntax from the Python 2 parser:\u001b[0m\u001b[0;34m\u001b[0m\u001b[0;34m\u001b[0m\u001b[0m\n\u001b[0;32m--> 124\u001b[0;31m             \u001b[0mexec\u001b[0m\u001b[0;34m(\u001b[0m\u001b[0;34m\"raise new_exc from e\"\u001b[0m\u001b[0;34m)\u001b[0m\u001b[0;34m\u001b[0m\u001b[0m\n\u001b[0m\u001b[1;32m    125\u001b[0m         \u001b[0;32melse\u001b[0m\u001b[0;34m:\u001b[0m\u001b[0;34m\u001b[0m\u001b[0m\n\u001b[1;32m    126\u001b[0m             \u001b[0;31m# In python 2, we just let the original exception escape -- better\u001b[0m\u001b[0;34m\u001b[0m\u001b[0;34m\u001b[0m\u001b[0m\n",
      "\u001b[0;32m/home/jvheeswijck/anaconda3/lib/python3.6/site-packages/patsy/compat.py\u001b[0m in \u001b[0;36m<module>\u001b[0;34m()\u001b[0m\n",
      "\u001b[0;31mPatsyError\u001b[0m: Error evaluating factor: NameError: name 'l_Egyptian_' is not defined\n    lifetime ~ opening + rating + runtime + year + g_Action + g_Adventure + g_Animation + g_Biography + g_Comedy + g_Crime + g_Drama + g_Family + g_Fantasy + g_History + g_Horror + g_Music + g_Musical + g_Mystery + g_Romance + g_Sci_Fi + g_Sport + g_Thriller + g_War + g_Western + l_ + l_Aboriginal + l_Acholi + l_Afrikaans + l_Albanian + l_Algonquin + l_American_Sign_Language + l_Apache_languages + l_Arabic + l_Aramaic + l_Armenian + l_Bambara + l_Bengali + l_Berber_languages + l_Bulgarian + l_Burmese + l_Cantonese + l_Catalan + l_Chinese + l_Croatian + l_Czech + l_Danish + l_Dari + l_Dutch + l_Egyptian_(Ancient) + l_English + l_Esperanto + l_Estonian + l_Filipino + l_Finnish + l_Flemish + l_French + l_Georgian + l_German + l_Greek + l_Greenlandic + l_Hawaiian + l_Hebrew + l_Hindi + l_Hmong + l_Hungarian + l_Ibo + l_Icelandic + l_Indonesian + l_Irish + l_Italian + l_Japanese + l_Japanese_Sign_Language + l_Khmer + l_Kirundi + l_Klingon + l_Korean + l_Latin + l_Lingala + l_Mandarin + l_Maori + l_Maya + l_Mende + l_Mongolian + l_Navajo + l_None + l_North_American_Indian + l_Norwegian + l_Nyanja + l_Old_English + l_Panjabi + l_Pawnee + l_Persian + l_Polish + l_Portuguese + l_Pushto + l_Romanian + l_Romany + l_Russian + l_Sanskrit + l_Scottish_Gaelic + l_Serbian + l_Serbo_Croatian + l_Sign_Languages + l_Slovak + l_Somali + l_Southern_Sotho + l_Spanish + l_Swahili + l_Swedish + l_Swiss_German + l_Syriac + l_Tagalog + l_Tamil + l_Thai + l_Tibetan + l_Turkish + l_Ukrainian + l_Urdu + l_Vietnamese + l_Welsh + l_Xhosa + l_Yiddish + l_Zulu + m_NC + m_PG + m_PG_ + m_PGthirt + m_R + d_Algeria + d_Australia + d_Austria + d_Bahamas + d_Belgium + d_Brazil + d_Canada + d_Chile + d_China + d_Czech_Republic + d_Denmark + d_Finland + d_France + d_Georgia + d_Germany + d_Greece + d_Hong_Kong + d_Hungary + d_Iceland + d_India + d_Indonesia + d_Iran + d_Ireland + d_Israel + d_Italy + d_Japan + d_Kenya + d_Malta + d_Mexico + d_New_Zealand + d_Norway + d_Palestine + d_Panama + d_Romania + d_Russia + d_South_Africa + d_South_Korea + d_Spain + d_Sweden + d_UK + d_USA\n                                                                                                                                                                                                                                                                                                                                                                                                                                                                                                                                                                                                                       ^^^^^^^^^^^^^^^^^^^^"
     ]
    }
   ],
   "source": [
    "list(X.columns)\n",
    "def generate_formula(y_str, x_l):\n",
    "    result = '{} ~ '.format(y_str)\n",
    "    for v in x_l:\n",
    "        result += '{} + '.format(v)\n",
    "    return result[:-2]\n",
    "\n",
    "formula_name = generate_formula('lifetime', list(X.columns)).strip()\n",
    "formula_name\n",
    "lm1 = smf.ols(formula_name, data=X)\n",
    "#fit1 = lm1.fit()"
   ]
  },
  {
   "cell_type": "code",
   "execution_count": 431,
   "metadata": {},
   "outputs": [
    {
     "ename": "ValueError",
     "evalue": "Pandas data cast to numpy dtype of object. Check input data with np.asarray(data).",
     "output_type": "error",
     "traceback": [
      "\u001b[0;31m---------------------------------------------------------------------------\u001b[0m",
      "\u001b[0;31mValueError\u001b[0m                                Traceback (most recent call last)",
      "\u001b[0;32m<ipython-input-431-9956e73290fc>\u001b[0m in \u001b[0;36m<module>\u001b[0;34m()\u001b[0m\n\u001b[0;32m----> 1\u001b[0;31m \u001b[0msm\u001b[0m\u001b[0;34m.\u001b[0m\u001b[0mOLS\u001b[0m\u001b[0;34m(\u001b[0m\u001b[0mdf_clean_dropped\u001b[0m\u001b[0;34m.\u001b[0m\u001b[0mlifetime\u001b[0m\u001b[0;34m,\u001b[0m \u001b[0mX\u001b[0m\u001b[0;34m)\u001b[0m\u001b[0;34m\u001b[0m\u001b[0m\n\u001b[0m",
      "\u001b[0;32m/home/jvheeswijck/anaconda3/lib/python3.6/site-packages/statsmodels/regression/linear_model.py\u001b[0m in \u001b[0;36m__init__\u001b[0;34m(self, endog, exog, missing, hasconst, **kwargs)\u001b[0m\n\u001b[1;32m    629\u001b[0m                  **kwargs):\n\u001b[1;32m    630\u001b[0m         super(OLS, self).__init__(endog, exog, missing=missing,\n\u001b[0;32m--> 631\u001b[0;31m                                   hasconst=hasconst, **kwargs)\n\u001b[0m\u001b[1;32m    632\u001b[0m         \u001b[0;32mif\u001b[0m \u001b[0;34m\"weights\"\u001b[0m \u001b[0;32min\u001b[0m \u001b[0mself\u001b[0m\u001b[0;34m.\u001b[0m\u001b[0m_init_keys\u001b[0m\u001b[0;34m:\u001b[0m\u001b[0;34m\u001b[0m\u001b[0m\n\u001b[1;32m    633\u001b[0m             \u001b[0mself\u001b[0m\u001b[0;34m.\u001b[0m\u001b[0m_init_keys\u001b[0m\u001b[0;34m.\u001b[0m\u001b[0mremove\u001b[0m\u001b[0;34m(\u001b[0m\u001b[0;34m\"weights\"\u001b[0m\u001b[0;34m)\u001b[0m\u001b[0;34m\u001b[0m\u001b[0m\n",
      "\u001b[0;32m/home/jvheeswijck/anaconda3/lib/python3.6/site-packages/statsmodels/regression/linear_model.py\u001b[0m in \u001b[0;36m__init__\u001b[0;34m(self, endog, exog, weights, missing, hasconst, **kwargs)\u001b[0m\n\u001b[1;32m    524\u001b[0m             \u001b[0mweights\u001b[0m \u001b[0;34m=\u001b[0m \u001b[0mweights\u001b[0m\u001b[0;34m.\u001b[0m\u001b[0msqueeze\u001b[0m\u001b[0;34m(\u001b[0m\u001b[0;34m)\u001b[0m\u001b[0;34m\u001b[0m\u001b[0m\n\u001b[1;32m    525\u001b[0m         super(WLS, self).__init__(endog, exog, missing=missing,\n\u001b[0;32m--> 526\u001b[0;31m                                   weights=weights, hasconst=hasconst, **kwargs)\n\u001b[0m\u001b[1;32m    527\u001b[0m         \u001b[0mnobs\u001b[0m \u001b[0;34m=\u001b[0m \u001b[0mself\u001b[0m\u001b[0;34m.\u001b[0m\u001b[0mexog\u001b[0m\u001b[0;34m.\u001b[0m\u001b[0mshape\u001b[0m\u001b[0;34m[\u001b[0m\u001b[0;36m0\u001b[0m\u001b[0;34m]\u001b[0m\u001b[0;34m\u001b[0m\u001b[0m\n\u001b[1;32m    528\u001b[0m         \u001b[0mweights\u001b[0m \u001b[0;34m=\u001b[0m \u001b[0mself\u001b[0m\u001b[0;34m.\u001b[0m\u001b[0mweights\u001b[0m\u001b[0;34m\u001b[0m\u001b[0m\n",
      "\u001b[0;32m/home/jvheeswijck/anaconda3/lib/python3.6/site-packages/statsmodels/regression/linear_model.py\u001b[0m in \u001b[0;36m__init__\u001b[0;34m(self, endog, exog, **kwargs)\u001b[0m\n\u001b[1;32m     93\u001b[0m     \"\"\"\n\u001b[1;32m     94\u001b[0m     \u001b[0;32mdef\u001b[0m \u001b[0m__init__\u001b[0m\u001b[0;34m(\u001b[0m\u001b[0mself\u001b[0m\u001b[0;34m,\u001b[0m \u001b[0mendog\u001b[0m\u001b[0;34m,\u001b[0m \u001b[0mexog\u001b[0m\u001b[0;34m,\u001b[0m \u001b[0;34m**\u001b[0m\u001b[0mkwargs\u001b[0m\u001b[0;34m)\u001b[0m\u001b[0;34m:\u001b[0m\u001b[0;34m\u001b[0m\u001b[0m\n\u001b[0;32m---> 95\u001b[0;31m         \u001b[0msuper\u001b[0m\u001b[0;34m(\u001b[0m\u001b[0mRegressionModel\u001b[0m\u001b[0;34m,\u001b[0m \u001b[0mself\u001b[0m\u001b[0;34m)\u001b[0m\u001b[0;34m.\u001b[0m\u001b[0m__init__\u001b[0m\u001b[0;34m(\u001b[0m\u001b[0mendog\u001b[0m\u001b[0;34m,\u001b[0m \u001b[0mexog\u001b[0m\u001b[0;34m,\u001b[0m \u001b[0;34m**\u001b[0m\u001b[0mkwargs\u001b[0m\u001b[0;34m)\u001b[0m\u001b[0;34m\u001b[0m\u001b[0m\n\u001b[0m\u001b[1;32m     96\u001b[0m         \u001b[0mself\u001b[0m\u001b[0;34m.\u001b[0m\u001b[0m_data_attr\u001b[0m\u001b[0;34m.\u001b[0m\u001b[0mextend\u001b[0m\u001b[0;34m(\u001b[0m\u001b[0;34m[\u001b[0m\u001b[0;34m'pinv_wexog'\u001b[0m\u001b[0;34m,\u001b[0m \u001b[0;34m'wendog'\u001b[0m\u001b[0;34m,\u001b[0m \u001b[0;34m'wexog'\u001b[0m\u001b[0;34m,\u001b[0m \u001b[0;34m'weights'\u001b[0m\u001b[0;34m]\u001b[0m\u001b[0;34m)\u001b[0m\u001b[0;34m\u001b[0m\u001b[0m\n\u001b[1;32m     97\u001b[0m \u001b[0;34m\u001b[0m\u001b[0m\n",
      "\u001b[0;32m/home/jvheeswijck/anaconda3/lib/python3.6/site-packages/statsmodels/base/model.py\u001b[0m in \u001b[0;36m__init__\u001b[0;34m(self, endog, exog, **kwargs)\u001b[0m\n\u001b[1;32m    210\u001b[0m \u001b[0;34m\u001b[0m\u001b[0m\n\u001b[1;32m    211\u001b[0m     \u001b[0;32mdef\u001b[0m \u001b[0m__init__\u001b[0m\u001b[0;34m(\u001b[0m\u001b[0mself\u001b[0m\u001b[0;34m,\u001b[0m \u001b[0mendog\u001b[0m\u001b[0;34m,\u001b[0m \u001b[0mexog\u001b[0m\u001b[0;34m=\u001b[0m\u001b[0;32mNone\u001b[0m\u001b[0;34m,\u001b[0m \u001b[0;34m**\u001b[0m\u001b[0mkwargs\u001b[0m\u001b[0;34m)\u001b[0m\u001b[0;34m:\u001b[0m\u001b[0;34m\u001b[0m\u001b[0m\n\u001b[0;32m--> 212\u001b[0;31m         \u001b[0msuper\u001b[0m\u001b[0;34m(\u001b[0m\u001b[0mLikelihoodModel\u001b[0m\u001b[0;34m,\u001b[0m \u001b[0mself\u001b[0m\u001b[0;34m)\u001b[0m\u001b[0;34m.\u001b[0m\u001b[0m__init__\u001b[0m\u001b[0;34m(\u001b[0m\u001b[0mendog\u001b[0m\u001b[0;34m,\u001b[0m \u001b[0mexog\u001b[0m\u001b[0;34m,\u001b[0m \u001b[0;34m**\u001b[0m\u001b[0mkwargs\u001b[0m\u001b[0;34m)\u001b[0m\u001b[0;34m\u001b[0m\u001b[0m\n\u001b[0m\u001b[1;32m    213\u001b[0m         \u001b[0mself\u001b[0m\u001b[0;34m.\u001b[0m\u001b[0minitialize\u001b[0m\u001b[0;34m(\u001b[0m\u001b[0;34m)\u001b[0m\u001b[0;34m\u001b[0m\u001b[0m\n\u001b[1;32m    214\u001b[0m \u001b[0;34m\u001b[0m\u001b[0m\n",
      "\u001b[0;32m/home/jvheeswijck/anaconda3/lib/python3.6/site-packages/statsmodels/base/model.py\u001b[0m in \u001b[0;36m__init__\u001b[0;34m(self, endog, exog, **kwargs)\u001b[0m\n\u001b[1;32m     61\u001b[0m         \u001b[0mhasconst\u001b[0m \u001b[0;34m=\u001b[0m \u001b[0mkwargs\u001b[0m\u001b[0;34m.\u001b[0m\u001b[0mpop\u001b[0m\u001b[0;34m(\u001b[0m\u001b[0;34m'hasconst'\u001b[0m\u001b[0;34m,\u001b[0m \u001b[0;32mNone\u001b[0m\u001b[0;34m)\u001b[0m\u001b[0;34m\u001b[0m\u001b[0m\n\u001b[1;32m     62\u001b[0m         self.data = self._handle_data(endog, exog, missing, hasconst,\n\u001b[0;32m---> 63\u001b[0;31m                                       **kwargs)\n\u001b[0m\u001b[1;32m     64\u001b[0m         \u001b[0mself\u001b[0m\u001b[0;34m.\u001b[0m\u001b[0mk_constant\u001b[0m \u001b[0;34m=\u001b[0m \u001b[0mself\u001b[0m\u001b[0;34m.\u001b[0m\u001b[0mdata\u001b[0m\u001b[0;34m.\u001b[0m\u001b[0mk_constant\u001b[0m\u001b[0;34m\u001b[0m\u001b[0m\n\u001b[1;32m     65\u001b[0m         \u001b[0mself\u001b[0m\u001b[0;34m.\u001b[0m\u001b[0mexog\u001b[0m \u001b[0;34m=\u001b[0m \u001b[0mself\u001b[0m\u001b[0;34m.\u001b[0m\u001b[0mdata\u001b[0m\u001b[0;34m.\u001b[0m\u001b[0mexog\u001b[0m\u001b[0;34m\u001b[0m\u001b[0m\n",
      "\u001b[0;32m/home/jvheeswijck/anaconda3/lib/python3.6/site-packages/statsmodels/base/model.py\u001b[0m in \u001b[0;36m_handle_data\u001b[0;34m(self, endog, exog, missing, hasconst, **kwargs)\u001b[0m\n\u001b[1;32m     86\u001b[0m \u001b[0;34m\u001b[0m\u001b[0m\n\u001b[1;32m     87\u001b[0m     \u001b[0;32mdef\u001b[0m \u001b[0m_handle_data\u001b[0m\u001b[0;34m(\u001b[0m\u001b[0mself\u001b[0m\u001b[0;34m,\u001b[0m \u001b[0mendog\u001b[0m\u001b[0;34m,\u001b[0m \u001b[0mexog\u001b[0m\u001b[0;34m,\u001b[0m \u001b[0mmissing\u001b[0m\u001b[0;34m,\u001b[0m \u001b[0mhasconst\u001b[0m\u001b[0;34m,\u001b[0m \u001b[0;34m**\u001b[0m\u001b[0mkwargs\u001b[0m\u001b[0;34m)\u001b[0m\u001b[0;34m:\u001b[0m\u001b[0;34m\u001b[0m\u001b[0m\n\u001b[0;32m---> 88\u001b[0;31m         \u001b[0mdata\u001b[0m \u001b[0;34m=\u001b[0m \u001b[0mhandle_data\u001b[0m\u001b[0;34m(\u001b[0m\u001b[0mendog\u001b[0m\u001b[0;34m,\u001b[0m \u001b[0mexog\u001b[0m\u001b[0;34m,\u001b[0m \u001b[0mmissing\u001b[0m\u001b[0;34m,\u001b[0m \u001b[0mhasconst\u001b[0m\u001b[0;34m,\u001b[0m \u001b[0;34m**\u001b[0m\u001b[0mkwargs\u001b[0m\u001b[0;34m)\u001b[0m\u001b[0;34m\u001b[0m\u001b[0m\n\u001b[0m\u001b[1;32m     89\u001b[0m         \u001b[0;31m# kwargs arrays could have changed, easier to just attach here\u001b[0m\u001b[0;34m\u001b[0m\u001b[0;34m\u001b[0m\u001b[0m\n\u001b[1;32m     90\u001b[0m         \u001b[0;32mfor\u001b[0m \u001b[0mkey\u001b[0m \u001b[0;32min\u001b[0m \u001b[0mkwargs\u001b[0m\u001b[0;34m:\u001b[0m\u001b[0;34m\u001b[0m\u001b[0m\n",
      "\u001b[0;32m/home/jvheeswijck/anaconda3/lib/python3.6/site-packages/statsmodels/base/data.py\u001b[0m in \u001b[0;36mhandle_data\u001b[0;34m(endog, exog, missing, hasconst, **kwargs)\u001b[0m\n\u001b[1;32m    628\u001b[0m     \u001b[0mklass\u001b[0m \u001b[0;34m=\u001b[0m \u001b[0mhandle_data_class_factory\u001b[0m\u001b[0;34m(\u001b[0m\u001b[0mendog\u001b[0m\u001b[0;34m,\u001b[0m \u001b[0mexog\u001b[0m\u001b[0;34m)\u001b[0m\u001b[0;34m\u001b[0m\u001b[0m\n\u001b[1;32m    629\u001b[0m     return klass(endog, exog=exog, missing=missing, hasconst=hasconst,\n\u001b[0;32m--> 630\u001b[0;31m                  **kwargs)\n\u001b[0m",
      "\u001b[0;32m/home/jvheeswijck/anaconda3/lib/python3.6/site-packages/statsmodels/base/data.py\u001b[0m in \u001b[0;36m__init__\u001b[0;34m(self, endog, exog, missing, hasconst, **kwargs)\u001b[0m\n\u001b[1;32m     74\u001b[0m             \u001b[0mself\u001b[0m\u001b[0;34m.\u001b[0m\u001b[0morig_endog\u001b[0m \u001b[0;34m=\u001b[0m \u001b[0mendog\u001b[0m\u001b[0;34m\u001b[0m\u001b[0m\n\u001b[1;32m     75\u001b[0m             \u001b[0mself\u001b[0m\u001b[0;34m.\u001b[0m\u001b[0morig_exog\u001b[0m \u001b[0;34m=\u001b[0m \u001b[0mexog\u001b[0m\u001b[0;34m\u001b[0m\u001b[0m\n\u001b[0;32m---> 76\u001b[0;31m             \u001b[0mself\u001b[0m\u001b[0;34m.\u001b[0m\u001b[0mendog\u001b[0m\u001b[0;34m,\u001b[0m \u001b[0mself\u001b[0m\u001b[0;34m.\u001b[0m\u001b[0mexog\u001b[0m \u001b[0;34m=\u001b[0m \u001b[0mself\u001b[0m\u001b[0;34m.\u001b[0m\u001b[0m_convert_endog_exog\u001b[0m\u001b[0;34m(\u001b[0m\u001b[0mendog\u001b[0m\u001b[0;34m,\u001b[0m \u001b[0mexog\u001b[0m\u001b[0;34m)\u001b[0m\u001b[0;34m\u001b[0m\u001b[0m\n\u001b[0m\u001b[1;32m     77\u001b[0m \u001b[0;34m\u001b[0m\u001b[0m\n\u001b[1;32m     78\u001b[0m         \u001b[0;31m# this has side-effects, attaches k_constant and const_idx\u001b[0m\u001b[0;34m\u001b[0m\u001b[0;34m\u001b[0m\u001b[0m\n",
      "\u001b[0;32m/home/jvheeswijck/anaconda3/lib/python3.6/site-packages/statsmodels/base/data.py\u001b[0m in \u001b[0;36m_convert_endog_exog\u001b[0;34m(self, endog, exog)\u001b[0m\n\u001b[1;32m    469\u001b[0m         \u001b[0mexog\u001b[0m \u001b[0;34m=\u001b[0m \u001b[0mexog\u001b[0m \u001b[0;32mif\u001b[0m \u001b[0mexog\u001b[0m \u001b[0;32mis\u001b[0m \u001b[0;32mNone\u001b[0m \u001b[0;32melse\u001b[0m \u001b[0mnp\u001b[0m\u001b[0;34m.\u001b[0m\u001b[0masarray\u001b[0m\u001b[0;34m(\u001b[0m\u001b[0mexog\u001b[0m\u001b[0;34m)\u001b[0m\u001b[0;34m\u001b[0m\u001b[0m\n\u001b[1;32m    470\u001b[0m         \u001b[0;32mif\u001b[0m \u001b[0mendog\u001b[0m\u001b[0;34m.\u001b[0m\u001b[0mdtype\u001b[0m \u001b[0;34m==\u001b[0m \u001b[0mobject\u001b[0m \u001b[0;32mor\u001b[0m \u001b[0mexog\u001b[0m \u001b[0;32mis\u001b[0m \u001b[0;32mnot\u001b[0m \u001b[0;32mNone\u001b[0m \u001b[0;32mand\u001b[0m \u001b[0mexog\u001b[0m\u001b[0;34m.\u001b[0m\u001b[0mdtype\u001b[0m \u001b[0;34m==\u001b[0m \u001b[0mobject\u001b[0m\u001b[0;34m:\u001b[0m\u001b[0;34m\u001b[0m\u001b[0m\n\u001b[0;32m--> 471\u001b[0;31m             raise ValueError(\"Pandas data cast to numpy dtype of object. \"\n\u001b[0m\u001b[1;32m    472\u001b[0m                              \"Check input data with np.asarray(data).\")\n\u001b[1;32m    473\u001b[0m         \u001b[0;32mreturn\u001b[0m \u001b[0msuper\u001b[0m\u001b[0;34m(\u001b[0m\u001b[0mPandasData\u001b[0m\u001b[0;34m,\u001b[0m \u001b[0mself\u001b[0m\u001b[0;34m)\u001b[0m\u001b[0;34m.\u001b[0m\u001b[0m_convert_endog_exog\u001b[0m\u001b[0;34m(\u001b[0m\u001b[0mendog\u001b[0m\u001b[0;34m,\u001b[0m \u001b[0mexog\u001b[0m\u001b[0;34m)\u001b[0m\u001b[0;34m\u001b[0m\u001b[0m\n",
      "\u001b[0;31mValueError\u001b[0m: Pandas data cast to numpy dtype of object. Check input data with np.asarray(data)."
     ]
    }
   ],
   "source": [
    "sm.OLS(df_clean_dropped.lifetime, X)"
   ]
  },
  {
   "cell_type": "code",
   "execution_count": 432,
   "metadata": {},
   "outputs": [
    {
     "data": {
      "text/plain": [
       "['budget',\n",
       " 'country',\n",
       " 'director',\n",
       " 'genre',\n",
       " 'language',\n",
       " 'lifetime',\n",
       " 'mojo_url',\n",
       " 'mpaa',\n",
       " 'opening',\n",
       " 'rating',\n",
       " 'rating_count',\n",
       " 'runtime',\n",
       " 'title',\n",
       " 'url',\n",
       " 'year',\n",
       " 'g_Action',\n",
       " 'g_Adventure',\n",
       " 'g_Animation',\n",
       " 'g_Biography',\n",
       " 'g_Comedy',\n",
       " 'g_Crime',\n",
       " 'g_Drama',\n",
       " 'g_Family',\n",
       " 'g_Fantasy',\n",
       " 'g_History',\n",
       " 'g_Horror',\n",
       " 'g_Music',\n",
       " 'g_Musical',\n",
       " 'g_Mystery',\n",
       " 'g_Romance',\n",
       " 'g_Sci_Fi',\n",
       " 'g_Sport',\n",
       " 'g_Thriller',\n",
       " 'g_War',\n",
       " 'g_Western',\n",
       " 'l_',\n",
       " 'l_Aboriginal',\n",
       " 'l_Acholi',\n",
       " 'l_Afrikaans',\n",
       " 'l_Albanian',\n",
       " 'l_Algonquin',\n",
       " 'l_American_Sign_Language',\n",
       " 'l_Apache_languages',\n",
       " 'l_Arabic',\n",
       " 'l_Aramaic',\n",
       " 'l_Armenian',\n",
       " 'l_Bambara',\n",
       " 'l_Bengali',\n",
       " 'l_Berber_languages',\n",
       " 'l_Bulgarian',\n",
       " 'l_Burmese',\n",
       " 'l_Cantonese',\n",
       " 'l_Catalan',\n",
       " 'l_Chinese',\n",
       " 'l_Croatian',\n",
       " 'l_Czech',\n",
       " 'l_Danish',\n",
       " 'l_Dari',\n",
       " 'l_Dutch',\n",
       " 'l_Egyptian_(Ancient)',\n",
       " 'l_English',\n",
       " 'l_Esperanto',\n",
       " 'l_Estonian',\n",
       " 'l_Filipino',\n",
       " 'l_Finnish',\n",
       " 'l_Flemish',\n",
       " 'l_French',\n",
       " 'l_Georgian',\n",
       " 'l_German',\n",
       " 'l_Greek',\n",
       " 'l_Greenlandic',\n",
       " 'l_Hawaiian',\n",
       " 'l_Hebrew',\n",
       " 'l_Hindi',\n",
       " 'l_Hmong',\n",
       " 'l_Hungarian',\n",
       " 'l_Ibo',\n",
       " 'l_Icelandic',\n",
       " 'l_Indonesian',\n",
       " 'l_Irish',\n",
       " 'l_Italian',\n",
       " 'l_Japanese',\n",
       " 'l_Japanese_Sign_Language',\n",
       " 'l_Khmer',\n",
       " 'l_Kirundi',\n",
       " 'l_Klingon',\n",
       " 'l_Korean',\n",
       " 'l_Latin',\n",
       " 'l_Lingala',\n",
       " 'l_Mandarin',\n",
       " 'l_Maori',\n",
       " 'l_Maya',\n",
       " 'l_Mende',\n",
       " 'l_Mongolian',\n",
       " 'l_Navajo',\n",
       " 'l_None',\n",
       " 'l_North_American_Indian',\n",
       " 'l_Norwegian',\n",
       " 'l_Nyanja',\n",
       " 'l_Old_English',\n",
       " 'l_Panjabi',\n",
       " 'l_Pawnee',\n",
       " 'l_Persian',\n",
       " 'l_Polish',\n",
       " 'l_Portuguese',\n",
       " 'l_Pushto',\n",
       " 'l_Romanian',\n",
       " 'l_Romany',\n",
       " 'l_Russian',\n",
       " 'l_Sanskrit',\n",
       " 'l_Scottish_Gaelic',\n",
       " 'l_Serbian',\n",
       " 'l_Serbo_Croatian',\n",
       " 'l_Sign_Languages',\n",
       " 'l_Slovak',\n",
       " 'l_Somali',\n",
       " 'l_Southern_Sotho',\n",
       " 'l_Spanish',\n",
       " 'l_Swahili',\n",
       " 'l_Swedish',\n",
       " 'l_Swiss_German',\n",
       " 'l_Syriac',\n",
       " 'l_Tagalog',\n",
       " 'l_Tamil',\n",
       " 'l_Thai',\n",
       " 'l_Tibetan',\n",
       " 'l_Turkish',\n",
       " 'l_Ukrainian',\n",
       " 'l_Urdu',\n",
       " 'l_Vietnamese',\n",
       " 'l_Welsh',\n",
       " 'l_Xhosa',\n",
       " 'l_Yiddish',\n",
       " 'l_Zulu',\n",
       " 'l__Ancient_(to_1453)',\n",
       " 'm_NC',\n",
       " 'm_PG',\n",
       " 'm_PG_',\n",
       " 'm_PGthirt',\n",
       " 'm_R',\n",
       " 'd_Algeria',\n",
       " 'd_Australia',\n",
       " 'd_Austria',\n",
       " 'd_Bahamas',\n",
       " 'd_Belgium',\n",
       " 'd_Brazil',\n",
       " 'd_Canada',\n",
       " 'd_Chile',\n",
       " 'd_China',\n",
       " 'd_Czech_Republic',\n",
       " 'd_Denmark',\n",
       " 'd_Finland',\n",
       " 'd_France',\n",
       " 'd_Georgia',\n",
       " 'd_Germany',\n",
       " 'd_Greece',\n",
       " 'd_Hong_Kong',\n",
       " 'd_Hungary',\n",
       " 'd_Iceland',\n",
       " 'd_India',\n",
       " 'd_Indonesia',\n",
       " 'd_Iran',\n",
       " 'd_Ireland',\n",
       " 'd_Israel',\n",
       " 'd_Italy',\n",
       " 'd_Japan',\n",
       " 'd_Kenya',\n",
       " 'd_Malta',\n",
       " 'd_Mexico',\n",
       " 'd_New_Zealand',\n",
       " 'd_Norway',\n",
       " 'd_Palestine',\n",
       " 'd_Panama',\n",
       " 'd_Romania',\n",
       " 'd_Russia',\n",
       " 'd_South_Africa',\n",
       " 'd_South_Korea',\n",
       " 'd_Spain',\n",
       " 'd_Sweden',\n",
       " 'd_UK',\n",
       " 'd_USA']"
      ]
     },
     "execution_count": 432,
     "metadata": {},
     "output_type": "execute_result"
    }
   ],
   "source": [
    "list(df_clean.columns)"
   ]
  },
  {
   "cell_type": "code",
   "execution_count": 216,
   "metadata": {},
   "outputs": [
    {
     "data": {
      "text/plain": [
       "164      10001982\n",
       "1175     10003827\n",
       "100     100038390\n",
       "418        100040\n",
       "679         10020\n",
       "282      10021215\n",
       "1023       100268\n",
       "111        100316\n",
       "797        100847\n",
       "265      10106872\n",
       "883      10177257\n",
       "446      10203437\n",
       "827       1021768\n",
       "516        102351\n",
       "1231    102665981\n",
       "940        102706\n",
       "54       10278225\n",
       "280      10283250\n",
       "1146     10288932\n",
       "145     103261464\n",
       "143      10326356\n",
       "488         10340\n",
       "544         10367\n",
       "1120     10408176\n",
       "650         10422\n",
       "76      104352905\n",
       "129      10441000\n",
       "1049     10470143\n",
       "991        105005\n",
       "816      10515659\n",
       "          ...    \n",
       "661           NaN\n",
       "667           NaN\n",
       "669           NaN\n",
       "683           NaN\n",
       "684           NaN\n",
       "690           NaN\n",
       "697           NaN\n",
       "706           NaN\n",
       "739           NaN\n",
       "750           NaN\n",
       "772           NaN\n",
       "802           NaN\n",
       "805           NaN\n",
       "826           NaN\n",
       "877           NaN\n",
       "908           NaN\n",
       "913           NaN\n",
       "918           NaN\n",
       "924           NaN\n",
       "926           NaN\n",
       "958           NaN\n",
       "965           NaN\n",
       "981           NaN\n",
       "986           NaN\n",
       "990           NaN\n",
       "1014          NaN\n",
       "1045          NaN\n",
       "1086          NaN\n",
       "1164          NaN\n",
       "1174          NaN\n",
       "Name: opening, Length: 1264, dtype: object"
      ]
     },
     "execution_count": 216,
     "metadata": {},
     "output_type": "execute_result"
    }
   ],
   "source": [
    "X = df_clean.drop(['url', ])"
   ]
  },
  {
   "cell_type": "code",
   "execution_count": 26,
   "metadata": {
    "collapsed": true
   },
   "outputs": [],
   "source": [
    "ary = np.arange(0,100,0.01)"
   ]
  },
  {
   "cell_type": "code",
   "execution_count": 31,
   "metadata": {},
   "outputs": [
    {
     "name": "stdout",
     "output_type": "stream",
     "text": [
      "The slowest run took 24.38 times longer than the fastest. This could mean that an intermediate result is being cached.\n",
      "100000 loops, best of 3: 11.4 µs per loop\n"
     ]
    }
   ],
   "source": [
    "%%timeit\n",
    "ary2 = ary*2 - 0.01"
   ]
  },
  {
   "cell_type": "code",
   "execution_count": 30,
   "metadata": {},
   "outputs": [
    {
     "data": {
      "text/plain": [
       "array([ -1.00000000e-02,   1.00000000e-02,   3.00000000e-02, ...,\n",
       "         1.99930000e+02,   1.99950000e+02,   1.99970000e+02])"
      ]
     },
     "execution_count": 30,
     "metadata": {},
     "output_type": "execute_result"
    }
   ],
   "source": [
    "ary3 ="
   ]
  },
  {
   "cell_type": "code",
   "execution_count": 67,
   "metadata": {
    "collapsed": true
   },
   "outputs": [],
   "source": [
    "import urllib.parse"
   ]
  },
  {
   "cell_type": "code",
   "execution_count": 69,
   "metadata": {},
   "outputs": [
    {
     "data": {
      "text/plain": [
       "'This%20is%20the%20film%20%282009%29'"
      ]
     },
     "execution_count": 69,
     "metadata": {},
     "output_type": "execute_result"
    }
   ],
   "source": [
    "urllib.parse.quote('This is the film (2009)')"
   ]
  },
  {
   "cell_type": "code",
   "execution_count": 106,
   "metadata": {
    "collapsed": true
   },
   "outputs": [],
   "source": [
    "l = [1,2,3,4]"
   ]
  },
  {
   "cell_type": "code",
   "execution_count": 107,
   "metadata": {},
   "outputs": [
    {
     "ename": "AttributeError",
     "evalue": "'list' object has no attribute 'split'",
     "output_type": "error",
     "traceback": [
      "\u001b[0;31m---------------------------------------------------------------------------\u001b[0m",
      "\u001b[0;31mAttributeError\u001b[0m                            Traceback (most recent call last)",
      "\u001b[0;32m<ipython-input-107-e46f1139e64a>\u001b[0m in \u001b[0;36m<module>\u001b[0;34m()\u001b[0m\n\u001b[0;32m----> 1\u001b[0;31m \u001b[0ml\u001b[0m\u001b[0;34m.\u001b[0m\u001b[0msplit\u001b[0m\u001b[0;34m(\u001b[0m\u001b[0;34m)\u001b[0m\u001b[0;34m\u001b[0m\u001b[0m\n\u001b[0m",
      "\u001b[0;31mAttributeError\u001b[0m: 'list' object has no attribute 'split'"
     ]
    }
   ],
   "source": [
    "l.split()"
   ]
  },
  {
   "cell_type": "code",
   "execution_count": null,
   "metadata": {
    "collapsed": true
   },
   "outputs": [],
   "source": []
  }
 ],
 "metadata": {
  "kernelspec": {
   "display_name": "Python 3",
   "language": "python",
   "name": "python3"
  },
  "language_info": {
   "codemirror_mode": {
    "name": "ipython",
    "version": 3
   },
   "file_extension": ".py",
   "mimetype": "text/x-python",
   "name": "python",
   "nbconvert_exporter": "python",
   "pygments_lexer": "ipython3",
   "version": "3.6.1"
  }
 },
 "nbformat": 4,
 "nbformat_minor": 2
}
