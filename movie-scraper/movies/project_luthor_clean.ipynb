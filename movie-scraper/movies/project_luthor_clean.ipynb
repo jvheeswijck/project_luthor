{
 "cells": [
  {
   "cell_type": "code",
   "execution_count": 159,
   "metadata": {},
   "outputs": [],
   "source": [
    "import pandas as pd\n",
    "import json\n",
    "import re\n",
    "import numpy as np\n",
    "import matplotlib.pyplot as plt\n",
    "import seaborn as sns\n",
    "import scipy.stats as stats\n",
    "import statsmodels.regression.linear_model as sm\n",
    "from sklearn.linear_model import LinearRegression\n",
    "from sklearn.pipeline import make_pipeline\n",
    "from sklearn.preprocessing import PolynomialFeatures\n",
    "from sklearn.model_selection import train_test_split\n",
    "from sklearn.metrics import classification_report\n",
    "from sklearn.model_selection import train_test_split\n",
    "from sklearn.metrics import mean_squared_error\n",
    "from sklearn.linear_model import RidgeCV\n",
    "from sklearn.linear_model import Ridge\n",
    "from sklearn.cross_validation import cross_val_score\n",
    "from sklearn import feature_selection as f_select\n",
    "from sklearn.linear_model import Lasso\n",
    "from sklearn.linear_model import ElasticNet\n",
    "from sklearn.preprocessing import StandardScaler\n",
    "from sklearn.metrics import mean_squared_error\n",
    "from sklearn.cross_validation import cross_val_predict\n",
    "from sklearn.metrics import r2_score\n",
    "from statsmodels.regression.linear_model import RegressionResults\n",
    "from scipy.stats.mstats import zscore\n",
    "%matplotlib inline"
   ]
  },
  {
   "cell_type": "code",
   "execution_count": 160,
   "metadata": {
    "collapsed": true
   },
   "outputs": [],
   "source": [
    "# Load movie data\n",
    "with open('result10.json') as f:\n",
    "    data = json.load(f)\n",
    "\n",
    "with open('studios.txt') as f:\n",
    "    studios = []\n",
    "    for s in f:\n",
    "        studios.append(s.strip())\n",
    "        "
   ]
  },
  {
   "cell_type": "code",
   "execution_count": 161,
   "metadata": {
    "collapsed": true
   },
   "outputs": [],
   "source": [
    "# Load inflation data\n",
    "inf_index = pd.read_csv('inflation.csv', header=None)\n",
    "inf_index.columns = ['year', 'inflation']\n",
    "inf_index.year = inf_index.year.str.replace('[^\\d]*', '').astype(int)\n",
    "inf_index.inflation = inf_index.inflation.str\\\n",
    "                                            .replace('[^\\w]*', '')\\\n",
    "                                            .astype(float)\\\n",
    "                                            .apply(lambda x: x/10000)"
   ]
  },
  {
   "cell_type": "code",
   "execution_count": 162,
   "metadata": {},
   "outputs": [
    {
     "data": {
      "text/plain": [
       "['budget',\n",
       " 'country',\n",
       " 'director',\n",
       " 'genre',\n",
       " 'language',\n",
       " 'lifetime',\n",
       " 'mojo_url',\n",
       " 'mpaa',\n",
       " 'opening',\n",
       " 'rating',\n",
       " 'rating_count',\n",
       " 'release',\n",
       " 'runtime',\n",
       " 'studio',\n",
       " 'theaters',\n",
       " 'title',\n",
       " 'url',\n",
       " 'worldwide',\n",
       " 'year']"
      ]
     },
     "execution_count": 162,
     "metadata": {},
     "output_type": "execute_result"
    }
   ],
   "source": [
    "# Load dataframe\n",
    "df = pd.DataFrame(data)\n",
    "df.drop(['download_latency', 'download_slot','download_timeout', 'depth'], axis=1, inplace=True)\n",
    "df.columns.tolist()"
   ]
  },
  {
   "cell_type": "code",
   "execution_count": 163,
   "metadata": {
    "collapsed": true
   },
   "outputs": [],
   "source": [
    "# Replace None, nan, or n/a strings with np.nan\n",
    "df = df.applymap(lambda x: np.nan if ((str(x).lower() == 'nan') or (str(x) == 'n/a') or (str(x) == 'None')) else x)"
   ]
  },
  {
   "cell_type": "code",
   "execution_count": 164,
   "metadata": {},
   "outputs": [
    {
     "data": {
      "text/plain": [
       "(2370, 19)"
      ]
     },
     "execution_count": 164,
     "metadata": {},
     "output_type": "execute_result"
    }
   ],
   "source": [
    "df = df.dropna(how='any')\n",
    "df.shape"
   ]
  },
  {
   "cell_type": "markdown",
   "metadata": {},
   "source": [
    "# Time to format and clean the data"
   ]
  },
  {
   "cell_type": "code",
   "execution_count": 165,
   "metadata": {
    "collapsed": true
   },
   "outputs": [],
   "source": [
    "def adjust_inflation(start_year, year):\n",
    "    ci = 1\n",
    "    for i in range(start_year, year + 1):\n",
    "        ci *= (inf_index.loc[inf_index.year==i, 'inflation'].values + 1)\n",
    "    return ci"
   ]
  },
  {
   "cell_type": "code",
   "execution_count": 166,
   "metadata": {
    "collapsed": true
   },
   "outputs": [],
   "source": [
    "def mpaa_num(s):\n",
    "    code = {\n",
    "        'G':5,\n",
    "        'PG':4,\n",
    "        'PG-13':3,\n",
    "        'R':2,\n",
    "        'NC-17':1\n",
    "    }\n",
    "    return code[s]"
   ]
  },
  {
   "cell_type": "code",
   "execution_count": 167,
   "metadata": {
    "collapsed": true
   },
   "outputs": [],
   "source": [
    "# Type conversions\n",
    "df.rating = df.rating.astype(float)\n",
    "df.runtime = df.runtime.astype(float)\n",
    "df.year = df.year.astype(int)\n",
    "\n",
    "\n",
    "df.opening = df.opening.str.replace(r'[^\\d]', '').astype(float)\n",
    "df.theaters = df.theaters.str.replace(r'[^\\d]', '').astype(float)\n",
    "df.lifetime = df.lifetime.str.replace(r'[^\\d]', '').astype(float)\n",
    "df.worldwide = df.worldwide.str.replace(r'[^\\d]', '').astype(float)\n",
    "\n",
    "\n",
    "# Datetime\n",
    "df.release = pd.to_datetime(df.release, format='%Y-%m-%d')\n",
    "df['month_cat'] = df.release.dt.strftime('%B')\n",
    "\n",
    "# Currency Convert\n",
    "df.budget = df.budget.str.replace(r'[^\\d]', '').astype(float)"
   ]
  },
  {
   "cell_type": "code",
   "execution_count": 168,
   "metadata": {
    "collapsed": true
   },
   "outputs": [],
   "source": [
    "# Processed Columns\n",
    "\n",
    "# Inflation Adjusted\n",
    "start_year = 2000\n",
    "l = ['opening', 'lifetime', 'worldwide', 'budget']\n",
    "for e in l:\n",
    "    df[str(e + '_adjusted')] = df.apply(lambda x: (x[e] * adjust_inflation(start_year, x['year'])), axis=1)[e]\n",
    "\n",
    "# Log the money values\n",
    "df['log_opening'] = np.log(df.opening)\n",
    "df['log_lifetime'] = np.log(df.lifetime)\n",
    "df['log_worldwide'] = np.log(df.worldwide)\n",
    "df['log_budget'] = np.log(df.budget)\n",
    "\n",
    "# Log inflation adjusted money values\n",
    "df['log_opening_adjusted'] = np.log(df.opening_adjusted)\n",
    "df['log_lifetime_adjusted'] = np.log(df.lifetime_adjusted)\n",
    "df['log_worldwide_adjusted'] = np.log(df.worldwide)\n",
    "df['log_budget_adjusted'] = np.log(df.budget_adjusted)\n",
    "\n",
    "# Fix odd MPAA value\n",
    "df.loc[df.mpaa =='PG-', 'mpaa'] = 'PG-13'\n",
    "df.mpaa.value_counts()\n",
    "\n",
    "# Make a ordinal MPAA column\n",
    "df['mpaa_ord'] = df.mpaa.apply(mpaa_num)\n"
   ]
  },
  {
   "cell_type": "code",
   "execution_count": 169,
   "metadata": {
    "collapsed": true
   },
   "outputs": [],
   "source": [
    "def find_sig_cols(X, y, alpha=0.05):\n",
    "    sig_cols = []\n",
    "    for c in X.columns:\n",
    "        pvalue = f_select.f_regression(X[[c]], y)[1][0]\n",
    "        if pvalue <= alpha:\n",
    "            sig_cols.append(c)\n",
    "\n",
    "    return sig_cols"
   ]
  },
  {
   "cell_type": "code",
   "execution_count": 170,
   "metadata": {
    "scrolled": true
   },
   "outputs": [
    {
     "data": {
      "text/plain": [
       "<matplotlib.text.Text at 0x7f49db69d2b0>"
      ]
     },
     "execution_count": 170,
     "metadata": {},
     "output_type": "execute_result"
    },
    {
     "data": {
      "image/png": "[encoded data removed]",
      "text/plain": [
       "<matplotlib.figure.Figure at 0x7f49ed690dd8>"
      ]
     },
     "metadata": {},
     "output_type": "display_data"
    }
   ],
   "source": [
    "ax = df.worldwide_adjusted.plot(kind='hist', bins=40)\n",
    "ax.set_title('Distribution of World Box Office')"
   ]
  },
  {
   "cell_type": "markdown",
   "metadata": {},
   "source": [
    "Let's take a look at what columns may be relavent to predictin the domestic box office gross. If we begin to try to predict"
   ]
  },
  {
   "cell_type": "code",
   "execution_count": 171,
   "metadata": {},
   "outputs": [
    {
     "data": {
      "text/plain": [
       "\"df_big = df[df.theaters > 50] #.plot(kind='hist', bins=40)\\ndf_small = df[df.theaters < 50]\\ndf_big.shape\""
      ]
     },
     "execution_count": 171,
     "metadata": {},
     "output_type": "execute_result"
    }
   ],
   "source": [
    "# Release theaters divides opening\n",
    "'''df_big = df[df.theaters > 50] #.plot(kind='hist', bins=40)\n",
    "df_small = df[df.theaters < 50]\n",
    "df_big.shape'''"
   ]
  },
  {
   "cell_type": "code",
   "execution_count": 172,
   "metadata": {
    "collapsed": true
   },
   "outputs": [],
   "source": [
    "#df_small.log_opening.plot(kind='hist', bins=40)"
   ]
  },
  {
   "cell_type": "code",
   "execution_count": 173,
   "metadata": {},
   "outputs": [
    {
     "data": {
      "text/plain": [
       "Index(['budget', 'country', 'director', 'genre', 'language', 'lifetime',\n",
       "       'mojo_url', 'mpaa', 'opening', 'rating', 'rating_count', 'release',\n",
       "       'runtime', 'studio', 'theaters', 'title', 'url', 'worldwide', 'year',\n",
       "       'month_cat', 'opening_adjusted', 'lifetime_adjusted',\n",
       "       'worldwide_adjusted', 'budget_adjusted', 'log_opening', 'log_lifetime',\n",
       "       'log_worldwide', 'log_budget', 'log_opening_adjusted',\n",
       "       'log_lifetime_adjusted', 'log_worldwide_adjusted',\n",
       "       'log_budget_adjusted', 'mpaa_ord'],\n",
       "      dtype='object')"
      ]
     },
     "execution_count": 173,
     "metadata": {},
     "output_type": "execute_result"
    }
   ],
   "source": [
    "df = df[df.theaters > 100]\n",
    "df.columns"
   ]
  },
  {
   "cell_type": "code",
   "execution_count": 174,
   "metadata": {},
   "outputs": [
    {
     "data": {
      "text/html": [
       "<div>\n",
       "<style>\n",
       "    .dataframe thead tr:only-child th {\n",
       "        text-align: right;\n",
       "    }\n",
       "\n",
       "    .dataframe thead th {\n",
       "        text-align: left;\n",
       "    }\n",
       "\n",
       "    .dataframe tbody tr th {\n",
       "        vertical-align: top;\n",
       "    }\n",
       "</style>\n",
       "<table border=\"1\" class=\"dataframe\">\n",
       "  <thead>\n",
       "    <tr style=\"text-align: right;\">\n",
       "      <th></th>\n",
       "      <th>log_budget_adjusted</th>\n",
       "      <th>runtime</th>\n",
       "      <th>theaters</th>\n",
       "      <th>year</th>\n",
       "      <th>intercept</th>\n",
       "    </tr>\n",
       "  </thead>\n",
       "  <tbody>\n",
       "    <tr>\n",
       "      <th>2</th>\n",
       "      <td>-1.007875</td>\n",
       "      <td>-0.624997</td>\n",
       "      <td>0.273710</td>\n",
       "      <td>1.717153</td>\n",
       "      <td>1</td>\n",
       "    </tr>\n",
       "    <tr>\n",
       "      <th>6</th>\n",
       "      <td>0.795722</td>\n",
       "      <td>0.463441</td>\n",
       "      <td>1.083055</td>\n",
       "      <td>1.717153</td>\n",
       "      <td>1</td>\n",
       "    </tr>\n",
       "    <tr>\n",
       "      <th>8</th>\n",
       "      <td>-0.063089</td>\n",
       "      <td>0.578013</td>\n",
       "      <td>0.773970</td>\n",
       "      <td>1.717153</td>\n",
       "      <td>1</td>\n",
       "    </tr>\n",
       "    <tr>\n",
       "      <th>9</th>\n",
       "      <td>1.893028</td>\n",
       "      <td>1.609164</td>\n",
       "      <td>1.884386</td>\n",
       "      <td>1.717153</td>\n",
       "      <td>1</td>\n",
       "    </tr>\n",
       "    <tr>\n",
       "      <th>11</th>\n",
       "      <td>1.178325</td>\n",
       "      <td>-0.109421</td>\n",
       "      <td>1.166622</td>\n",
       "      <td>1.717153</td>\n",
       "      <td>1</td>\n",
       "    </tr>\n",
       "    <tr>\n",
       "      <th>12</th>\n",
       "      <td>1.977145</td>\n",
       "      <td>2.353885</td>\n",
       "      <td>1.566143</td>\n",
       "      <td>1.717153</td>\n",
       "      <td>1</td>\n",
       "    </tr>\n",
       "    <tr>\n",
       "      <th>13</th>\n",
       "      <td>1.755344</td>\n",
       "      <td>1.036302</td>\n",
       "      <td>1.146017</td>\n",
       "      <td>1.717153</td>\n",
       "      <td>1</td>\n",
       "    </tr>\n",
       "    <tr>\n",
       "      <th>14</th>\n",
       "      <td>0.810558</td>\n",
       "      <td>-0.395852</td>\n",
       "      <td>1.540959</td>\n",
       "      <td>1.717153</td>\n",
       "      <td>1</td>\n",
       "    </tr>\n",
       "    <tr>\n",
       "      <th>15</th>\n",
       "      <td>2.037136</td>\n",
       "      <td>1.208161</td>\n",
       "      <td>1.803108</td>\n",
       "      <td>1.717153</td>\n",
       "      <td>1</td>\n",
       "    </tr>\n",
       "    <tr>\n",
       "      <th>18</th>\n",
       "      <td>1.662945</td>\n",
       "      <td>1.208161</td>\n",
       "      <td>1.727554</td>\n",
       "      <td>1.717153</td>\n",
       "      <td>1</td>\n",
       "    </tr>\n",
       "    <tr>\n",
       "      <th>20</th>\n",
       "      <td>1.146919</td>\n",
       "      <td>0.807158</td>\n",
       "      <td>1.213558</td>\n",
       "      <td>1.717153</td>\n",
       "      <td>1</td>\n",
       "    </tr>\n",
       "    <tr>\n",
       "      <th>23</th>\n",
       "      <td>-0.777792</td>\n",
       "      <td>0.062437</td>\n",
       "      <td>0.917065</td>\n",
       "      <td>1.717153</td>\n",
       "      <td>1</td>\n",
       "    </tr>\n",
       "    <tr>\n",
       "      <th>25</th>\n",
       "      <td>1.218766</td>\n",
       "      <td>1.895595</td>\n",
       "      <td>1.490589</td>\n",
       "      <td>1.717153</td>\n",
       "      <td>1</td>\n",
       "    </tr>\n",
       "    <tr>\n",
       "      <th>26</th>\n",
       "      <td>0.385487</td>\n",
       "      <td>0.463441</td>\n",
       "      <td>-0.439475</td>\n",
       "      <td>1.523331</td>\n",
       "      <td>1</td>\n",
       "    </tr>\n",
       "    <tr>\n",
       "      <th>27</th>\n",
       "      <td>0.602323</td>\n",
       "      <td>0.005151</td>\n",
       "      <td>0.981171</td>\n",
       "      <td>1.523331</td>\n",
       "      <td>1</td>\n",
       "    </tr>\n",
       "    <tr>\n",
       "      <th>28</th>\n",
       "      <td>1.755344</td>\n",
       "      <td>1.437306</td>\n",
       "      <td>1.885531</td>\n",
       "      <td>1.717153</td>\n",
       "      <td>1</td>\n",
       "    </tr>\n",
       "    <tr>\n",
       "      <th>30</th>\n",
       "      <td>-0.589800</td>\n",
       "      <td>0.119723</td>\n",
       "      <td>0.528992</td>\n",
       "      <td>1.717153</td>\n",
       "      <td>1</td>\n",
       "    </tr>\n",
       "    <tr>\n",
       "      <th>32</th>\n",
       "      <td>1.146919</td>\n",
       "      <td>1.666451</td>\n",
       "      <td>0.377883</td>\n",
       "      <td>1.717153</td>\n",
       "      <td>1</td>\n",
       "    </tr>\n",
       "    <tr>\n",
       "      <th>36</th>\n",
       "      <td>0.752362</td>\n",
       "      <td>2.583030</td>\n",
       "      <td>0.531281</td>\n",
       "      <td>0.166571</td>\n",
       "      <td>1</td>\n",
       "    </tr>\n",
       "    <tr>\n",
       "      <th>37</th>\n",
       "      <td>1.127558</td>\n",
       "      <td>4.129757</td>\n",
       "      <td>-0.187628</td>\n",
       "      <td>0.941862</td>\n",
       "      <td>1</td>\n",
       "    </tr>\n",
       "    <tr>\n",
       "      <th>39</th>\n",
       "      <td>1.241138</td>\n",
       "      <td>0.348868</td>\n",
       "      <td>1.231874</td>\n",
       "      <td>1.329508</td>\n",
       "      <td>1</td>\n",
       "    </tr>\n",
       "    <tr>\n",
       "      <th>42</th>\n",
       "      <td>1.798307</td>\n",
       "      <td>0.807158</td>\n",
       "      <td>1.404732</td>\n",
       "      <td>1.523331</td>\n",
       "      <td>1</td>\n",
       "    </tr>\n",
       "    <tr>\n",
       "      <th>43</th>\n",
       "      <td>0.625696</td>\n",
       "      <td>2.353885</td>\n",
       "      <td>0.358423</td>\n",
       "      <td>1.135685</td>\n",
       "      <td>1</td>\n",
       "    </tr>\n",
       "    <tr>\n",
       "      <th>46</th>\n",
       "      <td>0.317478</td>\n",
       "      <td>1.150875</td>\n",
       "      <td>0.722456</td>\n",
       "      <td>1.523331</td>\n",
       "      <td>1</td>\n",
       "    </tr>\n",
       "    <tr>\n",
       "      <th>47</th>\n",
       "      <td>0.651614</td>\n",
       "      <td>-0.739569</td>\n",
       "      <td>0.858682</td>\n",
       "      <td>1.717153</td>\n",
       "      <td>1</td>\n",
       "    </tr>\n",
       "    <tr>\n",
       "      <th>49</th>\n",
       "      <td>-0.534052</td>\n",
       "      <td>0.807158</td>\n",
       "      <td>-0.125811</td>\n",
       "      <td>1.717153</td>\n",
       "      <td>1</td>\n",
       "    </tr>\n",
       "    <tr>\n",
       "      <th>52</th>\n",
       "      <td>1.319513</td>\n",
       "      <td>3.098605</td>\n",
       "      <td>1.041844</td>\n",
       "      <td>0.166571</td>\n",
       "      <td>1</td>\n",
       "    </tr>\n",
       "    <tr>\n",
       "      <th>53</th>\n",
       "      <td>2.108776</td>\n",
       "      <td>2.468457</td>\n",
       "      <td>1.764187</td>\n",
       "      <td>1.523331</td>\n",
       "      <td>1</td>\n",
       "    </tr>\n",
       "    <tr>\n",
       "      <th>55</th>\n",
       "      <td>2.066819</td>\n",
       "      <td>1.609164</td>\n",
       "      <td>1.640553</td>\n",
       "      <td>1.329508</td>\n",
       "      <td>1</td>\n",
       "    </tr>\n",
       "    <tr>\n",
       "      <th>58</th>\n",
       "      <td>0.023006</td>\n",
       "      <td>0.291582</td>\n",
       "      <td>1.033830</td>\n",
       "      <td>1.135685</td>\n",
       "      <td>1</td>\n",
       "    </tr>\n",
       "    <tr>\n",
       "      <th>...</th>\n",
       "      <td>...</td>\n",
       "      <td>...</td>\n",
       "      <td>...</td>\n",
       "      <td>...</td>\n",
       "      <td>...</td>\n",
       "    </tr>\n",
       "    <tr>\n",
       "      <th>3127</th>\n",
       "      <td>0.180651</td>\n",
       "      <td>-1.083286</td>\n",
       "      <td>0.839221</td>\n",
       "      <td>1.717153</td>\n",
       "      <td>1</td>\n",
       "    </tr>\n",
       "    <tr>\n",
       "      <th>3128</th>\n",
       "      <td>1.582064</td>\n",
       "      <td>-0.052135</td>\n",
       "      <td>1.344060</td>\n",
       "      <td>1.523331</td>\n",
       "      <td>1</td>\n",
       "    </tr>\n",
       "    <tr>\n",
       "      <th>3129</th>\n",
       "      <td>1.812642</td>\n",
       "      <td>0.578013</td>\n",
       "      <td>1.310862</td>\n",
       "      <td>1.717153</td>\n",
       "      <td>1</td>\n",
       "    </tr>\n",
       "    <tr>\n",
       "      <th>3130</th>\n",
       "      <td>1.276599</td>\n",
       "      <td>-0.052135</td>\n",
       "      <td>0.846090</td>\n",
       "      <td>1.717153</td>\n",
       "      <td>1</td>\n",
       "    </tr>\n",
       "    <tr>\n",
       "      <th>3133</th>\n",
       "      <td>2.123111</td>\n",
       "      <td>1.609164</td>\n",
       "      <td>1.842030</td>\n",
       "      <td>1.717153</td>\n",
       "      <td>1</td>\n",
       "    </tr>\n",
       "    <tr>\n",
       "      <th>3136</th>\n",
       "      <td>-0.334986</td>\n",
       "      <td>2.182026</td>\n",
       "      <td>-0.191062</td>\n",
       "      <td>0.554217</td>\n",
       "      <td>1</td>\n",
       "    </tr>\n",
       "    <tr>\n",
       "      <th>3137</th>\n",
       "      <td>0.996417</td>\n",
       "      <td>0.921730</td>\n",
       "      <td>0.525557</td>\n",
       "      <td>1.523331</td>\n",
       "      <td>1</td>\n",
       "    </tr>\n",
       "    <tr>\n",
       "      <th>3140</th>\n",
       "      <td>1.548962</td>\n",
       "      <td>2.296599</td>\n",
       "      <td>1.249045</td>\n",
       "      <td>0.360394</td>\n",
       "      <td>1</td>\n",
       "    </tr>\n",
       "    <tr>\n",
       "      <th>3143</th>\n",
       "      <td>1.582064</td>\n",
       "      <td>0.005151</td>\n",
       "      <td>1.289112</td>\n",
       "      <td>1.523331</td>\n",
       "      <td>1</td>\n",
       "    </tr>\n",
       "    <tr>\n",
       "      <th>3144</th>\n",
       "      <td>0.948242</td>\n",
       "      <td>-0.223994</td>\n",
       "      <td>1.587894</td>\n",
       "      <td>1.717153</td>\n",
       "      <td>1</td>\n",
       "    </tr>\n",
       "    <tr>\n",
       "      <th>3146</th>\n",
       "      <td>0.034372</td>\n",
       "      <td>1.265447</td>\n",
       "      <td>-0.480686</td>\n",
       "      <td>-0.414897</td>\n",
       "      <td>1</td>\n",
       "    </tr>\n",
       "    <tr>\n",
       "      <th>3147</th>\n",
       "      <td>0.870521</td>\n",
       "      <td>2.468457</td>\n",
       "      <td>0.361857</td>\n",
       "      <td>-0.414897</td>\n",
       "      <td>1</td>\n",
       "    </tr>\n",
       "    <tr>\n",
       "      <th>3148</th>\n",
       "      <td>0.219204</td>\n",
       "      <td>1.494592</td>\n",
       "      <td>0.735048</td>\n",
       "      <td>1.523331</td>\n",
       "      <td>1</td>\n",
       "    </tr>\n",
       "    <tr>\n",
       "      <th>3149</th>\n",
       "      <td>0.198078</td>\n",
       "      <td>0.979016</td>\n",
       "      <td>1.081910</td>\n",
       "      <td>1.329508</td>\n",
       "      <td>1</td>\n",
       "    </tr>\n",
       "    <tr>\n",
       "      <th>3150</th>\n",
       "      <td>2.108776</td>\n",
       "      <td>2.239312</td>\n",
       "      <td>1.745870</td>\n",
       "      <td>1.523331</td>\n",
       "      <td>1</td>\n",
       "    </tr>\n",
       "    <tr>\n",
       "      <th>3151</th>\n",
       "      <td>0.561896</td>\n",
       "      <td>0.578013</td>\n",
       "      <td>1.155175</td>\n",
       "      <td>1.717153</td>\n",
       "      <td>1</td>\n",
       "    </tr>\n",
       "    <tr>\n",
       "      <th>3152</th>\n",
       "      <td>2.056992</td>\n",
       "      <td>3.213178</td>\n",
       "      <td>1.949638</td>\n",
       "      <td>0.748040</td>\n",
       "      <td>1</td>\n",
       "    </tr>\n",
       "    <tr>\n",
       "      <th>3153</th>\n",
       "      <td>-0.524124</td>\n",
       "      <td>-0.395852</td>\n",
       "      <td>-0.128100</td>\n",
       "      <td>1.135685</td>\n",
       "      <td>1</td>\n",
       "    </tr>\n",
       "    <tr>\n",
       "      <th>3156</th>\n",
       "      <td>-0.063089</td>\n",
       "      <td>0.406154</td>\n",
       "      <td>0.690403</td>\n",
       "      <td>1.717153</td>\n",
       "      <td>1</td>\n",
       "    </tr>\n",
       "    <tr>\n",
       "      <th>3157</th>\n",
       "      <td>0.867361</td>\n",
       "      <td>0.005151</td>\n",
       "      <td>1.512340</td>\n",
       "      <td>1.523331</td>\n",
       "      <td>1</td>\n",
       "    </tr>\n",
       "    <tr>\n",
       "      <th>3158</th>\n",
       "      <td>1.596400</td>\n",
       "      <td>1.838309</td>\n",
       "      <td>1.512340</td>\n",
       "      <td>1.717153</td>\n",
       "      <td>1</td>\n",
       "    </tr>\n",
       "    <tr>\n",
       "      <th>3159</th>\n",
       "      <td>0.233539</td>\n",
       "      <td>-1.140573</td>\n",
       "      <td>0.495794</td>\n",
       "      <td>1.717153</td>\n",
       "      <td>1</td>\n",
       "    </tr>\n",
       "    <tr>\n",
       "      <th>3160</th>\n",
       "      <td>-1.910569</td>\n",
       "      <td>-0.223994</td>\n",
       "      <td>0.091694</td>\n",
       "      <td>1.717153</td>\n",
       "      <td>1</td>\n",
       "    </tr>\n",
       "    <tr>\n",
       "      <th>3162</th>\n",
       "      <td>-1.812295</td>\n",
       "      <td>-1.083286</td>\n",
       "      <td>-0.493278</td>\n",
       "      <td>1.717153</td>\n",
       "      <td>1</td>\n",
       "    </tr>\n",
       "    <tr>\n",
       "      <th>3163</th>\n",
       "      <td>1.741009</td>\n",
       "      <td>0.864444</td>\n",
       "      <td>1.779068</td>\n",
       "      <td>1.523331</td>\n",
       "      <td>1</td>\n",
       "    </tr>\n",
       "    <tr>\n",
       "      <th>3164</th>\n",
       "      <td>0.948242</td>\n",
       "      <td>-1.026000</td>\n",
       "      <td>2.092732</td>\n",
       "      <td>1.717153</td>\n",
       "      <td>1</td>\n",
       "    </tr>\n",
       "    <tr>\n",
       "      <th>3168</th>\n",
       "      <td>1.598193</td>\n",
       "      <td>0.635299</td>\n",
       "      <td>1.200965</td>\n",
       "      <td>0.554217</td>\n",
       "      <td>1</td>\n",
       "    </tr>\n",
       "    <tr>\n",
       "      <th>3169</th>\n",
       "      <td>1.680338</td>\n",
       "      <td>0.406154</td>\n",
       "      <td>1.352073</td>\n",
       "      <td>1.523331</td>\n",
       "      <td>1</td>\n",
       "    </tr>\n",
       "    <tr>\n",
       "      <th>3170</th>\n",
       "      <td>-0.531931</td>\n",
       "      <td>0.234296</td>\n",
       "      <td>0.231354</td>\n",
       "      <td>0.941862</td>\n",
       "      <td>1</td>\n",
       "    </tr>\n",
       "    <tr>\n",
       "      <th>3172</th>\n",
       "      <td>-0.495499</td>\n",
       "      <td>-0.109421</td>\n",
       "      <td>0.003547</td>\n",
       "      <td>1.523331</td>\n",
       "      <td>1</td>\n",
       "    </tr>\n",
       "  </tbody>\n",
       "</table>\n",
       "<p>1835 rows × 5 columns</p>\n",
       "</div>"
      ],
      "text/plain": [
       "      log_budget_adjusted   runtime  theaters      year  intercept\n",
       "2               -1.007875 -0.624997  0.273710  1.717153          1\n",
       "6                0.795722  0.463441  1.083055  1.717153          1\n",
       "8               -0.063089  0.578013  0.773970  1.717153          1\n",
       "9                1.893028  1.609164  1.884386  1.717153          1\n",
       "11               1.178325 -0.109421  1.166622  1.717153          1\n",
       "12               1.977145  2.353885  1.566143  1.717153          1\n",
       "13               1.755344  1.036302  1.146017  1.717153          1\n",
       "14               0.810558 -0.395852  1.540959  1.717153          1\n",
       "15               2.037136  1.208161  1.803108  1.717153          1\n",
       "18               1.662945  1.208161  1.727554  1.717153          1\n",
       "20               1.146919  0.807158  1.213558  1.717153          1\n",
       "23              -0.777792  0.062437  0.917065  1.717153          1\n",
       "25               1.218766  1.895595  1.490589  1.717153          1\n",
       "26               0.385487  0.463441 -0.439475  1.523331          1\n",
       "27               0.602323  0.005151  0.981171  1.523331          1\n",
       "28               1.755344  1.437306  1.885531  1.717153          1\n",
       "30              -0.589800  0.119723  0.528992  1.717153          1\n",
       "32               1.146919  1.666451  0.377883  1.717153          1\n",
       "36               0.752362  2.583030  0.531281  0.166571          1\n",
       "37               1.127558  4.129757 -0.187628  0.941862          1\n",
       "39               1.241138  0.348868  1.231874  1.329508          1\n",
       "42               1.798307  0.807158  1.404732  1.523331          1\n",
       "43               0.625696  2.353885  0.358423  1.135685          1\n",
       "46               0.317478  1.150875  0.722456  1.523331          1\n",
       "47               0.651614 -0.739569  0.858682  1.717153          1\n",
       "49              -0.534052  0.807158 -0.125811  1.717153          1\n",
       "52               1.319513  3.098605  1.041844  0.166571          1\n",
       "53               2.108776  2.468457  1.764187  1.523331          1\n",
       "55               2.066819  1.609164  1.640553  1.329508          1\n",
       "58               0.023006  0.291582  1.033830  1.135685          1\n",
       "...                   ...       ...       ...       ...        ...\n",
       "3127             0.180651 -1.083286  0.839221  1.717153          1\n",
       "3128             1.582064 -0.052135  1.344060  1.523331          1\n",
       "3129             1.812642  0.578013  1.310862  1.717153          1\n",
       "3130             1.276599 -0.052135  0.846090  1.717153          1\n",
       "3133             2.123111  1.609164  1.842030  1.717153          1\n",
       "3136            -0.334986  2.182026 -0.191062  0.554217          1\n",
       "3137             0.996417  0.921730  0.525557  1.523331          1\n",
       "3140             1.548962  2.296599  1.249045  0.360394          1\n",
       "3143             1.582064  0.005151  1.289112  1.523331          1\n",
       "3144             0.948242 -0.223994  1.587894  1.717153          1\n",
       "3146             0.034372  1.265447 -0.480686 -0.414897          1\n",
       "3147             0.870521  2.468457  0.361857 -0.414897          1\n",
       "3148             0.219204  1.494592  0.735048  1.523331          1\n",
       "3149             0.198078  0.979016  1.081910  1.329508          1\n",
       "3150             2.108776  2.239312  1.745870  1.523331          1\n",
       "3151             0.561896  0.578013  1.155175  1.717153          1\n",
       "3152             2.056992  3.213178  1.949638  0.748040          1\n",
       "3153            -0.524124 -0.395852 -0.128100  1.135685          1\n",
       "3156            -0.063089  0.406154  0.690403  1.717153          1\n",
       "3157             0.867361  0.005151  1.512340  1.523331          1\n",
       "3158             1.596400  1.838309  1.512340  1.717153          1\n",
       "3159             0.233539 -1.140573  0.495794  1.717153          1\n",
       "3160            -1.910569 -0.223994  0.091694  1.717153          1\n",
       "3162            -1.812295 -1.083286 -0.493278  1.717153          1\n",
       "3163             1.741009  0.864444  1.779068  1.523331          1\n",
       "3164             0.948242 -1.026000  2.092732  1.717153          1\n",
       "3168             1.598193  0.635299  1.200965  0.554217          1\n",
       "3169             1.680338  0.406154  1.352073  1.523331          1\n",
       "3170            -0.531931  0.234296  0.231354  0.941862          1\n",
       "3172            -0.495499 -0.109421  0.003547  1.523331          1\n",
       "\n",
       "[1835 rows x 5 columns]"
      ]
     },
     "execution_count": 174,
     "metadata": {},
     "output_type": "execute_result"
    }
   ],
   "source": [
    "df_work = df[['log_budget_adjusted', 'runtime', 'theaters', 'year']].apply(zscore, axis=0)\n",
    "df_work['intercept'] = 1\n",
    "model = sm.OLS(df.log_worldwide_adjusted, df_work)\n",
    "fit = model.fit()\n",
    "fit.summary()\n",
    "df_work"
   ]
  },
  {
   "cell_type": "code",
   "execution_count": 175,
   "metadata": {},
   "outputs": [
    {
     "ename": "NameError",
     "evalue": "name 'df2' is not defined",
     "output_type": "error",
     "traceback": [
      "\u001b[0;31m---------------------------------------------------------------------------\u001b[0m",
      "\u001b[0;31mNameError\u001b[0m                                 Traceback (most recent call last)",
      "\u001b[0;32m<ipython-input-175-1be58316347d>\u001b[0m in \u001b[0;36m<module>\u001b[0;34m()\u001b[0m\n\u001b[0;32m----> 1\u001b[0;31m pp = sns.pairplot(data=df2,\n\u001b[0m\u001b[1;32m      2\u001b[0m                   \u001b[0my_vars\u001b[0m\u001b[0;34m=\u001b[0m\u001b[0;34m[\u001b[0m\u001b[0;34m'log_worldwide_adjusted'\u001b[0m\u001b[0;34m]\u001b[0m\u001b[0;34m,\u001b[0m\u001b[0;34m\u001b[0m\u001b[0m\n\u001b[1;32m      3\u001b[0m                   x_vars=['year','runtime'], kind='reg', size=8, aspect=1.5)\n",
      "\u001b[0;31mNameError\u001b[0m: name 'df2' is not defined"
     ]
    }
   ],
   "source": [
    "pp = sns.pairplot(data=df2,\n",
    "                  y_vars=['log_worldwide_adjusted'],\n",
    "                  x_vars=['year','runtime'], kind='reg', size=8, aspect=1.5)"
   ]
  },
  {
   "cell_type": "code",
   "execution_count": null,
   "metadata": {},
   "outputs": [],
   "source": [
    "pp = sns.pairplot(data=df2,\n",
    "                  y_vars=['log_worldwide_adjusted'],\n",
    "                  x_vars=['log_budget'], kind='reg', size=8, aspect=1.5)"
   ]
  },
  {
   "cell_type": "code",
   "execution_count": null,
   "metadata": {},
   "outputs": [],
   "source": [
    "pp = sns.pairplot(data=df,\n",
    "                  y_vars=['worldwide'],\n",
    "                  x_vars=['lifetime', 'runtime'], kind='reg', size=10, aspect=1.5)"
   ]
  },
  {
   "cell_type": "code",
   "execution_count": null,
   "metadata": {},
   "outputs": [],
   "source": [
    "pp = sns.pairplot(data=df,\n",
    "                  y_vars=['worldwide'],\n",
    "                  x_vars=['mpaa_ord', 'rating'], kind='reg', size=10, aspect=1.5)"
   ]
  },
  {
   "cell_type": "code",
   "execution_count": null,
   "metadata": {},
   "outputs": [],
   "source": [
    "sns.residplot(x='runtime', y='lifetime', data=df)"
   ]
  },
  {
   "cell_type": "code",
   "execution_count": null,
   "metadata": {},
   "outputs": [],
   "source": [
    "sns.residplot(x='log_lifetime_adjusted', y='log_worldwide_adjusted', data=df)"
   ]
  },
  {
   "cell_type": "code",
   "execution_count": null,
   "metadata": {},
   "outputs": [],
   "source": [
    "\n",
    "adj_feat = {\n",
    "    'opening':0,\n",
    "    'log_opening':0,\n",
    "    'opening_adjusted':0,\n",
    "    'log_opening_adjusted':0,\n",
    "    'lifetime':0,\n",
    "    'log_lifetime':0,\n",
    "    'lifetime_adjusted':0,\n",
    "    'log_lifetime_adjusted':0,\n",
    "    'worldwide':0,\n",
    "    'worldwide_adjusted':0,\n",
    "    'log_worldwide':0,\n",
    "    'log_worldwide_adjusted':0,\n",
    "    'budget':0,\n",
    "    'budget_adjusted':0,\n",
    "    'log_budget':0,\n",
    "    'log_budget_adjusted':1,\n",
    "    'rating':0,\n",
    "}\n",
    "\n",
    "predict = 'log_worldwide_adjusted'\n",
    "df_y = df_clean[predict]\n",
    "\n",
    "non_model = ['genre', 'director', \n",
    "               'url', 'language', \n",
    "               'country', 'mojo_url',\n",
    "              'rating_count', \n",
    "               'studio', 'release',\n",
    "             'mpaa_ord', 'title'\n",
    "            ]\n",
    "for key,val in adj_feat.items():\n",
    "    if not val:\n",
    "        non_model.append(key)\n",
    "df_mod = df_clean.drop(non_model,axis=1)\n",
    "#df_mod.set_index(df_mod.title, inplace=True)\n",
    "df_mod.columns.tolist()"
   ]
  },
  {
   "cell_type": "code",
   "execution_count": null,
   "metadata": {},
   "outputs": [],
   "source": [
    "df_norm = pd.concat([df_mod[['log_budget_adjusted', 'runtime', 'theaters', 'year']].apply(zscore, axis=0), df_mod], axis=1)\n",
    "model = sm.OLS(df_y, df_norm)\n",
    "fit = model.fit()\n",
    "fit.summary()"
   ]
  },
  {
   "cell_type": "code",
   "execution_count": null,
   "metadata": {},
   "outputs": [],
   "source": [
    "sig_columns"
   ]
  },
  {
   "cell_type": "code",
   "execution_count": null,
   "metadata": {},
   "outputs": [],
   "source": [
    "df.director.unique().size"
   ]
  },
  {
   "cell_type": "code",
   "execution_count": 143,
   "metadata": {
    "collapsed": true
   },
   "outputs": [],
   "source": [
    "# Corr Plots of important ones"
   ]
  },
  {
   "cell_type": "code",
   "execution_count": 144,
   "metadata": {
    "collapsed": true
   },
   "outputs": [],
   "source": [
    "# Manually fit select columns"
   ]
  },
  {
   "cell_type": "code",
   "execution_count": 145,
   "metadata": {
    "collapsed": true
   },
   "outputs": [],
   "source": [
    "# Use statsmodels to find summary\n",
    "\n",
    "# Use cross-validation to check for overfitting\n"
   ]
  },
  {
   "cell_type": "code",
   "execution_count": 146,
   "metadata": {
    "collapsed": true
   },
   "outputs": [],
   "source": [
    "# Plug into Sklearn and build a pipeline"
   ]
  },
  {
   "cell_type": "code",
   "execution_count": 147,
   "metadata": {
    "collapsed": true
   },
   "outputs": [],
   "source": [
    "# Report Score"
   ]
  },
  {
   "cell_type": "code",
   "execution_count": 148,
   "metadata": {
    "collapsed": true
   },
   "outputs": [],
   "source": [
    "# Pull in other variables"
   ]
  },
  {
   "cell_type": "code",
   "execution_count": 149,
   "metadata": {
    "collapsed": true
   },
   "outputs": [],
   "source": [
    "# Create dummy columns"
   ]
  },
  {
   "cell_type": "code",
   "execution_count": 195,
   "metadata": {},
   "outputs": [],
   "source": [
    "# Make top director column\n",
    "top_5percent_directors = set(df.sort_values(by='lifetime', ascending=False).director.unique()[:int(df.director.unique().size * 0.05)])#.tolist()\n",
    "df['top_director'] = df.director.apply(lambda x: 1 if (x in top_5percent_directors) else 0)"
   ]
  },
  {
   "cell_type": "code",
   "execution_count": 196,
   "metadata": {},
   "outputs": [],
   "source": [
    "# Genre\n",
    "genre_pre = df.set_index('title').genre.str.split(',', expand=True).stack().reset_index(level=1, drop=True).to_frame('genre')\n",
    "dummy_genre = pd.get_dummies(genre_pre, prefix='g', columns=['genre']).groupby(level=0).sum().reset_index()\n",
    "col = dummy_genre.columns.str.replace(' ', '')\n",
    "dummy_genre.columns = col"
   ]
  },
  {
   "cell_type": "code",
   "execution_count": 73,
   "metadata": {
    "collapsed": true
   },
   "outputs": [],
   "source": [
    "# Language\n",
    "#df.language = df.language.str.replace(' ', '_')\n",
    "#language_pre = df.set_index('title').language.str.split(',', expand=True).stack().reset_index(level=1, drop=True).to_frame('language')\n",
    "#dummy_language = pd.get_dummies(language_pre, prefix='l', columns=['language']).groupby(level=0).sum().reset_index()"
   ]
  },
  {
   "cell_type": "code",
   "execution_count": 197,
   "metadata": {
    "collapsed": true
   },
   "outputs": [],
   "source": [
    "# Month Dummy\n",
    "df = pd.get_dummies(df, prefix='m', columns=['month_cat'])"
   ]
  },
  {
   "cell_type": "code",
   "execution_count": 198,
   "metadata": {
    "collapsed": true
   },
   "outputs": [],
   "source": [
    "# MPAA\n",
    "df = pd.get_dummies(df, prefix='m', columns=['mpaa'])"
   ]
  },
  {
   "cell_type": "code",
   "execution_count": 199,
   "metadata": {},
   "outputs": [
    {
     "data": {
      "text/plain": [
       "(1835, 27)"
      ]
     },
     "execution_count": 199,
     "metadata": {},
     "output_type": "execute_result"
    }
   ],
   "source": [
    "# Country\n",
    "df.country = df.country.str.replace(' ', '_')\n",
    "country_pre = df.set_index('title').country.str.split(',', expand=True).stack().reset_index(level=1, drop=True).to_frame('country')\n",
    "dummy_country = pd.get_dummies(country_pre, prefix='d', columns=['country']).groupby(level=0).sum().reset_index()\n",
    "dummy_country.shape"
   ]
  },
  {
   "cell_type": "code",
   "execution_count": 200,
   "metadata": {},
   "outputs": [
    {
     "data": {
      "text/plain": [
       "(1835, 94)"
      ]
     },
     "execution_count": 200,
     "metadata": {},
     "output_type": "execute_result"
    }
   ],
   "source": [
    "# Merge all dummies\n",
    "df_clean = df.merge(dummy_genre)\n",
    "#df_clean = df_clean.merge(dummy_language)\n",
    "df_clean = df_clean.merge(dummy_country)\n",
    "df_clean.shape"
   ]
  },
  {
   "cell_type": "code",
   "execution_count": 134,
   "metadata": {},
   "outputs": [
    {
     "data": {
      "text/plain": [
       "['budget',\n",
       " 'country',\n",
       " 'director',\n",
       " 'genre',\n",
       " 'language',\n",
       " 'lifetime',\n",
       " 'mojo_url',\n",
       " 'opening',\n",
       " 'rating',\n",
       " 'rating_count',\n",
       " 'release',\n",
       " 'runtime',\n",
       " 'studio',\n",
       " 'theaters',\n",
       " 'title',\n",
       " 'url',\n",
       " 'worldwide',\n",
       " 'year',\n",
       " 'opening_adjusted',\n",
       " 'lifetime_adjusted',\n",
       " 'worldwide_adjusted',\n",
       " 'budget_adjusted',\n",
       " 'log_opening',\n",
       " 'log_lifetime',\n",
       " 'log_worldwide',\n",
       " 'log_budget',\n",
       " 'log_opening_adjusted',\n",
       " 'log_lifetime_adjusted',\n",
       " 'log_worldwide_adjusted',\n",
       " 'log_budget_adjusted',\n",
       " 'mpaa_ord',\n",
       " 'top_director',\n",
       " 'm_April',\n",
       " 'm_August',\n",
       " 'm_December',\n",
       " 'm_February',\n",
       " 'm_January',\n",
       " 'm_July',\n",
       " 'm_June',\n",
       " 'm_March',\n",
       " 'm_May',\n",
       " 'm_November',\n",
       " 'm_October',\n",
       " 'm_September',\n",
       " 'm_G',\n",
       " 'm_PG',\n",
       " 'm_PG-13',\n",
       " 'm_R',\n",
       " 'g_Action',\n",
       " 'g_Adventure',\n",
       " 'g_Animation',\n",
       " 'g_Biography',\n",
       " 'g_Comedy',\n",
       " 'g_Crime',\n",
       " 'g_Drama',\n",
       " 'g_Family',\n",
       " 'g_Fantasy',\n",
       " 'g_History',\n",
       " 'g_Horror',\n",
       " 'g_Music',\n",
       " 'g_Musical',\n",
       " 'g_Mystery',\n",
       " 'g_Romance',\n",
       " 'g_Sci-Fi',\n",
       " 'g_Sport',\n",
       " 'g_Thriller',\n",
       " 'g_War',\n",
       " 'g_Western']"
      ]
     },
     "execution_count": 134,
     "metadata": {},
     "output_type": "execute_result"
    }
   ],
   "source": [
    "df_clean.columns.tolist()"
   ]
  },
  {
   "cell_type": "code",
   "execution_count": 204,
   "metadata": {},
   "outputs": [
    {
     "data": {
      "text/plain": [
       "(1835, 42)"
      ]
     },
     "execution_count": 204,
     "metadata": {},
     "output_type": "execute_result"
    }
   ],
   "source": [
    "#sig_columns = find_sig_cols(df_mod, df_y, alpha=0.05)\n",
    "#sig_columns\n",
    "df_y = df_clean[predict]\n",
    "df_mod = df_clean.drop(non_model,axis=1)\n",
    "\n",
    "X = df_mod\n",
    "y = df_y\n",
    "X.columns.shape\n",
    "sig_cols = find_sig_cols(X, y)\n",
    "X[sig_cols].shape"
   ]
  },
  {
   "cell_type": "code",
   "execution_count": 219,
   "metadata": {},
   "outputs": [],
   "source": [
    "est = LinearRegression()\n",
    "est.fit(X[sig_cols], y)\n",
    "betas =[x + ' ' + str(y) for x,y in sorted(list(zip(X[sig_cols].columns.tolist(),est.coef_)), key=lambda x: abs(x[1]), reverse=True)]"
   ]
  },
  {
   "cell_type": "code",
   "execution_count": 224,
   "metadata": {},
   "outputs": [],
   "source": [
    "est = LinearRegression()\n",
    "est.fit(X[sig_cols], y)\n",
    "betas =[x + ' ' + str(round(y,2)) for x,y in list(zip(X[sig_cols].columns.tolist(),est.coef_))]"
   ]
  },
  {
   "cell_type": "code",
   "execution_count": 225,
   "metadata": {},
   "outputs": [
    {
     "data": {
      "text/plain": [
       "['runtime 0.01',\n",
       " 'theaters 0.0',\n",
       " 'year -0.01',\n",
       " 'log_budget_adjusted 0.24',\n",
       " 'top_director 0.4',\n",
       " 'm_April -0.05',\n",
       " 'm_August 0.12',\n",
       " 'm_December 0.39',\n",
       " 'm_January 0.18',\n",
       " 'm_July 0.27',\n",
       " 'm_June 0.26',\n",
       " 'm_May 0.2',\n",
       " 'm_November 0.19',\n",
       " 'm_October -0.01',\n",
       " 'm_September -0.07',\n",
       " 'm_G 0.07',\n",
       " 'm_PG 0.01',\n",
       " 'm_PG-13 -0.04',\n",
       " 'm_R -0.04',\n",
       " 'g_Action -0.1',\n",
       " 'g_Adventure 0.06',\n",
       " 'g_Animation 0.19',\n",
       " 'g_Biography -0.02',\n",
       " 'g_Crime -0.07',\n",
       " 'g_Drama -0.0',\n",
       " 'g_Family -0.06',\n",
       " 'g_Fantasy -0.01',\n",
       " 'g_Horror 0.12',\n",
       " 'g_Music 0.05',\n",
       " 'g_Musical 0.12',\n",
       " 'g_Romance 0.05',\n",
       " 'g_Sci-Fi -0.05',\n",
       " 'g_Sport -0.43',\n",
       " 'd_Canada -0.4',\n",
       " 'd_China 0.18',\n",
       " 'd_Czech_Republic 0.06',\n",
       " 'd_Denmark -2.01',\n",
       " 'd_Germany -0.18',\n",
       " 'd_Kenya -1.39',\n",
       " 'd_Mexico 0.51',\n",
       " 'd_Panama -0.53',\n",
       " 'd_USA -0.22']"
      ]
     },
     "execution_count": 225,
     "metadata": {},
     "output_type": "execute_result"
    }
   ],
   "source": [
    "betas"
   ]
  },
  {
   "cell_type": "code",
   "execution_count": 226,
   "metadata": {},
   "outputs": [
    {
     "data": {
      "text/html": [
       "<table class=\"simpletable\">\n",
       "<caption>OLS Regression Results</caption>\n",
       "<tr>\n",
       "  <th>Dep. Variable:</th>    <td>log_worldwide_adjusted</td> <th>  R-squared:         </th> <td>   0.679</td>\n",
       "</tr>\n",
       "<tr>\n",
       "  <th>Model:</th>                      <td>OLS</td>          <th>  Adj. R-squared:    </th> <td>   0.674</td>\n",
       "</tr>\n",
       "<tr>\n",
       "  <th>Method:</th>                <td>Least Squares</td>     <th>  F-statistic:       </th> <td>   119.3</td>\n",
       "</tr>\n",
       "<tr>\n",
       "  <th>Date:</th>                <td>Fri, 06 Oct 2017</td>    <th>  Prob (F-statistic):</th>  <td>  0.00</td> \n",
       "</tr>\n",
       "<tr>\n",
       "  <th>Time:</th>                    <td>13:33:05</td>        <th>  Log-Likelihood:    </th> <td> -2043.6</td>\n",
       "</tr>\n",
       "<tr>\n",
       "  <th>No. Observations:</th>         <td>  1835</td>         <th>  AIC:               </th> <td>   4153.</td>\n",
       "</tr>\n",
       "<tr>\n",
       "  <th>Df Residuals:</th>             <td>  1802</td>         <th>  BIC:               </th> <td>   4335.</td>\n",
       "</tr>\n",
       "<tr>\n",
       "  <th>Df Model:</th>                 <td>    32</td>         <th>                     </th>     <td> </td>   \n",
       "</tr>\n",
       "<tr>\n",
       "  <th>Covariance Type:</th>         <td>nonrobust</td>       <th>                     </th>     <td> </td>   \n",
       "</tr>\n",
       "</table>\n",
       "<table class=\"simpletable\">\n",
       "<tr>\n",
       "           <td></td>              <th>coef</th>     <th>std err</th>      <th>t</th>      <th>P>|t|</th>  <th>[0.025</th>    <th>0.975]</th>  \n",
       "</tr>\n",
       "<tr>\n",
       "  <th>runtime</th>             <td>    0.0102</td> <td>    0.001</td> <td>    7.361</td> <td> 0.000</td> <td>    0.007</td> <td>    0.013</td>\n",
       "</tr>\n",
       "<tr>\n",
       "  <th>theaters</th>            <td>    0.0009</td> <td> 2.88e-05</td> <td>   30.873</td> <td> 0.000</td> <td>    0.001</td> <td>    0.001</td>\n",
       "</tr>\n",
       "<tr>\n",
       "  <th>year</th>                <td>   -0.0108</td> <td>    0.004</td> <td>   -3.002</td> <td> 0.003</td> <td>   -0.018</td> <td>   -0.004</td>\n",
       "</tr>\n",
       "<tr>\n",
       "  <th>log_budget_adjusted</th> <td>    0.2465</td> <td>    0.029</td> <td>    8.454</td> <td> 0.000</td> <td>    0.189</td> <td>    0.304</td>\n",
       "</tr>\n",
       "<tr>\n",
       "  <th>top_director</th>        <td>    0.4119</td> <td>    0.067</td> <td>    6.127</td> <td> 0.000</td> <td>    0.280</td> <td>    0.544</td>\n",
       "</tr>\n",
       "<tr>\n",
       "  <th>m_April</th>             <td>   -0.0207</td> <td>    0.074</td> <td>   -0.278</td> <td> 0.781</td> <td>   -0.167</td> <td>    0.125</td>\n",
       "</tr>\n",
       "<tr>\n",
       "  <th>m_August</th>            <td>    0.1262</td> <td>    0.070</td> <td>    1.815</td> <td> 0.070</td> <td>   -0.010</td> <td>    0.263</td>\n",
       "</tr>\n",
       "<tr>\n",
       "  <th>m_December</th>          <td>    0.3981</td> <td>    0.077</td> <td>    5.161</td> <td> 0.000</td> <td>    0.247</td> <td>    0.549</td>\n",
       "</tr>\n",
       "<tr>\n",
       "  <th>m_January</th>           <td>    0.1838</td> <td>    0.085</td> <td>    2.162</td> <td> 0.031</td> <td>    0.017</td> <td>    0.350</td>\n",
       "</tr>\n",
       "<tr>\n",
       "  <th>m_July</th>              <td>    0.2813</td> <td>    0.075</td> <td>    3.732</td> <td> 0.000</td> <td>    0.133</td> <td>    0.429</td>\n",
       "</tr>\n",
       "<tr>\n",
       "  <th>m_June</th>              <td>    0.2454</td> <td>    0.077</td> <td>    3.193</td> <td> 0.001</td> <td>    0.095</td> <td>    0.396</td>\n",
       "</tr>\n",
       "<tr>\n",
       "  <th>m_May</th>               <td>    0.1941</td> <td>    0.081</td> <td>    2.397</td> <td> 0.017</td> <td>    0.035</td> <td>    0.353</td>\n",
       "</tr>\n",
       "<tr>\n",
       "  <th>m_November</th>          <td>    0.1983</td> <td>    0.074</td> <td>    2.672</td> <td> 0.008</td> <td>    0.053</td> <td>    0.344</td>\n",
       "</tr>\n",
       "<tr>\n",
       "  <th>m_October</th>           <td>   -0.0026</td> <td>    0.070</td> <td>   -0.038</td> <td> 0.970</td> <td>   -0.139</td> <td>    0.134</td>\n",
       "</tr>\n",
       "<tr>\n",
       "  <th>m_September</th>         <td>   -0.0664</td> <td>    0.071</td> <td>   -0.938</td> <td> 0.348</td> <td>   -0.205</td> <td>    0.072</td>\n",
       "</tr>\n",
       "<tr>\n",
       "  <th>m_G</th>                 <td>   31.9314</td> <td>    7.245</td> <td>    4.407</td> <td> 0.000</td> <td>   17.721</td> <td>   46.142</td>\n",
       "</tr>\n",
       "<tr>\n",
       "  <th>m_PG</th>                <td>   31.8406</td> <td>    7.256</td> <td>    4.388</td> <td> 0.000</td> <td>   17.610</td> <td>   46.071</td>\n",
       "</tr>\n",
       "<tr>\n",
       "  <th>m_PG-13</th>             <td>   31.8166</td> <td>    7.252</td> <td>    4.387</td> <td> 0.000</td> <td>   17.593</td> <td>   46.040</td>\n",
       "</tr>\n",
       "<tr>\n",
       "  <th>m_R</th>                 <td>   31.8136</td> <td>    7.254</td> <td>    4.385</td> <td> 0.000</td> <td>   17.586</td> <td>   46.042</td>\n",
       "</tr>\n",
       "<tr>\n",
       "  <th>g_Action</th>            <td>   -0.0934</td> <td>    0.047</td> <td>   -1.998</td> <td> 0.046</td> <td>   -0.185</td> <td>   -0.002</td>\n",
       "</tr>\n",
       "<tr>\n",
       "  <th>g_Adventure</th>         <td>    0.0672</td> <td>    0.053</td> <td>    1.275</td> <td> 0.203</td> <td>   -0.036</td> <td>    0.171</td>\n",
       "</tr>\n",
       "<tr>\n",
       "  <th>g_Animation</th>         <td>    0.1750</td> <td>    0.090</td> <td>    1.951</td> <td> 0.051</td> <td>   -0.001</td> <td>    0.351</td>\n",
       "</tr>\n",
       "<tr>\n",
       "  <th>g_Biography</th>         <td>   -0.0143</td> <td>    0.088</td> <td>   -0.163</td> <td> 0.870</td> <td>   -0.187</td> <td>    0.158</td>\n",
       "</tr>\n",
       "<tr>\n",
       "  <th>g_Crime</th>             <td>   -0.0595</td> <td>    0.051</td> <td>   -1.162</td> <td> 0.245</td> <td>   -0.160</td> <td>    0.041</td>\n",
       "</tr>\n",
       "<tr>\n",
       "  <th>g_Drama</th>             <td>    0.0051</td> <td>    0.044</td> <td>    0.117</td> <td> 0.907</td> <td>   -0.080</td> <td>    0.090</td>\n",
       "</tr>\n",
       "<tr>\n",
       "  <th>g_Family</th>            <td>   -0.0305</td> <td>    0.104</td> <td>   -0.294</td> <td> 0.769</td> <td>   -0.234</td> <td>    0.173</td>\n",
       "</tr>\n",
       "<tr>\n",
       "  <th>g_Fantasy</th>           <td>   -0.0021</td> <td>    0.056</td> <td>   -0.038</td> <td> 0.970</td> <td>   -0.112</td> <td>    0.108</td>\n",
       "</tr>\n",
       "<tr>\n",
       "  <th>g_Horror</th>            <td>    0.1149</td> <td>    0.062</td> <td>    1.844</td> <td> 0.065</td> <td>   -0.007</td> <td>    0.237</td>\n",
       "</tr>\n",
       "<tr>\n",
       "  <th>g_Music</th>             <td>    0.0515</td> <td>    0.094</td> <td>    0.547</td> <td> 0.585</td> <td>   -0.133</td> <td>    0.236</td>\n",
       "</tr>\n",
       "<tr>\n",
       "  <th>g_Musical</th>           <td>    0.1074</td> <td>    0.146</td> <td>    0.736</td> <td> 0.462</td> <td>   -0.179</td> <td>    0.394</td>\n",
       "</tr>\n",
       "<tr>\n",
       "  <th>g_Romance</th>           <td>    0.0514</td> <td>    0.048</td> <td>    1.070</td> <td> 0.285</td> <td>   -0.043</td> <td>    0.146</td>\n",
       "</tr>\n",
       "<tr>\n",
       "  <th>g_Sci-Fi</th>            <td>   -0.0430</td> <td>    0.054</td> <td>   -0.791</td> <td> 0.429</td> <td>   -0.150</td> <td>    0.064</td>\n",
       "</tr>\n",
       "<tr>\n",
       "  <th>g_Sport</th>             <td>   -0.4430</td> <td>    0.089</td> <td>   -4.960</td> <td> 0.000</td> <td>   -0.618</td> <td>   -0.268</td>\n",
       "</tr>\n",
       "</table>\n",
       "<table class=\"simpletable\">\n",
       "<tr>\n",
       "  <th>Omnibus:</th>       <td>124.910</td> <th>  Durbin-Watson:     </th> <td>   1.805</td> \n",
       "</tr>\n",
       "<tr>\n",
       "  <th>Prob(Omnibus):</th> <td> 0.000</td>  <th>  Jarque-Bera (JB):  </th> <td> 590.665</td> \n",
       "</tr>\n",
       "<tr>\n",
       "  <th>Skew:</th>          <td>-0.023</td>  <th>  Prob(JB):          </th> <td>5.48e-129</td>\n",
       "</tr>\n",
       "<tr>\n",
       "  <th>Kurtosis:</th>      <td> 5.779</td>  <th>  Cond. No.          </th> <td>2.88e+06</td> \n",
       "</tr>\n",
       "</table>"
      ],
      "text/plain": [
       "<class 'statsmodels.iolib.summary.Summary'>\n",
       "\"\"\"\n",
       "                              OLS Regression Results                              \n",
       "==================================================================================\n",
       "Dep. Variable:     log_worldwide_adjusted   R-squared:                       0.679\n",
       "Model:                                OLS   Adj. R-squared:                  0.674\n",
       "Method:                     Least Squares   F-statistic:                     119.3\n",
       "Date:                    Fri, 06 Oct 2017   Prob (F-statistic):               0.00\n",
       "Time:                            13:33:05   Log-Likelihood:                -2043.6\n",
       "No. Observations:                    1835   AIC:                             4153.\n",
       "Df Residuals:                        1802   BIC:                             4335.\n",
       "Df Model:                              32                                         \n",
       "Covariance Type:                nonrobust                                         \n",
       "=======================================================================================\n",
       "                          coef    std err          t      P>|t|      [0.025      0.975]\n",
       "---------------------------------------------------------------------------------------\n",
       "runtime                 0.0102      0.001      7.361      0.000       0.007       0.013\n",
       "theaters                0.0009   2.88e-05     30.873      0.000       0.001       0.001\n",
       "year                   -0.0108      0.004     -3.002      0.003      -0.018      -0.004\n",
       "log_budget_adjusted     0.2465      0.029      8.454      0.000       0.189       0.304\n",
       "top_director            0.4119      0.067      6.127      0.000       0.280       0.544\n",
       "m_April                -0.0207      0.074     -0.278      0.781      -0.167       0.125\n",
       "m_August                0.1262      0.070      1.815      0.070      -0.010       0.263\n",
       "m_December              0.3981      0.077      5.161      0.000       0.247       0.549\n",
       "m_January               0.1838      0.085      2.162      0.031       0.017       0.350\n",
       "m_July                  0.2813      0.075      3.732      0.000       0.133       0.429\n",
       "m_June                  0.2454      0.077      3.193      0.001       0.095       0.396\n",
       "m_May                   0.1941      0.081      2.397      0.017       0.035       0.353\n",
       "m_November              0.1983      0.074      2.672      0.008       0.053       0.344\n",
       "m_October              -0.0026      0.070     -0.038      0.970      -0.139       0.134\n",
       "m_September            -0.0664      0.071     -0.938      0.348      -0.205       0.072\n",
       "m_G                    31.9314      7.245      4.407      0.000      17.721      46.142\n",
       "m_PG                   31.8406      7.256      4.388      0.000      17.610      46.071\n",
       "m_PG-13                31.8166      7.252      4.387      0.000      17.593      46.040\n",
       "m_R                    31.8136      7.254      4.385      0.000      17.586      46.042\n",
       "g_Action               -0.0934      0.047     -1.998      0.046      -0.185      -0.002\n",
       "g_Adventure             0.0672      0.053      1.275      0.203      -0.036       0.171\n",
       "g_Animation             0.1750      0.090      1.951      0.051      -0.001       0.351\n",
       "g_Biography            -0.0143      0.088     -0.163      0.870      -0.187       0.158\n",
       "g_Crime                -0.0595      0.051     -1.162      0.245      -0.160       0.041\n",
       "g_Drama                 0.0051      0.044      0.117      0.907      -0.080       0.090\n",
       "g_Family               -0.0305      0.104     -0.294      0.769      -0.234       0.173\n",
       "g_Fantasy              -0.0021      0.056     -0.038      0.970      -0.112       0.108\n",
       "g_Horror                0.1149      0.062      1.844      0.065      -0.007       0.237\n",
       "g_Music                 0.0515      0.094      0.547      0.585      -0.133       0.236\n",
       "g_Musical               0.1074      0.146      0.736      0.462      -0.179       0.394\n",
       "g_Romance               0.0514      0.048      1.070      0.285      -0.043       0.146\n",
       "g_Sci-Fi               -0.0430      0.054     -0.791      0.429      -0.150       0.064\n",
       "g_Sport                -0.4430      0.089     -4.960      0.000      -0.618      -0.268\n",
       "==============================================================================\n",
       "Omnibus:                      124.910   Durbin-Watson:                   1.805\n",
       "Prob(Omnibus):                  0.000   Jarque-Bera (JB):              590.665\n",
       "Skew:                          -0.023   Prob(JB):                    5.48e-129\n",
       "Kurtosis:                       5.779   Cond. No.                     2.88e+06\n",
       "==============================================================================\n",
       "\n",
       "Warnings:\n",
       "[1] Standard Errors assume that the covariance matrix of the errors is correctly specified.\n",
       "[2] The condition number is large, 2.88e+06. This might indicate that there are\n",
       "strong multicollinearity or other numerical problems.\n",
       "\"\"\""
      ]
     },
     "execution_count": 226,
     "metadata": {},
     "output_type": "execute_result"
    }
   ],
   "source": [
    "model = sm.OLS(df_y, df_mod[sig_columns])\n",
    "fit = model.fit()\n",
    "fit.summary()"
   ]
  },
  {
   "cell_type": "code",
   "execution_count": null,
   "metadata": {
    "collapsed": true
   },
   "outputs": [],
   "source": []
  },
  {
   "cell_type": "code",
   "execution_count": 91,
   "metadata": {},
   "outputs": [
    {
     "data": {
      "text/plain": [
       "<matplotlib.text.Text at 0x7f49ed18c748>"
      ]
     },
     "execution_count": 91,
     "metadata": {},
     "output_type": "execute_result"
    },
    {
     "data": {
      "image/png": "[encoded data removed]",
      "text/plain": [
       "<matplotlib.figure.Figure at 0x7f49ed174550>"
      ]
     },
     "metadata": {},
     "output_type": "display_data"
    }
   ],
   "source": [
    "ax = fit.resid.plot(style='o', figsize=(12,8))\n",
    "ax.set_title('Residual Plot of the Model')"
   ]
  },
  {
   "cell_type": "code",
   "execution_count": 90,
   "metadata": {},
   "outputs": [
    {
     "data": {
      "text/plain": [
       "<matplotlib.axes._subplots.AxesSubplot at 0x7f49ed4fa588>"
      ]
     },
     "execution_count": 90,
     "metadata": {},
     "output_type": "execute_result"
    }
   ],
   "source": []
  },
  {
   "cell_type": "code",
   "execution_count": 107,
   "metadata": {},
   "outputs": [
    {
     "data": {
      "text/html": [
       "<table class=\"simpletable\">\n",
       "<caption>OLS Regression Results</caption>\n",
       "<tr>\n",
       "  <th>Dep. Variable:</th>    <td>log_worldwide_adjusted</td> <th>  R-squared:         </th> <td>   0.641</td>\n",
       "</tr>\n",
       "<tr>\n",
       "  <th>Model:</th>                      <td>OLS</td>          <th>  Adj. R-squared:    </th> <td>   0.612</td>\n",
       "</tr>\n",
       "<tr>\n",
       "  <th>Method:</th>                <td>Least Squares</td>     <th>  F-statistic:       </th> <td>   22.24</td>\n",
       "</tr>\n",
       "<tr>\n",
       "  <th>Date:</th>                <td>Fri, 06 Oct 2017</td>    <th>  Prob (F-statistic):</th>  <td>  0.00</td> \n",
       "</tr>\n",
       "<tr>\n",
       "  <th>Time:</th>                    <td>00:20:48</td>        <th>  Log-Likelihood:    </th> <td> -3563.5</td>\n",
       "</tr>\n",
       "<tr>\n",
       "  <th>No. Observations:</th>         <td>  2370</td>         <th>  AIC:               </th> <td>   7481.</td>\n",
       "</tr>\n",
       "<tr>\n",
       "  <th>Df Residuals:</th>             <td>  2193</td>         <th>  BIC:               </th> <td>   8502.</td>\n",
       "</tr>\n",
       "<tr>\n",
       "  <th>Df Model:</th>                 <td>   176</td>         <th>                     </th>     <td> </td>   \n",
       "</tr>\n",
       "<tr>\n",
       "  <th>Covariance Type:</th>         <td>nonrobust</td>       <th>                     </th>     <td> </td>   \n",
       "</tr>\n",
       "</table>\n",
       "<table class=\"simpletable\">\n",
       "<tr>\n",
       "              <td></td>                <th>coef</th>     <th>std err</th>      <th>t</th>      <th>P>|t|</th>  <th>[0.025</th>    <th>0.975]</th>  \n",
       "</tr>\n",
       "<tr>\n",
       "  <th>runtime</th>                  <td>    0.0132</td> <td>    0.002</td> <td>    6.916</td> <td> 0.000</td> <td>    0.009</td> <td>    0.017</td>\n",
       "</tr>\n",
       "<tr>\n",
       "  <th>theaters</th>                 <td>    0.0007</td> <td> 2.88e-05</td> <td>   25.047</td> <td> 0.000</td> <td>    0.001</td> <td>    0.001</td>\n",
       "</tr>\n",
       "<tr>\n",
       "  <th>year</th>                     <td>   -0.0127</td> <td>    0.005</td> <td>   -2.571</td> <td> 0.010</td> <td>   -0.022</td> <td>   -0.003</td>\n",
       "</tr>\n",
       "<tr>\n",
       "  <th>log_budget_adjusted</th>      <td>    0.4268</td> <td>    0.032</td> <td>   13.384</td> <td> 0.000</td> <td>    0.364</td> <td>    0.489</td>\n",
       "</tr>\n",
       "<tr>\n",
       "  <th>m_April</th>                  <td>    1.8054</td> <td>    0.639</td> <td>    2.827</td> <td> 0.005</td> <td>    0.553</td> <td>    3.058</td>\n",
       "</tr>\n",
       "<tr>\n",
       "  <th>m_August</th>                 <td>    2.0440</td> <td>    0.640</td> <td>    3.193</td> <td> 0.001</td> <td>    0.788</td> <td>    3.299</td>\n",
       "</tr>\n",
       "<tr>\n",
       "  <th>m_December</th>               <td>    2.4291</td> <td>    0.641</td> <td>    3.790</td> <td> 0.000</td> <td>    1.172</td> <td>    3.686</td>\n",
       "</tr>\n",
       "<tr>\n",
       "  <th>m_February</th>               <td>    2.0311</td> <td>    0.639</td> <td>    3.177</td> <td> 0.002</td> <td>    0.777</td> <td>    3.285</td>\n",
       "</tr>\n",
       "<tr>\n",
       "  <th>m_January</th>                <td>    2.6179</td> <td>    0.640</td> <td>    4.088</td> <td> 0.000</td> <td>    1.362</td> <td>    3.874</td>\n",
       "</tr>\n",
       "<tr>\n",
       "  <th>m_July</th>                   <td>    2.1495</td> <td>    0.641</td> <td>    3.353</td> <td> 0.001</td> <td>    0.892</td> <td>    3.407</td>\n",
       "</tr>\n",
       "<tr>\n",
       "  <th>m_June</th>                   <td>    2.0770</td> <td>    0.641</td> <td>    3.241</td> <td> 0.001</td> <td>    0.820</td> <td>    3.334</td>\n",
       "</tr>\n",
       "<tr>\n",
       "  <th>m_March</th>                  <td>    1.9377</td> <td>    0.637</td> <td>    3.042</td> <td> 0.002</td> <td>    0.688</td> <td>    3.187</td>\n",
       "</tr>\n",
       "<tr>\n",
       "  <th>m_May</th>                    <td>    2.0406</td> <td>    0.642</td> <td>    3.179</td> <td> 0.001</td> <td>    0.782</td> <td>    3.299</td>\n",
       "</tr>\n",
       "<tr>\n",
       "  <th>m_November</th>               <td>    2.1268</td> <td>    0.639</td> <td>    3.330</td> <td> 0.001</td> <td>    0.874</td> <td>    3.379</td>\n",
       "</tr>\n",
       "<tr>\n",
       "  <th>m_October</th>                <td>    1.9074</td> <td>    0.636</td> <td>    2.997</td> <td> 0.003</td> <td>    0.659</td> <td>    3.156</td>\n",
       "</tr>\n",
       "<tr>\n",
       "  <th>m_September</th>              <td>    1.8554</td> <td>    0.639</td> <td>    2.902</td> <td> 0.004</td> <td>    0.601</td> <td>    3.109</td>\n",
       "</tr>\n",
       "<tr>\n",
       "  <th>m_G</th>                      <td>    5.0082</td> <td>    1.526</td> <td>    3.282</td> <td> 0.001</td> <td>    2.015</td> <td>    8.001</td>\n",
       "</tr>\n",
       "<tr>\n",
       "  <th>m_NC-17</th>                  <td>    4.9736</td> <td>    1.600</td> <td>    3.108</td> <td> 0.002</td> <td>    1.836</td> <td>    8.112</td>\n",
       "</tr>\n",
       "<tr>\n",
       "  <th>m_PG</th>                     <td>    5.0068</td> <td>    1.531</td> <td>    3.270</td> <td> 0.001</td> <td>    2.004</td> <td>    8.009</td>\n",
       "</tr>\n",
       "<tr>\n",
       "  <th>m_PG-13</th>                  <td>    5.0286</td> <td>    1.527</td> <td>    3.293</td> <td> 0.001</td> <td>    2.034</td> <td>    8.023</td>\n",
       "</tr>\n",
       "<tr>\n",
       "  <th>m_R</th>                      <td>    5.0046</td> <td>    1.531</td> <td>    3.269</td> <td> 0.001</td> <td>    2.002</td> <td>    8.007</td>\n",
       "</tr>\n",
       "<tr>\n",
       "  <th>g_Action</th>                 <td>   -0.2281</td> <td>    0.073</td> <td>   -3.132</td> <td> 0.002</td> <td>   -0.371</td> <td>   -0.085</td>\n",
       "</tr>\n",
       "<tr>\n",
       "  <th>g_Adventure</th>              <td>    0.0691</td> <td>    0.078</td> <td>    0.890</td> <td> 0.374</td> <td>   -0.083</td> <td>    0.221</td>\n",
       "</tr>\n",
       "<tr>\n",
       "  <th>g_Animation</th>              <td>    0.2994</td> <td>    0.131</td> <td>    2.279</td> <td> 0.023</td> <td>    0.042</td> <td>    0.557</td>\n",
       "</tr>\n",
       "<tr>\n",
       "  <th>g_Biography</th>              <td>    0.1346</td> <td>    0.107</td> <td>    1.262</td> <td> 0.207</td> <td>   -0.075</td> <td>    0.344</td>\n",
       "</tr>\n",
       "<tr>\n",
       "  <th>g_Comedy</th>                 <td>   -0.0809</td> <td>    0.070</td> <td>   -1.162</td> <td> 0.245</td> <td>   -0.218</td> <td>    0.056</td>\n",
       "</tr>\n",
       "<tr>\n",
       "  <th>g_Crime</th>                  <td>   -0.2024</td> <td>    0.073</td> <td>   -2.767</td> <td> 0.006</td> <td>   -0.346</td> <td>   -0.059</td>\n",
       "</tr>\n",
       "<tr>\n",
       "  <th>g_Drama</th>                  <td>    0.0222</td> <td>    0.066</td> <td>    0.336</td> <td> 0.737</td> <td>   -0.107</td> <td>    0.152</td>\n",
       "</tr>\n",
       "<tr>\n",
       "  <th>g_Family</th>                 <td>    0.0310</td> <td>    0.149</td> <td>    0.207</td> <td> 0.836</td> <td>   -0.262</td> <td>    0.324</td>\n",
       "</tr>\n",
       "<tr>\n",
       "  <th>g_Fantasy</th>                <td>   -0.0844</td> <td>    0.082</td> <td>   -1.027</td> <td> 0.305</td> <td>   -0.245</td> <td>    0.077</td>\n",
       "</tr>\n",
       "<tr>\n",
       "  <th>g_History</th>                <td>    0.2421</td> <td>    0.142</td> <td>    1.704</td> <td> 0.088</td> <td>   -0.036</td> <td>    0.521</td>\n",
       "</tr>\n",
       "<tr>\n",
       "  <th>g_Horror</th>                 <td>   -0.0267</td> <td>    0.096</td> <td>   -0.278</td> <td> 0.781</td> <td>   -0.215</td> <td>    0.162</td>\n",
       "</tr>\n",
       "<tr>\n",
       "  <th>g_Music</th>                  <td>   -0.0053</td> <td>    0.127</td> <td>   -0.042</td> <td> 0.967</td> <td>   -0.255</td> <td>    0.244</td>\n",
       "</tr>\n",
       "<tr>\n",
       "  <th>g_Musical</th>                <td>    0.3755</td> <td>    0.182</td> <td>    2.062</td> <td> 0.039</td> <td>    0.018</td> <td>    0.733</td>\n",
       "</tr>\n",
       "<tr>\n",
       "  <th>g_Mystery</th>                <td>    0.0337</td> <td>    0.081</td> <td>    0.417</td> <td> 0.677</td> <td>   -0.125</td> <td>    0.192</td>\n",
       "</tr>\n",
       "<tr>\n",
       "  <th>g_Romance</th>                <td>    0.0164</td> <td>    0.065</td> <td>    0.253</td> <td> 0.800</td> <td>   -0.110</td> <td>    0.143</td>\n",
       "</tr>\n",
       "<tr>\n",
       "  <th>g_Sci-Fi</th>                 <td>   -0.0014</td> <td>    0.083</td> <td>   -0.017</td> <td> 0.987</td> <td>   -0.163</td> <td>    0.160</td>\n",
       "</tr>\n",
       "<tr>\n",
       "  <th>g_Sport</th>                  <td>   -0.4973</td> <td>    0.130</td> <td>   -3.821</td> <td> 0.000</td> <td>   -0.753</td> <td>   -0.242</td>\n",
       "</tr>\n",
       "<tr>\n",
       "  <th>g_Thriller</th>               <td>   -0.1259</td> <td>    0.071</td> <td>   -1.785</td> <td> 0.074</td> <td>   -0.264</td> <td>    0.012</td>\n",
       "</tr>\n",
       "<tr>\n",
       "  <th>g_War</th>                    <td>   -0.6012</td> <td>    0.146</td> <td>   -4.114</td> <td> 0.000</td> <td>   -0.888</td> <td>   -0.315</td>\n",
       "</tr>\n",
       "<tr>\n",
       "  <th>g_Western</th>                <td>   -0.6700</td> <td>    0.243</td> <td>   -2.761</td> <td> 0.006</td> <td>   -1.146</td> <td>   -0.194</td>\n",
       "</tr>\n",
       "<tr>\n",
       "  <th>l_Aboriginal</th>             <td>   -0.0182</td> <td>    0.585</td> <td>   -0.031</td> <td> 0.975</td> <td>   -1.166</td> <td>    1.130</td>\n",
       "</tr>\n",
       "<tr>\n",
       "  <th>l_Acholi</th>                 <td>   -1.2488</td> <td>    1.155</td> <td>   -1.081</td> <td> 0.280</td> <td>   -3.514</td> <td>    1.017</td>\n",
       "</tr>\n",
       "<tr>\n",
       "  <th>l_Afrikaans</th>              <td>   -0.1376</td> <td>    0.672</td> <td>   -0.205</td> <td> 0.838</td> <td>   -1.455</td> <td>    1.180</td>\n",
       "</tr>\n",
       "<tr>\n",
       "  <th>l_Albanian</th>               <td>    0.0441</td> <td>    0.693</td> <td>    0.064</td> <td> 0.949</td> <td>   -1.315</td> <td>    1.404</td>\n",
       "</tr>\n",
       "<tr>\n",
       "  <th>l_Algonquin</th>              <td>   -0.3361</td> <td>    1.145</td> <td>   -0.294</td> <td> 0.769</td> <td>   -2.581</td> <td>    1.909</td>\n",
       "</tr>\n",
       "<tr>\n",
       "  <th>l_American_Sign_Language</th> <td>    0.1169</td> <td>    0.330</td> <td>    0.354</td> <td> 0.723</td> <td>   -0.531</td> <td>    0.764</td>\n",
       "</tr>\n",
       "<tr>\n",
       "  <th>l_Amharic</th>                <td>   -0.2518</td> <td>    0.670</td> <td>   -0.376</td> <td> 0.707</td> <td>   -1.566</td> <td>    1.063</td>\n",
       "</tr>\n",
       "<tr>\n",
       "  <th>l_Apache_languages</th>       <td>    0.3857</td> <td>    0.700</td> <td>    0.551</td> <td> 0.582</td> <td>   -0.987</td> <td>    1.759</td>\n",
       "</tr>\n",
       "<tr>\n",
       "  <th>l_Arabic</th>                 <td>   -0.0006</td> <td>    0.170</td> <td>   -0.003</td> <td> 0.997</td> <td>   -0.333</td> <td>    0.332</td>\n",
       "</tr>\n",
       "<tr>\n",
       "  <th>l_Aramaic</th>                <td>   -1.2544</td> <td>    1.141</td> <td>   -1.099</td> <td> 0.272</td> <td>   -3.493</td> <td>    0.984</td>\n",
       "</tr>\n",
       "<tr>\n",
       "  <th>l_Armenian</th>               <td>    1.1945</td> <td>    0.566</td> <td>    2.112</td> <td> 0.035</td> <td>    0.085</td> <td>    2.304</td>\n",
       "</tr>\n",
       "<tr>\n",
       "  <th>l_Bengali</th>                <td>    1.2852</td> <td>    1.215</td> <td>    1.058</td> <td> 0.290</td> <td>   -1.098</td> <td>    3.668</td>\n",
       "</tr>\n",
       "<tr>\n",
       "  <th>l_Berber_languages</th>       <td>    0.7478</td> <td>    0.587</td> <td>    1.273</td> <td> 0.203</td> <td>   -0.404</td> <td>    1.900</td>\n",
       "</tr>\n",
       "<tr>\n",
       "  <th>l_Bosnian</th>                <td>    0.6487</td> <td>    1.269</td> <td>    0.511</td> <td> 0.609</td> <td>   -1.840</td> <td>    3.137</td>\n",
       "</tr>\n",
       "<tr>\n",
       "  <th>l_Bulgarian</th>              <td>    0.4993</td> <td>    0.675</td> <td>    0.739</td> <td> 0.460</td> <td>   -0.825</td> <td>    1.823</td>\n",
       "</tr>\n",
       "<tr>\n",
       "  <th>l_Burmese</th>                <td>   -0.2367</td> <td>    1.213</td> <td>   -0.195</td> <td> 0.845</td> <td>   -2.615</td> <td>    2.142</td>\n",
       "</tr>\n",
       "<tr>\n",
       "  <th>l_Cantonese</th>              <td>   -0.0921</td> <td>    0.224</td> <td>   -0.412</td> <td> 0.680</td> <td>   -0.530</td> <td>    0.346</td>\n",
       "</tr>\n",
       "<tr>\n",
       "  <th>l_Catalan</th>                <td>    0.4910</td> <td>    1.180</td> <td>    0.416</td> <td> 0.677</td> <td>   -1.823</td> <td>    2.804</td>\n",
       "</tr>\n",
       "<tr>\n",
       "  <th>l_Chechen</th>                <td>   -0.2518</td> <td>    0.670</td> <td>   -0.376</td> <td> 0.707</td> <td>   -1.566</td> <td>    1.063</td>\n",
       "</tr>\n",
       "<tr>\n",
       "  <th>l_Chinese</th>                <td>    0.1742</td> <td>    0.283</td> <td>    0.616</td> <td> 0.538</td> <td>   -0.380</td> <td>    0.728</td>\n",
       "</tr>\n",
       "<tr>\n",
       "  <th>l_Corsican</th>               <td>    0.3530</td> <td>    1.192</td> <td>    0.296</td> <td> 0.767</td> <td>   -1.985</td> <td>    2.691</td>\n",
       "</tr>\n",
       "<tr>\n",
       "  <th>l_Croatian</th>               <td>   -0.0581</td> <td>    0.851</td> <td>   -0.068</td> <td> 0.946</td> <td>   -1.727</td> <td>    1.611</td>\n",
       "</tr>\n",
       "<tr>\n",
       "  <th>l_Czech</th>                  <td>    0.7868</td> <td>    0.411</td> <td>    1.914</td> <td> 0.056</td> <td>   -0.019</td> <td>    1.593</td>\n",
       "</tr>\n",
       "<tr>\n",
       "  <th>l_Danish</th>                 <td>   -0.0466</td> <td>    0.427</td> <td>   -0.109</td> <td> 0.913</td> <td>   -0.884</td> <td>    0.790</td>\n",
       "</tr>\n",
       "<tr>\n",
       "  <th>l_Dari</th>                   <td>   -1.8371</td> <td>    0.956</td> <td>   -1.921</td> <td> 0.055</td> <td>   -3.713</td> <td>    0.039</td>\n",
       "</tr>\n",
       "<tr>\n",
       "  <th>l_Dutch</th>                  <td>    0.2902</td> <td>    0.437</td> <td>    0.664</td> <td> 0.507</td> <td>   -0.567</td> <td>    1.147</td>\n",
       "</tr>\n",
       "<tr>\n",
       "  <th>l_Egyptian_(Ancient)</th>     <td>    0.8313</td> <td>    1.222</td> <td>    0.680</td> <td> 0.496</td> <td>   -1.565</td> <td>    3.227</td>\n",
       "</tr>\n",
       "<tr>\n",
       "  <th>l_English</th>                <td>   -0.5042</td> <td>    0.285</td> <td>   -1.770</td> <td> 0.077</td> <td>   -1.063</td> <td>    0.054</td>\n",
       "</tr>\n",
       "<tr>\n",
       "  <th>l_Esperanto</th>              <td>   -0.0953</td> <td>    1.142</td> <td>   -0.083</td> <td> 0.933</td> <td>   -2.335</td> <td>    2.144</td>\n",
       "</tr>\n",
       "<tr>\n",
       "  <th>l_Estonian</th>               <td>    0.1110</td> <td>    1.176</td> <td>    0.094</td> <td> 0.925</td> <td>   -2.195</td> <td>    2.417</td>\n",
       "</tr>\n",
       "<tr>\n",
       "  <th>l_Filipino</th>               <td>   -0.0604</td> <td>    0.883</td> <td>   -0.068</td> <td> 0.945</td> <td>   -1.791</td> <td>    1.670</td>\n",
       "</tr>\n",
       "<tr>\n",
       "  <th>l_Finnish</th>                <td>    0.4084</td> <td>    0.952</td> <td>    0.429</td> <td> 0.668</td> <td>   -1.458</td> <td>    2.274</td>\n",
       "</tr>\n",
       "<tr>\n",
       "  <th>l_Flemish</th>                <td>   -0.2220</td> <td>    1.159</td> <td>   -0.192</td> <td> 0.848</td> <td>   -2.495</td> <td>    2.051</td>\n",
       "</tr>\n",
       "<tr>\n",
       "  <th>l_French</th>                 <td>    0.2491</td> <td>    0.085</td> <td>    2.936</td> <td> 0.003</td> <td>    0.083</td> <td>    0.415</td>\n",
       "</tr>\n",
       "<tr>\n",
       "  <th>l_Gallegan</th>               <td>   -0.1888</td> <td>    1.641</td> <td>   -0.115</td> <td> 0.908</td> <td>   -3.406</td> <td>    3.029</td>\n",
       "</tr>\n",
       "<tr>\n",
       "  <th>l_Georgian</th>               <td>    1.1015</td> <td>    1.348</td> <td>    0.817</td> <td> 0.414</td> <td>   -1.543</td> <td>    3.746</td>\n",
       "</tr>\n",
       "<tr>\n",
       "  <th>l_German</th>                 <td>    0.2502</td> <td>    0.117</td> <td>    2.134</td> <td> 0.033</td> <td>    0.020</td> <td>    0.480</td>\n",
       "</tr>\n",
       "<tr>\n",
       "  <th>l_Greek</th>                  <td>    0.2647</td> <td>    0.278</td> <td>    0.953</td> <td> 0.341</td> <td>   -0.280</td> <td>    0.809</td>\n",
       "</tr>\n",
       "<tr>\n",
       "  <th>l_Greenlandic</th>            <td>    1.2959</td> <td>    1.145</td> <td>    1.132</td> <td> 0.258</td> <td>   -0.949</td> <td>    3.541</td>\n",
       "</tr>\n",
       "<tr>\n",
       "  <th>l_Hawaiian</th>               <td>   -0.0515</td> <td>    0.519</td> <td>   -0.099</td> <td> 0.921</td> <td>   -1.070</td> <td>    0.967</td>\n",
       "</tr>\n",
       "<tr>\n",
       "  <th>l_Hebrew</th>                 <td>    0.0242</td> <td>    0.254</td> <td>    0.095</td> <td> 0.924</td> <td>   -0.474</td> <td>    0.523</td>\n",
       "</tr>\n",
       "<tr>\n",
       "  <th>l_Hindi</th>                  <td>    0.5512</td> <td>    0.414</td> <td>    1.331</td> <td> 0.183</td> <td>   -0.261</td> <td>    1.363</td>\n",
       "</tr>\n",
       "<tr>\n",
       "  <th>l_Hmong</th>                  <td>    2.5549</td> <td>    1.147</td> <td>    2.227</td> <td> 0.026</td> <td>    0.306</td> <td>    4.804</td>\n",
       "</tr>\n",
       "<tr>\n",
       "  <th>l_Hungarian</th>              <td>    0.0838</td> <td>    0.370</td> <td>    0.226</td> <td> 0.821</td> <td>   -0.642</td> <td>    0.810</td>\n",
       "</tr>\n",
       "<tr>\n",
       "  <th>l_Icelandic</th>              <td>    0.4439</td> <td>    0.401</td> <td>    1.107</td> <td> 0.268</td> <td>   -0.342</td> <td>    1.230</td>\n",
       "</tr>\n",
       "<tr>\n",
       "  <th>l_Indonesian</th>             <td>    0.3810</td> <td>    0.518</td> <td>    0.735</td> <td> 0.462</td> <td>   -0.635</td> <td>    1.397</td>\n",
       "</tr>\n",
       "<tr>\n",
       "  <th>l_Inuktitut</th>              <td>    3.2059</td> <td>    1.528</td> <td>    2.099</td> <td> 0.036</td> <td>    0.210</td> <td>    6.202</td>\n",
       "</tr>\n",
       "<tr>\n",
       "  <th>l_Irish</th>                  <td>    0.3461</td> <td>    0.656</td> <td>    0.528</td> <td> 0.598</td> <td>   -0.940</td> <td>    1.632</td>\n",
       "</tr>\n",
       "<tr>\n",
       "  <th>l_Italian</th>                <td>   -0.0448</td> <td>    0.122</td> <td>   -0.367</td> <td> 0.714</td> <td>   -0.284</td> <td>    0.195</td>\n",
       "</tr>\n",
       "<tr>\n",
       "  <th>l_Japanese</th>               <td>    0.2269</td> <td>    0.146</td> <td>    1.551</td> <td> 0.121</td> <td>   -0.060</td> <td>    0.514</td>\n",
       "</tr>\n",
       "<tr>\n",
       "  <th>l_Japanese_Sign_Language</th> <td>    0.7478</td> <td>    0.587</td> <td>    1.273</td> <td> 0.203</td> <td>   -0.404</td> <td>    1.900</td>\n",
       "</tr>\n",
       "<tr>\n",
       "  <th>l_Khmer</th>                  <td>   -0.5755</td> <td>    0.671</td> <td>   -0.858</td> <td> 0.391</td> <td>   -1.891</td> <td>    0.740</td>\n",
       "</tr>\n",
       "<tr>\n",
       "  <th>l_Klingon</th>                <td>    0.6649</td> <td>    0.576</td> <td>    1.154</td> <td> 0.249</td> <td>   -0.465</td> <td>    1.795</td>\n",
       "</tr>\n",
       "<tr>\n",
       "  <th>l_Korean</th>                 <td>   -0.2119</td> <td>    0.299</td> <td>   -0.709</td> <td> 0.478</td> <td>   -0.798</td> <td>    0.374</td>\n",
       "</tr>\n",
       "<tr>\n",
       "  <th>l_Latin</th>                  <td>    0.2261</td> <td>    0.241</td> <td>    0.939</td> <td> 0.348</td> <td>   -0.246</td> <td>    0.698</td>\n",
       "</tr>\n",
       "<tr>\n",
       "  <th>l_Lingala</th>                <td>   -1.5205</td> <td>    1.159</td> <td>   -1.312</td> <td> 0.190</td> <td>   -3.794</td> <td>    0.753</td>\n",
       "</tr>\n",
       "<tr>\n",
       "  <th>l_Luxembourgish</th>          <td>   -0.3102</td> <td>    1.148</td> <td>   -0.270</td> <td> 0.787</td> <td>   -2.562</td> <td>    1.941</td>\n",
       "</tr>\n",
       "<tr>\n",
       "  <th>l_Mandarin</th>               <td>    0.0593</td> <td>    0.175</td> <td>    0.340</td> <td> 0.734</td> <td>   -0.283</td> <td>    0.402</td>\n",
       "</tr>\n",
       "<tr>\n",
       "  <th>l_Maori</th>                  <td>   -0.1235</td> <td>    0.893</td> <td>   -0.138</td> <td> 0.890</td> <td>   -1.875</td> <td>    1.628</td>\n",
       "</tr>\n",
       "<tr>\n",
       "  <th>l_Maya</th>                   <td>   -0.6876</td> <td>    0.672</td> <td>   -1.023</td> <td> 0.306</td> <td>   -2.005</td> <td>    0.630</td>\n",
       "</tr>\n",
       "<tr>\n",
       "  <th>l_Mende</th>                  <td>    0.2722</td> <td>    1.330</td> <td>    0.205</td> <td> 0.838</td> <td>   -2.336</td> <td>    2.881</td>\n",
       "</tr>\n",
       "<tr>\n",
       "  <th>l_Navajo</th>                 <td>   -0.1025</td> <td>    0.823</td> <td>   -0.125</td> <td> 0.901</td> <td>   -1.716</td> <td>    1.511</td>\n",
       "</tr>\n",
       "<tr>\n",
       "  <th>l_North_American_Indian</th>  <td>   -0.3064</td> <td>    1.164</td> <td>   -0.263</td> <td> 0.792</td> <td>   -2.590</td> <td>    1.977</td>\n",
       "</tr>\n",
       "<tr>\n",
       "  <th>l_Norwegian</th>              <td>   -0.4990</td> <td>    0.519</td> <td>   -0.962</td> <td> 0.336</td> <td>   -1.516</td> <td>    0.518</td>\n",
       "</tr>\n",
       "<tr>\n",
       "  <th>l_Nyanja</th>                 <td>    0.4567</td> <td>    0.932</td> <td>    0.490</td> <td> 0.624</td> <td>   -1.371</td> <td>    2.284</td>\n",
       "</tr>\n",
       "<tr>\n",
       "  <th>l_Old_English</th>            <td>   -0.3265</td> <td>    1.145</td> <td>   -0.285</td> <td> 0.776</td> <td>   -2.573</td> <td>    1.920</td>\n",
       "</tr>\n",
       "<tr>\n",
       "  <th>l_Panjabi</th>                <td>   -0.3563</td> <td>    0.896</td> <td>   -0.398</td> <td> 0.691</td> <td>   -2.113</td> <td>    1.400</td>\n",
       "</tr>\n",
       "<tr>\n",
       "  <th>l_Pawnee</th>                 <td>    2.5764</td> <td>    1.226</td> <td>    2.102</td> <td> 0.036</td> <td>    0.173</td> <td>    4.980</td>\n",
       "</tr>\n",
       "<tr>\n",
       "  <th>l_Persian</th>                <td>   -0.0903</td> <td>    0.380</td> <td>   -0.238</td> <td> 0.812</td> <td>   -0.836</td> <td>    0.655</td>\n",
       "</tr>\n",
       "<tr>\n",
       "  <th>l_Polish</th>                 <td>   -1.2061</td> <td>    0.389</td> <td>   -3.100</td> <td> 0.002</td> <td>   -1.969</td> <td>   -0.443</td>\n",
       "</tr>\n",
       "<tr>\n",
       "  <th>l_Portuguese</th>             <td>    0.1634</td> <td>    0.235</td> <td>    0.695</td> <td> 0.487</td> <td>   -0.298</td> <td>    0.625</td>\n",
       "</tr>\n",
       "<tr>\n",
       "  <th>l_Pushto</th>                 <td>    2.0262</td> <td>    0.907</td> <td>    2.233</td> <td> 0.026</td> <td>    0.247</td> <td>    3.806</td>\n",
       "</tr>\n",
       "<tr>\n",
       "  <th>l_Romanian</th>               <td>   -0.0244</td> <td>    0.440</td> <td>   -0.055</td> <td> 0.956</td> <td>   -0.888</td> <td>    0.839</td>\n",
       "</tr>\n",
       "<tr>\n",
       "  <th>l_Romany</th>                 <td>   -0.1769</td> <td>    0.815</td> <td>   -0.217</td> <td> 0.828</td> <td>   -1.776</td> <td>    1.422</td>\n",
       "</tr>\n",
       "<tr>\n",
       "  <th>l_Russian</th>                <td>    0.0256</td> <td>    0.123</td> <td>    0.207</td> <td> 0.836</td> <td>   -0.217</td> <td>    0.268</td>\n",
       "</tr>\n",
       "<tr>\n",
       "  <th>l_Sanskrit</th>               <td>   -1.0840</td> <td>    0.891</td> <td>   -1.216</td> <td> 0.224</td> <td>   -2.832</td> <td>    0.664</td>\n",
       "</tr>\n",
       "<tr>\n",
       "  <th>l_Scottish_Gaelic</th>        <td>   -0.2261</td> <td>    0.414</td> <td>   -0.545</td> <td> 0.586</td> <td>   -1.039</td> <td>    0.587</td>\n",
       "</tr>\n",
       "<tr>\n",
       "  <th>l_Serbian</th>                <td>   -0.4258</td> <td>    0.527</td> <td>   -0.808</td> <td> 0.419</td> <td>   -1.459</td> <td>    0.608</td>\n",
       "</tr>\n",
       "<tr>\n",
       "  <th>l_Serbo-Croatian</th>         <td>    1.0323</td> <td>    0.548</td> <td>    1.885</td> <td> 0.060</td> <td>   -0.042</td> <td>    2.106</td>\n",
       "</tr>\n",
       "<tr>\n",
       "  <th>l_Sign_Languages</th>         <td>    1.0410</td> <td>    1.140</td> <td>    0.913</td> <td> 0.361</td> <td>   -1.194</td> <td>    3.276</td>\n",
       "</tr>\n",
       "<tr>\n",
       "  <th>l_Sioux</th>                  <td>    0.5874</td> <td>    0.854</td> <td>    0.688</td> <td> 0.492</td> <td>   -1.087</td> <td>    2.262</td>\n",
       "</tr>\n",
       "<tr>\n",
       "  <th>l_Slovak</th>                 <td>   -1.0140</td> <td>    0.780</td> <td>   -1.300</td> <td> 0.194</td> <td>   -2.543</td> <td>    0.515</td>\n",
       "</tr>\n",
       "<tr>\n",
       "  <th>l_Somali</th>                 <td>    0.9526</td> <td>    0.810</td> <td>    1.175</td> <td> 0.240</td> <td>   -0.637</td> <td>    2.542</td>\n",
       "</tr>\n",
       "<tr>\n",
       "  <th>l_Southern_Sotho</th>         <td>    0.3332</td> <td>    0.493</td> <td>    0.676</td> <td> 0.499</td> <td>   -0.633</td> <td>    1.299</td>\n",
       "</tr>\n",
       "<tr>\n",
       "  <th>l_Spanish</th>                <td>    0.0936</td> <td>    0.078</td> <td>    1.198</td> <td> 0.231</td> <td>   -0.060</td> <td>    0.247</td>\n",
       "</tr>\n",
       "<tr>\n",
       "  <th>l_Swahili</th>                <td>   -0.1918</td> <td>    0.529</td> <td>   -0.362</td> <td> 0.717</td> <td>   -1.230</td> <td>    0.846</td>\n",
       "</tr>\n",
       "<tr>\n",
       "  <th>l_Swedish</th>                <td>    0.4087</td> <td>    0.377</td> <td>    1.083</td> <td> 0.279</td> <td>   -0.331</td> <td>    1.149</td>\n",
       "</tr>\n",
       "<tr>\n",
       "  <th>l_Swiss_German</th>           <td>    0.8927</td> <td>    0.691</td> <td>    1.293</td> <td> 0.196</td> <td>   -0.462</td> <td>    2.247</td>\n",
       "</tr>\n",
       "<tr>\n",
       "  <th>l_Syriac</th>                 <td>    0.6215</td> <td>    1.427</td> <td>    0.436</td> <td> 0.663</td> <td>   -2.176</td> <td>    3.419</td>\n",
       "</tr>\n",
       "<tr>\n",
       "  <th>l_Tagalog</th>                <td>   -0.3774</td> <td>    0.881</td> <td>   -0.428</td> <td> 0.668</td> <td>   -2.105</td> <td>    1.350</td>\n",
       "</tr>\n",
       "<tr>\n",
       "  <th>l_Tamil</th>                  <td>   -0.1991</td> <td>    1.257</td> <td>   -0.158</td> <td> 0.874</td> <td>   -2.664</td> <td>    2.266</td>\n",
       "</tr>\n",
       "<tr>\n",
       "  <th>l_Thai</th>                   <td>    0.6958</td> <td>    0.354</td> <td>    1.965</td> <td> 0.050</td> <td>    0.001</td> <td>    1.390</td>\n",
       "</tr>\n",
       "<tr>\n",
       "  <th>l_Tibetan</th>                <td>   -0.0611</td> <td>    0.751</td> <td>   -0.081</td> <td> 0.935</td> <td>   -1.535</td> <td>    1.412</td>\n",
       "</tr>\n",
       "<tr>\n",
       "  <th>l_Tonga</th>                  <td>   -0.2730</td> <td>    1.149</td> <td>   -0.238</td> <td> 0.812</td> <td>   -2.527</td> <td>    1.981</td>\n",
       "</tr>\n",
       "<tr>\n",
       "  <th>l_Turkish</th>                <td>    0.2302</td> <td>    0.343</td> <td>    0.671</td> <td> 0.502</td> <td>   -0.443</td> <td>    0.903</td>\n",
       "</tr>\n",
       "<tr>\n",
       "  <th>l_Ukrainian</th>              <td>    0.1701</td> <td>    0.199</td> <td>    0.855</td> <td> 0.393</td> <td>   -0.220</td> <td>    0.560</td>\n",
       "</tr>\n",
       "<tr>\n",
       "  <th>l_Urdu</th>                   <td>    0.7143</td> <td>    0.410</td> <td>    1.741</td> <td> 0.082</td> <td>   -0.090</td> <td>    1.519</td>\n",
       "</tr>\n",
       "<tr>\n",
       "  <th>l_Vietnamese</th>             <td>    0.2671</td> <td>    0.353</td> <td>    0.757</td> <td> 0.449</td> <td>   -0.425</td> <td>    0.959</td>\n",
       "</tr>\n",
       "<tr>\n",
       "  <th>l_Welsh</th>                  <td>   -0.5117</td> <td>    0.926</td> <td>   -0.553</td> <td> 0.581</td> <td>   -2.327</td> <td>    1.304</td>\n",
       "</tr>\n",
       "<tr>\n",
       "  <th>l_Xhosa</th>                  <td>   -0.4564</td> <td>    0.940</td> <td>   -0.485</td> <td> 0.627</td> <td>   -2.300</td> <td>    1.388</td>\n",
       "</tr>\n",
       "<tr>\n",
       "  <th>l_Yiddish</th>                <td>    0.9314</td> <td>    0.826</td> <td>    1.127</td> <td> 0.260</td> <td>   -0.689</td> <td>    2.552</td>\n",
       "</tr>\n",
       "<tr>\n",
       "  <th>l_Zulu</th>                   <td>    0.3332</td> <td>    0.493</td> <td>    0.676</td> <td> 0.499</td> <td>   -0.633</td> <td>    1.299</td>\n",
       "</tr>\n",
       "<tr>\n",
       "  <th>l__Ancient_(to_1453)</th>     <td>   -0.6434</td> <td>    1.179</td> <td>   -0.546</td> <td> 0.585</td> <td>   -2.956</td> <td>    1.669</td>\n",
       "</tr>\n",
       "<tr>\n",
       "  <th>d_Algeria</th>                <td>    2.1343</td> <td>    1.169</td> <td>    1.826</td> <td> 0.068</td> <td>   -0.158</td> <td>    4.426</td>\n",
       "</tr>\n",
       "<tr>\n",
       "  <th>d_Australia</th>              <td>    1.0593</td> <td>    0.381</td> <td>    2.783</td> <td> 0.005</td> <td>    0.313</td> <td>    1.806</td>\n",
       "</tr>\n",
       "<tr>\n",
       "  <th>d_Austria</th>                <td>    2.0261</td> <td>    1.140</td> <td>    1.778</td> <td> 0.076</td> <td>   -0.209</td> <td>    4.261</td>\n",
       "</tr>\n",
       "<tr>\n",
       "  <th>d_Belgium</th>                <td>    0.2362</td> <td>    0.689</td> <td>    0.343</td> <td> 0.732</td> <td>   -1.115</td> <td>    1.588</td>\n",
       "</tr>\n",
       "<tr>\n",
       "  <th>d_Brazil</th>                 <td>   -1.8588</td> <td>    1.181</td> <td>   -1.574</td> <td> 0.116</td> <td>   -4.175</td> <td>    0.458</td>\n",
       "</tr>\n",
       "<tr>\n",
       "  <th>d_Canada</th>                 <td>    0.9916</td> <td>    0.289</td> <td>    3.426</td> <td> 0.001</td> <td>    0.424</td> <td>    1.559</td>\n",
       "</tr>\n",
       "<tr>\n",
       "  <th>d_Chile</th>                  <td>    0.4370</td> <td>    0.837</td> <td>    0.522</td> <td> 0.602</td> <td>   -1.205</td> <td>    2.079</td>\n",
       "</tr>\n",
       "<tr>\n",
       "  <th>d_China</th>                  <td>    1.4238</td> <td>    0.393</td> <td>    3.627</td> <td> 0.000</td> <td>    0.654</td> <td>    2.194</td>\n",
       "</tr>\n",
       "<tr>\n",
       "  <th>d_Colombia</th>               <td>    2.5632</td> <td>    1.132</td> <td>    2.265</td> <td> 0.024</td> <td>    0.344</td> <td>    4.782</td>\n",
       "</tr>\n",
       "<tr>\n",
       "  <th>d_Czech_Republic</th>         <td>    1.4651</td> <td>    0.614</td> <td>    2.387</td> <td> 0.017</td> <td>    0.261</td> <td>    2.669</td>\n",
       "</tr>\n",
       "<tr>\n",
       "  <th>d_Denmark</th>                <td>    0.4572</td> <td>    0.533</td> <td>    0.858</td> <td> 0.391</td> <td>   -0.588</td> <td>    1.502</td>\n",
       "</tr>\n",
       "<tr>\n",
       "  <th>d_Finland</th>                <td>    1.3133</td> <td>    0.947</td> <td>    1.386</td> <td> 0.166</td> <td>   -0.545</td> <td>    3.171</td>\n",
       "</tr>\n",
       "<tr>\n",
       "  <th>d_France</th>                 <td>    1.1989</td> <td>    0.278</td> <td>    4.315</td> <td> 0.000</td> <td>    0.654</td> <td>    1.744</td>\n",
       "</tr>\n",
       "<tr>\n",
       "  <th>d_Georgia</th>                <td>   -4.2771</td> <td>    1.143</td> <td>   -3.741</td> <td> 0.000</td> <td>   -6.519</td> <td>   -2.035</td>\n",
       "</tr>\n",
       "<tr>\n",
       "  <th>d_Germany</th>                <td>    1.1789</td> <td>    0.267</td> <td>    4.416</td> <td> 0.000</td> <td>    0.655</td> <td>    1.702</td>\n",
       "</tr>\n",
       "<tr>\n",
       "  <th>d_Greece</th>                 <td>   -0.1175</td> <td>    1.149</td> <td>   -0.102</td> <td> 0.919</td> <td>   -2.371</td> <td>    2.136</td>\n",
       "</tr>\n",
       "<tr>\n",
       "  <th>d_Hong_Kong</th>              <td>    1.2280</td> <td>    0.417</td> <td>    2.944</td> <td> 0.003</td> <td>    0.410</td> <td>    2.046</td>\n",
       "</tr>\n",
       "<tr>\n",
       "  <th>d_Hungary</th>                <td>   -1.0140</td> <td>    0.780</td> <td>   -1.300</td> <td> 0.194</td> <td>   -2.543</td> <td>    0.515</td>\n",
       "</tr>\n",
       "<tr>\n",
       "  <th>d_India</th>                  <td>   -1.8725</td> <td>    1.213</td> <td>   -1.544</td> <td> 0.123</td> <td>   -4.250</td> <td>    0.505</td>\n",
       "</tr>\n",
       "<tr>\n",
       "  <th>d_Indonesia</th>              <td>    0.3161</td> <td>    1.257</td> <td>    0.251</td> <td> 0.802</td> <td>   -2.150</td> <td>    2.782</td>\n",
       "</tr>\n",
       "<tr>\n",
       "  <th>d_Iran</th>                   <td>    3.0407</td> <td>    1.211</td> <td>    2.510</td> <td> 0.012</td> <td>    0.665</td> <td>    5.416</td>\n",
       "</tr>\n",
       "<tr>\n",
       "  <th>d_Ireland</th>                <td>    1.0134</td> <td>    0.454</td> <td>    2.233</td> <td> 0.026</td> <td>    0.124</td> <td>    1.903</td>\n",
       "</tr>\n",
       "<tr>\n",
       "  <th>d_Israel</th>                 <td>    2.3986</td> <td>    1.182</td> <td>    2.030</td> <td> 0.042</td> <td>    0.082</td> <td>    4.716</td>\n",
       "</tr>\n",
       "<tr>\n",
       "  <th>d_Italy</th>                  <td>   -1.2416</td> <td>    1.329</td> <td>   -0.934</td> <td> 0.350</td> <td>   -3.848</td> <td>    1.365</td>\n",
       "</tr>\n",
       "<tr>\n",
       "  <th>d_Japan</th>                  <td>    1.2150</td> <td>    0.558</td> <td>    2.177</td> <td> 0.030</td> <td>    0.120</td> <td>    2.310</td>\n",
       "</tr>\n",
       "<tr>\n",
       "  <th>d_Kenya</th>                  <td>   -0.4031</td> <td>    1.138</td> <td>   -0.354</td> <td> 0.723</td> <td>   -2.635</td> <td>    1.829</td>\n",
       "</tr>\n",
       "<tr>\n",
       "  <th>d_Malta</th>                  <td>    0.8644</td> <td>    1.156</td> <td>    0.748</td> <td> 0.455</td> <td>   -1.403</td> <td>    3.132</td>\n",
       "</tr>\n",
       "<tr>\n",
       "  <th>d_Mexico</th>                 <td>    2.0671</td> <td>    0.694</td> <td>    2.979</td> <td> 0.003</td> <td>    0.706</td> <td>    3.428</td>\n",
       "</tr>\n",
       "<tr>\n",
       "  <th>d_New_Zealand</th>            <td>    0.8079</td> <td>    0.610</td> <td>    1.324</td> <td> 0.186</td> <td>   -0.389</td> <td>    2.005</td>\n",
       "</tr>\n",
       "<tr>\n",
       "  <th>d_Norway</th>                 <td>   -5.7550</td> <td>    1.267</td> <td>   -4.542</td> <td> 0.000</td> <td>   -8.240</td> <td>   -3.270</td>\n",
       "</tr>\n",
       "<tr>\n",
       "  <th>d_Panama</th>                 <td>    0.4981</td> <td>    1.149</td> <td>    0.433</td> <td> 0.665</td> <td>   -1.756</td> <td>    2.752</td>\n",
       "</tr>\n",
       "<tr>\n",
       "  <th>d_Romania</th>                <td>    1.2721</td> <td>    1.144</td> <td>    1.112</td> <td> 0.266</td> <td>   -0.972</td> <td>    3.516</td>\n",
       "</tr>\n",
       "<tr>\n",
       "  <th>d_Russia</th>                 <td>    0.4357</td> <td>    0.825</td> <td>    0.528</td> <td> 0.598</td> <td>   -1.183</td> <td>    2.055</td>\n",
       "</tr>\n",
       "<tr>\n",
       "  <th>d_South_Africa</th>           <td>    1.5770</td> <td>    0.725</td> <td>    2.176</td> <td> 0.030</td> <td>    0.156</td> <td>    2.998</td>\n",
       "</tr>\n",
       "<tr>\n",
       "  <th>d_South_Korea</th>            <td>    2.9502</td> <td>    0.876</td> <td>    3.368</td> <td> 0.001</td> <td>    1.232</td> <td>    4.668</td>\n",
       "</tr>\n",
       "<tr>\n",
       "  <th>d_Spain</th>                  <td>    1.7628</td> <td>    0.350</td> <td>    5.037</td> <td> 0.000</td> <td>    1.077</td> <td>    2.449</td>\n",
       "</tr>\n",
       "<tr>\n",
       "  <th>d_Sweden</th>                 <td>    0.6617</td> <td>    1.216</td> <td>    0.544</td> <td> 0.586</td> <td>   -1.723</td> <td>    3.046</td>\n",
       "</tr>\n",
       "<tr>\n",
       "  <th>d_UK</th>                     <td>    1.5337</td> <td>    0.251</td> <td>    6.108</td> <td> 0.000</td> <td>    1.041</td> <td>    2.026</td>\n",
       "</tr>\n",
       "<tr>\n",
       "  <th>d_USA</th>                    <td>    1.2564</td> <td>    0.235</td> <td>    5.340</td> <td> 0.000</td> <td>    0.795</td> <td>    1.718</td>\n",
       "</tr>\n",
       "<tr>\n",
       "  <th>d_United_Arab_Emirates</th>   <td>    0.1776</td> <td>    1.143</td> <td>    0.155</td> <td> 0.877</td> <td>   -2.063</td> <td>    2.418</td>\n",
       "</tr>\n",
       "<tr>\n",
       "  <th>intercept</th>                <td>   25.0219</td> <td>    7.612</td> <td>    3.287</td> <td> 0.001</td> <td>   10.094</td> <td>   39.949</td>\n",
       "</tr>\n",
       "</table>\n",
       "<table class=\"simpletable\">\n",
       "<tr>\n",
       "  <th>Omnibus:</th>       <td>709.311</td> <th>  Durbin-Watson:     </th> <td>   1.782</td>\n",
       "</tr>\n",
       "<tr>\n",
       "  <th>Prob(Omnibus):</th> <td> 0.000</td>  <th>  Jarque-Bera (JB):  </th> <td>4832.284</td>\n",
       "</tr>\n",
       "<tr>\n",
       "  <th>Skew:</th>          <td>-1.236</td>  <th>  Prob(JB):          </th> <td>    0.00</td>\n",
       "</tr>\n",
       "<tr>\n",
       "  <th>Kurtosis:</th>      <td> 9.544</td>  <th>  Cond. No.          </th> <td>6.56e+19</td>\n",
       "</tr>\n",
       "</table>"
      ],
      "text/plain": [
       "<class 'statsmodels.iolib.summary.Summary'>\n",
       "\"\"\"\n",
       "                              OLS Regression Results                              \n",
       "==================================================================================\n",
       "Dep. Variable:     log_worldwide_adjusted   R-squared:                       0.641\n",
       "Model:                                OLS   Adj. R-squared:                  0.612\n",
       "Method:                     Least Squares   F-statistic:                     22.24\n",
       "Date:                    Fri, 06 Oct 2017   Prob (F-statistic):               0.00\n",
       "Time:                            00:20:48   Log-Likelihood:                -3563.5\n",
       "No. Observations:                    2370   AIC:                             7481.\n",
       "Df Residuals:                        2193   BIC:                             8502.\n",
       "Df Model:                             176                                         \n",
       "Covariance Type:                nonrobust                                         \n",
       "============================================================================================\n",
       "                               coef    std err          t      P>|t|      [0.025      0.975]\n",
       "--------------------------------------------------------------------------------------------\n",
       "runtime                      0.0132      0.002      6.916      0.000       0.009       0.017\n",
       "theaters                     0.0007   2.88e-05     25.047      0.000       0.001       0.001\n",
       "year                        -0.0127      0.005     -2.571      0.010      -0.022      -0.003\n",
       "log_budget_adjusted          0.4268      0.032     13.384      0.000       0.364       0.489\n",
       "m_April                      1.8054      0.639      2.827      0.005       0.553       3.058\n",
       "m_August                     2.0440      0.640      3.193      0.001       0.788       3.299\n",
       "m_December                   2.4291      0.641      3.790      0.000       1.172       3.686\n",
       "m_February                   2.0311      0.639      3.177      0.002       0.777       3.285\n",
       "m_January                    2.6179      0.640      4.088      0.000       1.362       3.874\n",
       "m_July                       2.1495      0.641      3.353      0.001       0.892       3.407\n",
       "m_June                       2.0770      0.641      3.241      0.001       0.820       3.334\n",
       "m_March                      1.9377      0.637      3.042      0.002       0.688       3.187\n",
       "m_May                        2.0406      0.642      3.179      0.001       0.782       3.299\n",
       "m_November                   2.1268      0.639      3.330      0.001       0.874       3.379\n",
       "m_October                    1.9074      0.636      2.997      0.003       0.659       3.156\n",
       "m_September                  1.8554      0.639      2.902      0.004       0.601       3.109\n",
       "m_G                          5.0082      1.526      3.282      0.001       2.015       8.001\n",
       "m_NC-17                      4.9736      1.600      3.108      0.002       1.836       8.112\n",
       "m_PG                         5.0068      1.531      3.270      0.001       2.004       8.009\n",
       "m_PG-13                      5.0286      1.527      3.293      0.001       2.034       8.023\n",
       "m_R                          5.0046      1.531      3.269      0.001       2.002       8.007\n",
       "g_Action                    -0.2281      0.073     -3.132      0.002      -0.371      -0.085\n",
       "g_Adventure                  0.0691      0.078      0.890      0.374      -0.083       0.221\n",
       "g_Animation                  0.2994      0.131      2.279      0.023       0.042       0.557\n",
       "g_Biography                  0.1346      0.107      1.262      0.207      -0.075       0.344\n",
       "g_Comedy                    -0.0809      0.070     -1.162      0.245      -0.218       0.056\n",
       "g_Crime                     -0.2024      0.073     -2.767      0.006      -0.346      -0.059\n",
       "g_Drama                      0.0222      0.066      0.336      0.737      -0.107       0.152\n",
       "g_Family                     0.0310      0.149      0.207      0.836      -0.262       0.324\n",
       "g_Fantasy                   -0.0844      0.082     -1.027      0.305      -0.245       0.077\n",
       "g_History                    0.2421      0.142      1.704      0.088      -0.036       0.521\n",
       "g_Horror                    -0.0267      0.096     -0.278      0.781      -0.215       0.162\n",
       "g_Music                     -0.0053      0.127     -0.042      0.967      -0.255       0.244\n",
       "g_Musical                    0.3755      0.182      2.062      0.039       0.018       0.733\n",
       "g_Mystery                    0.0337      0.081      0.417      0.677      -0.125       0.192\n",
       "g_Romance                    0.0164      0.065      0.253      0.800      -0.110       0.143\n",
       "g_Sci-Fi                    -0.0014      0.083     -0.017      0.987      -0.163       0.160\n",
       "g_Sport                     -0.4973      0.130     -3.821      0.000      -0.753      -0.242\n",
       "g_Thriller                  -0.1259      0.071     -1.785      0.074      -0.264       0.012\n",
       "g_War                       -0.6012      0.146     -4.114      0.000      -0.888      -0.315\n",
       "g_Western                   -0.6700      0.243     -2.761      0.006      -1.146      -0.194\n",
       "l_Aboriginal                -0.0182      0.585     -0.031      0.975      -1.166       1.130\n",
       "l_Acholi                    -1.2488      1.155     -1.081      0.280      -3.514       1.017\n",
       "l_Afrikaans                 -0.1376      0.672     -0.205      0.838      -1.455       1.180\n",
       "l_Albanian                   0.0441      0.693      0.064      0.949      -1.315       1.404\n",
       "l_Algonquin                 -0.3361      1.145     -0.294      0.769      -2.581       1.909\n",
       "l_American_Sign_Language     0.1169      0.330      0.354      0.723      -0.531       0.764\n",
       "l_Amharic                   -0.2518      0.670     -0.376      0.707      -1.566       1.063\n",
       "l_Apache_languages           0.3857      0.700      0.551      0.582      -0.987       1.759\n",
       "l_Arabic                    -0.0006      0.170     -0.003      0.997      -0.333       0.332\n",
       "l_Aramaic                   -1.2544      1.141     -1.099      0.272      -3.493       0.984\n",
       "l_Armenian                   1.1945      0.566      2.112      0.035       0.085       2.304\n",
       "l_Bengali                    1.2852      1.215      1.058      0.290      -1.098       3.668\n",
       "l_Berber_languages           0.7478      0.587      1.273      0.203      -0.404       1.900\n",
       "l_Bosnian                    0.6487      1.269      0.511      0.609      -1.840       3.137\n",
       "l_Bulgarian                  0.4993      0.675      0.739      0.460      -0.825       1.823\n",
       "l_Burmese                   -0.2367      1.213     -0.195      0.845      -2.615       2.142\n",
       "l_Cantonese                 -0.0921      0.224     -0.412      0.680      -0.530       0.346\n",
       "l_Catalan                    0.4910      1.180      0.416      0.677      -1.823       2.804\n",
       "l_Chechen                   -0.2518      0.670     -0.376      0.707      -1.566       1.063\n",
       "l_Chinese                    0.1742      0.283      0.616      0.538      -0.380       0.728\n",
       "l_Corsican                   0.3530      1.192      0.296      0.767      -1.985       2.691\n",
       "l_Croatian                  -0.0581      0.851     -0.068      0.946      -1.727       1.611\n",
       "l_Czech                      0.7868      0.411      1.914      0.056      -0.019       1.593\n",
       "l_Danish                    -0.0466      0.427     -0.109      0.913      -0.884       0.790\n",
       "l_Dari                      -1.8371      0.956     -1.921      0.055      -3.713       0.039\n",
       "l_Dutch                      0.2902      0.437      0.664      0.507      -0.567       1.147\n",
       "l_Egyptian_(Ancient)         0.8313      1.222      0.680      0.496      -1.565       3.227\n",
       "l_English                   -0.5042      0.285     -1.770      0.077      -1.063       0.054\n",
       "l_Esperanto                 -0.0953      1.142     -0.083      0.933      -2.335       2.144\n",
       "l_Estonian                   0.1110      1.176      0.094      0.925      -2.195       2.417\n",
       "l_Filipino                  -0.0604      0.883     -0.068      0.945      -1.791       1.670\n",
       "l_Finnish                    0.4084      0.952      0.429      0.668      -1.458       2.274\n",
       "l_Flemish                   -0.2220      1.159     -0.192      0.848      -2.495       2.051\n",
       "l_French                     0.2491      0.085      2.936      0.003       0.083       0.415\n",
       "l_Gallegan                  -0.1888      1.641     -0.115      0.908      -3.406       3.029\n",
       "l_Georgian                   1.1015      1.348      0.817      0.414      -1.543       3.746\n",
       "l_German                     0.2502      0.117      2.134      0.033       0.020       0.480\n",
       "l_Greek                      0.2647      0.278      0.953      0.341      -0.280       0.809\n",
       "l_Greenlandic                1.2959      1.145      1.132      0.258      -0.949       3.541\n",
       "l_Hawaiian                  -0.0515      0.519     -0.099      0.921      -1.070       0.967\n",
       "l_Hebrew                     0.0242      0.254      0.095      0.924      -0.474       0.523\n",
       "l_Hindi                      0.5512      0.414      1.331      0.183      -0.261       1.363\n",
       "l_Hmong                      2.5549      1.147      2.227      0.026       0.306       4.804\n",
       "l_Hungarian                  0.0838      0.370      0.226      0.821      -0.642       0.810\n",
       "l_Icelandic                  0.4439      0.401      1.107      0.268      -0.342       1.230\n",
       "l_Indonesian                 0.3810      0.518      0.735      0.462      -0.635       1.397\n",
       "l_Inuktitut                  3.2059      1.528      2.099      0.036       0.210       6.202\n",
       "l_Irish                      0.3461      0.656      0.528      0.598      -0.940       1.632\n",
       "l_Italian                   -0.0448      0.122     -0.367      0.714      -0.284       0.195\n",
       "l_Japanese                   0.2269      0.146      1.551      0.121      -0.060       0.514\n",
       "l_Japanese_Sign_Language     0.7478      0.587      1.273      0.203      -0.404       1.900\n",
       "l_Khmer                     -0.5755      0.671     -0.858      0.391      -1.891       0.740\n",
       "l_Klingon                    0.6649      0.576      1.154      0.249      -0.465       1.795\n",
       "l_Korean                    -0.2119      0.299     -0.709      0.478      -0.798       0.374\n",
       "l_Latin                      0.2261      0.241      0.939      0.348      -0.246       0.698\n",
       "l_Lingala                   -1.5205      1.159     -1.312      0.190      -3.794       0.753\n",
       "l_Luxembourgish             -0.3102      1.148     -0.270      0.787      -2.562       1.941\n",
       "l_Mandarin                   0.0593      0.175      0.340      0.734      -0.283       0.402\n",
       "l_Maori                     -0.1235      0.893     -0.138      0.890      -1.875       1.628\n",
       "l_Maya                      -0.6876      0.672     -1.023      0.306      -2.005       0.630\n",
       "l_Mende                      0.2722      1.330      0.205      0.838      -2.336       2.881\n",
       "l_Navajo                    -0.1025      0.823     -0.125      0.901      -1.716       1.511\n",
       "l_North_American_Indian     -0.3064      1.164     -0.263      0.792      -2.590       1.977\n",
       "l_Norwegian                 -0.4990      0.519     -0.962      0.336      -1.516       0.518\n",
       "l_Nyanja                     0.4567      0.932      0.490      0.624      -1.371       2.284\n",
       "l_Old_English               -0.3265      1.145     -0.285      0.776      -2.573       1.920\n",
       "l_Panjabi                   -0.3563      0.896     -0.398      0.691      -2.113       1.400\n",
       "l_Pawnee                     2.5764      1.226      2.102      0.036       0.173       4.980\n",
       "l_Persian                   -0.0903      0.380     -0.238      0.812      -0.836       0.655\n",
       "l_Polish                    -1.2061      0.389     -3.100      0.002      -1.969      -0.443\n",
       "l_Portuguese                 0.1634      0.235      0.695      0.487      -0.298       0.625\n",
       "l_Pushto                     2.0262      0.907      2.233      0.026       0.247       3.806\n",
       "l_Romanian                  -0.0244      0.440     -0.055      0.956      -0.888       0.839\n",
       "l_Romany                    -0.1769      0.815     -0.217      0.828      -1.776       1.422\n",
       "l_Russian                    0.0256      0.123      0.207      0.836      -0.217       0.268\n",
       "l_Sanskrit                  -1.0840      0.891     -1.216      0.224      -2.832       0.664\n",
       "l_Scottish_Gaelic           -0.2261      0.414     -0.545      0.586      -1.039       0.587\n",
       "l_Serbian                   -0.4258      0.527     -0.808      0.419      -1.459       0.608\n",
       "l_Serbo-Croatian             1.0323      0.548      1.885      0.060      -0.042       2.106\n",
       "l_Sign_Languages             1.0410      1.140      0.913      0.361      -1.194       3.276\n",
       "l_Sioux                      0.5874      0.854      0.688      0.492      -1.087       2.262\n",
       "l_Slovak                    -1.0140      0.780     -1.300      0.194      -2.543       0.515\n",
       "l_Somali                     0.9526      0.810      1.175      0.240      -0.637       2.542\n",
       "l_Southern_Sotho             0.3332      0.493      0.676      0.499      -0.633       1.299\n",
       "l_Spanish                    0.0936      0.078      1.198      0.231      -0.060       0.247\n",
       "l_Swahili                   -0.1918      0.529     -0.362      0.717      -1.230       0.846\n",
       "l_Swedish                    0.4087      0.377      1.083      0.279      -0.331       1.149\n",
       "l_Swiss_German               0.8927      0.691      1.293      0.196      -0.462       2.247\n",
       "l_Syriac                     0.6215      1.427      0.436      0.663      -2.176       3.419\n",
       "l_Tagalog                   -0.3774      0.881     -0.428      0.668      -2.105       1.350\n",
       "l_Tamil                     -0.1991      1.257     -0.158      0.874      -2.664       2.266\n",
       "l_Thai                       0.6958      0.354      1.965      0.050       0.001       1.390\n",
       "l_Tibetan                   -0.0611      0.751     -0.081      0.935      -1.535       1.412\n",
       "l_Tonga                     -0.2730      1.149     -0.238      0.812      -2.527       1.981\n",
       "l_Turkish                    0.2302      0.343      0.671      0.502      -0.443       0.903\n",
       "l_Ukrainian                  0.1701      0.199      0.855      0.393      -0.220       0.560\n",
       "l_Urdu                       0.7143      0.410      1.741      0.082      -0.090       1.519\n",
       "l_Vietnamese                 0.2671      0.353      0.757      0.449      -0.425       0.959\n",
       "l_Welsh                     -0.5117      0.926     -0.553      0.581      -2.327       1.304\n",
       "l_Xhosa                     -0.4564      0.940     -0.485      0.627      -2.300       1.388\n",
       "l_Yiddish                    0.9314      0.826      1.127      0.260      -0.689       2.552\n",
       "l_Zulu                       0.3332      0.493      0.676      0.499      -0.633       1.299\n",
       "l__Ancient_(to_1453)        -0.6434      1.179     -0.546      0.585      -2.956       1.669\n",
       "d_Algeria                    2.1343      1.169      1.826      0.068      -0.158       4.426\n",
       "d_Australia                  1.0593      0.381      2.783      0.005       0.313       1.806\n",
       "d_Austria                    2.0261      1.140      1.778      0.076      -0.209       4.261\n",
       "d_Belgium                    0.2362      0.689      0.343      0.732      -1.115       1.588\n",
       "d_Brazil                    -1.8588      1.181     -1.574      0.116      -4.175       0.458\n",
       "d_Canada                     0.9916      0.289      3.426      0.001       0.424       1.559\n",
       "d_Chile                      0.4370      0.837      0.522      0.602      -1.205       2.079\n",
       "d_China                      1.4238      0.393      3.627      0.000       0.654       2.194\n",
       "d_Colombia                   2.5632      1.132      2.265      0.024       0.344       4.782\n",
       "d_Czech_Republic             1.4651      0.614      2.387      0.017       0.261       2.669\n",
       "d_Denmark                    0.4572      0.533      0.858      0.391      -0.588       1.502\n",
       "d_Finland                    1.3133      0.947      1.386      0.166      -0.545       3.171\n",
       "d_France                     1.1989      0.278      4.315      0.000       0.654       1.744\n",
       "d_Georgia                   -4.2771      1.143     -3.741      0.000      -6.519      -2.035\n",
       "d_Germany                    1.1789      0.267      4.416      0.000       0.655       1.702\n",
       "d_Greece                    -0.1175      1.149     -0.102      0.919      -2.371       2.136\n",
       "d_Hong_Kong                  1.2280      0.417      2.944      0.003       0.410       2.046\n",
       "d_Hungary                   -1.0140      0.780     -1.300      0.194      -2.543       0.515\n",
       "d_India                     -1.8725      1.213     -1.544      0.123      -4.250       0.505\n",
       "d_Indonesia                  0.3161      1.257      0.251      0.802      -2.150       2.782\n",
       "d_Iran                       3.0407      1.211      2.510      0.012       0.665       5.416\n",
       "d_Ireland                    1.0134      0.454      2.233      0.026       0.124       1.903\n",
       "d_Israel                     2.3986      1.182      2.030      0.042       0.082       4.716\n",
       "d_Italy                     -1.2416      1.329     -0.934      0.350      -3.848       1.365\n",
       "d_Japan                      1.2150      0.558      2.177      0.030       0.120       2.310\n",
       "d_Kenya                     -0.4031      1.138     -0.354      0.723      -2.635       1.829\n",
       "d_Malta                      0.8644      1.156      0.748      0.455      -1.403       3.132\n",
       "d_Mexico                     2.0671      0.694      2.979      0.003       0.706       3.428\n",
       "d_New_Zealand                0.8079      0.610      1.324      0.186      -0.389       2.005\n",
       "d_Norway                    -5.7550      1.267     -4.542      0.000      -8.240      -3.270\n",
       "d_Panama                     0.4981      1.149      0.433      0.665      -1.756       2.752\n",
       "d_Romania                    1.2721      1.144      1.112      0.266      -0.972       3.516\n",
       "d_Russia                     0.4357      0.825      0.528      0.598      -1.183       2.055\n",
       "d_South_Africa               1.5770      0.725      2.176      0.030       0.156       2.998\n",
       "d_South_Korea                2.9502      0.876      3.368      0.001       1.232       4.668\n",
       "d_Spain                      1.7628      0.350      5.037      0.000       1.077       2.449\n",
       "d_Sweden                     0.6617      1.216      0.544      0.586      -1.723       3.046\n",
       "d_UK                         1.5337      0.251      6.108      0.000       1.041       2.026\n",
       "d_USA                        1.2564      0.235      5.340      0.000       0.795       1.718\n",
       "d_United_Arab_Emirates       0.1776      1.143      0.155      0.877      -2.063       2.418\n",
       "intercept                   25.0219      7.612      3.287      0.001      10.094      39.949\n",
       "==============================================================================\n",
       "Omnibus:                      709.311   Durbin-Watson:                   1.782\n",
       "Prob(Omnibus):                  0.000   Jarque-Bera (JB):             4832.284\n",
       "Skew:                          -1.236   Prob(JB):                         0.00\n",
       "Kurtosis:                       9.544   Cond. No.                     6.56e+19\n",
       "==============================================================================\n",
       "\n",
       "Warnings:\n",
       "[1] Standard Errors assume that the covariance matrix of the errors is correctly specified.\n",
       "[2] The smallest eigenvalue is 5.23e-30. This might indicate that there are\n",
       "strong multicollinearity problems or that the design matrix is singular.\n",
       "\"\"\""
      ]
     },
     "execution_count": 107,
     "metadata": {},
     "output_type": "execute_result"
    }
   ],
   "source": [
    "X[\"intercept\"] = 1\n",
    "model = sm.OLS(y, X)\n",
    "fit1 = model.fit()\n",
    "fit1.summary()"
   ]
  },
  {
   "cell_type": "code",
   "execution_count": 79,
   "metadata": {},
   "outputs": [
    {
     "data": {
      "text/html": [
       "<table class=\"simpletable\">\n",
       "<caption>OLS Regression Results</caption>\n",
       "<tr>\n",
       "  <th>Dep. Variable:</th>    <td>log_worldwide_adjusted</td> <th>  R-squared:         </th> <td>   0.684</td>\n",
       "</tr>\n",
       "<tr>\n",
       "  <th>Model:</th>                      <td>OLS</td>          <th>  Adj. R-squared:    </th> <td>   0.678</td>\n",
       "</tr>\n",
       "<tr>\n",
       "  <th>Method:</th>                <td>Least Squares</td>     <th>  F-statistic:       </th> <td>   99.81</td>\n",
       "</tr>\n",
       "<tr>\n",
       "  <th>Date:</th>                <td>Fri, 06 Oct 2017</td>    <th>  Prob (F-statistic):</th>  <td>  0.00</td> \n",
       "</tr>\n",
       "<tr>\n",
       "  <th>Time:</th>                    <td>09:51:58</td>        <th>  Log-Likelihood:    </th> <td> -2029.0</td>\n",
       "</tr>\n",
       "<tr>\n",
       "  <th>No. Observations:</th>         <td>  1835</td>         <th>  AIC:               </th> <td>   4138.</td>\n",
       "</tr>\n",
       "<tr>\n",
       "  <th>Df Residuals:</th>             <td>  1795</td>         <th>  BIC:               </th> <td>   4359.</td>\n",
       "</tr>\n",
       "<tr>\n",
       "  <th>Df Model:</th>                 <td>    39</td>         <th>                     </th>     <td> </td>   \n",
       "</tr>\n",
       "<tr>\n",
       "  <th>Covariance Type:</th>         <td>nonrobust</td>       <th>                     </th>     <td> </td>   \n",
       "</tr>\n",
       "</table>\n",
       "<table class=\"simpletable\">\n",
       "<tr>\n",
       "           <td></td>              <th>coef</th>     <th>std err</th>      <th>t</th>      <th>P>|t|</th>  <th>[0.025</th>    <th>0.975]</th>  \n",
       "</tr>\n",
       "<tr>\n",
       "  <th>runtime</th>             <td>    0.0097</td> <td>    0.001</td> <td>    6.777</td> <td> 0.000</td> <td>    0.007</td> <td>    0.013</td>\n",
       "</tr>\n",
       "<tr>\n",
       "  <th>theaters</th>            <td>    0.0009</td> <td> 2.87e-05</td> <td>   30.873</td> <td> 0.000</td> <td>    0.001</td> <td>    0.001</td>\n",
       "</tr>\n",
       "<tr>\n",
       "  <th>year</th>                <td>   -0.0116</td> <td>    0.004</td> <td>   -3.241</td> <td> 0.001</td> <td>   -0.019</td> <td>   -0.005</td>\n",
       "</tr>\n",
       "<tr>\n",
       "  <th>log_budget_adjusted</th> <td>    0.2539</td> <td>    0.029</td> <td>    8.724</td> <td> 0.000</td> <td>    0.197</td> <td>    0.311</td>\n",
       "</tr>\n",
       "<tr>\n",
       "  <th>top_director</th>        <td>    0.4084</td> <td>    0.067</td> <td>    6.086</td> <td> 0.000</td> <td>    0.277</td> <td>    0.540</td>\n",
       "</tr>\n",
       "<tr>\n",
       "  <th>m_April</th>             <td>    1.9602</td> <td>    0.454</td> <td>    4.315</td> <td> 0.000</td> <td>    1.069</td> <td>    2.851</td>\n",
       "</tr>\n",
       "<tr>\n",
       "  <th>m_August</th>            <td>    2.1044</td> <td>    0.457</td> <td>    4.605</td> <td> 0.000</td> <td>    1.208</td> <td>    3.001</td>\n",
       "</tr>\n",
       "<tr>\n",
       "  <th>m_December</th>          <td>    2.3795</td> <td>    0.456</td> <td>    5.222</td> <td> 0.000</td> <td>    1.486</td> <td>    3.273</td>\n",
       "</tr>\n",
       "<tr>\n",
       "  <th>m_February</th>          <td>    1.9720</td> <td>    0.456</td> <td>    4.323</td> <td> 0.000</td> <td>    1.077</td> <td>    2.867</td>\n",
       "</tr>\n",
       "<tr>\n",
       "  <th>m_January</th>           <td>    2.1482</td> <td>    0.460</td> <td>    4.674</td> <td> 0.000</td> <td>    1.247</td> <td>    3.050</td>\n",
       "</tr>\n",
       "<tr>\n",
       "  <th>m_July</th>              <td>    2.2590</td> <td>    0.456</td> <td>    4.953</td> <td> 0.000</td> <td>    1.364</td> <td>    3.153</td>\n",
       "</tr>\n",
       "<tr>\n",
       "  <th>m_June</th>              <td>    2.2332</td> <td>    0.455</td> <td>    4.906</td> <td> 0.000</td> <td>    1.340</td> <td>    3.126</td>\n",
       "</tr>\n",
       "<tr>\n",
       "  <th>m_March</th>             <td>    1.9814</td> <td>    0.454</td> <td>    4.360</td> <td> 0.000</td> <td>    1.090</td> <td>    2.873</td>\n",
       "</tr>\n",
       "<tr>\n",
       "  <th>m_May</th>               <td>    2.1684</td> <td>    0.455</td> <td>    4.762</td> <td> 0.000</td> <td>    1.275</td> <td>    3.061</td>\n",
       "</tr>\n",
       "<tr>\n",
       "  <th>m_November</th>          <td>    2.1773</td> <td>    0.454</td> <td>    4.800</td> <td> 0.000</td> <td>    1.288</td> <td>    3.067</td>\n",
       "</tr>\n",
       "<tr>\n",
       "  <th>m_October</th>           <td>    1.9635</td> <td>    0.454</td> <td>    4.322</td> <td> 0.000</td> <td>    1.072</td> <td>    2.855</td>\n",
       "</tr>\n",
       "<tr>\n",
       "  <th>m_September</th>         <td>    1.9006</td> <td>    0.457</td> <td>    4.161</td> <td> 0.000</td> <td>    1.005</td> <td>    2.796</td>\n",
       "</tr>\n",
       "<tr>\n",
       "  <th>m_G</th>                 <td>    6.4073</td> <td>    1.353</td> <td>    4.735</td> <td> 0.000</td> <td>    3.753</td> <td>    9.061</td>\n",
       "</tr>\n",
       "<tr>\n",
       "  <th>m_PG</th>                <td>    6.2991</td> <td>    1.361</td> <td>    4.630</td> <td> 0.000</td> <td>    3.631</td> <td>    8.968</td>\n",
       "</tr>\n",
       "<tr>\n",
       "  <th>m_PG-13</th>             <td>    6.2663</td> <td>    1.357</td> <td>    4.617</td> <td> 0.000</td> <td>    3.605</td> <td>    8.928</td>\n",
       "</tr>\n",
       "<tr>\n",
       "  <th>m_R</th>                 <td>    6.2750</td> <td>    1.360</td> <td>    4.615</td> <td> 0.000</td> <td>    3.608</td> <td>    8.942</td>\n",
       "</tr>\n",
       "<tr>\n",
       "  <th>g_Action</th>            <td>   -0.1017</td> <td>    0.049</td> <td>   -2.080</td> <td> 0.038</td> <td>   -0.197</td> <td>   -0.006</td>\n",
       "</tr>\n",
       "<tr>\n",
       "  <th>g_Adventure</th>         <td>    0.0612</td> <td>    0.053</td> <td>    1.156</td> <td> 0.248</td> <td>   -0.043</td> <td>    0.165</td>\n",
       "</tr>\n",
       "<tr>\n",
       "  <th>g_Animation</th>         <td>    0.2070</td> <td>    0.090</td> <td>    2.311</td> <td> 0.021</td> <td>    0.031</td> <td>    0.383</td>\n",
       "</tr>\n",
       "<tr>\n",
       "  <th>g_Biography</th>         <td>   -0.0477</td> <td>    0.092</td> <td>   -0.519</td> <td> 0.604</td> <td>   -0.228</td> <td>    0.133</td>\n",
       "</tr>\n",
       "<tr>\n",
       "  <th>g_Comedy</th>            <td>   -0.1155</td> <td>    0.052</td> <td>   -2.204</td> <td> 0.028</td> <td>   -0.218</td> <td>   -0.013</td>\n",
       "</tr>\n",
       "<tr>\n",
       "  <th>g_Crime</th>             <td>   -0.1018</td> <td>    0.054</td> <td>   -1.903</td> <td> 0.057</td> <td>   -0.207</td> <td>    0.003</td>\n",
       "</tr>\n",
       "<tr>\n",
       "  <th>g_Drama</th>             <td>   -0.0221</td> <td>    0.046</td> <td>   -0.479</td> <td> 0.632</td> <td>   -0.112</td> <td>    0.068</td>\n",
       "</tr>\n",
       "<tr>\n",
       "  <th>g_Family</th>            <td>   -0.0293</td> <td>    0.104</td> <td>   -0.283</td> <td> 0.778</td> <td>   -0.232</td> <td>    0.174</td>\n",
       "</tr>\n",
       "<tr>\n",
       "  <th>g_Fantasy</th>           <td>   -0.0225</td> <td>    0.056</td> <td>   -0.398</td> <td> 0.691</td> <td>   -0.133</td> <td>    0.088</td>\n",
       "</tr>\n",
       "<tr>\n",
       "  <th>g_History</th>           <td>    0.1164</td> <td>    0.118</td> <td>    0.986</td> <td> 0.324</td> <td>   -0.115</td> <td>    0.348</td>\n",
       "</tr>\n",
       "<tr>\n",
       "  <th>g_Horror</th>            <td>    0.0512</td> <td>    0.066</td> <td>    0.770</td> <td> 0.441</td> <td>   -0.079</td> <td>    0.182</td>\n",
       "</tr>\n",
       "<tr>\n",
       "  <th>g_Music</th>             <td>    0.0549</td> <td>    0.094</td> <td>    0.583</td> <td> 0.560</td> <td>   -0.130</td> <td>    0.240</td>\n",
       "</tr>\n",
       "<tr>\n",
       "  <th>g_Musical</th>           <td>    0.0910</td> <td>    0.145</td> <td>    0.626</td> <td> 0.531</td> <td>   -0.194</td> <td>    0.376</td>\n",
       "</tr>\n",
       "<tr>\n",
       "  <th>g_Mystery</th>           <td>    0.0087</td> <td>    0.057</td> <td>    0.152</td> <td> 0.879</td> <td>   -0.103</td> <td>    0.120</td>\n",
       "</tr>\n",
       "<tr>\n",
       "  <th>g_Romance</th>           <td>    0.0642</td> <td>    0.049</td> <td>    1.310</td> <td> 0.191</td> <td>   -0.032</td> <td>    0.160</td>\n",
       "</tr>\n",
       "<tr>\n",
       "  <th>g_Sci-Fi</th>            <td>   -0.0895</td> <td>    0.056</td> <td>   -1.612</td> <td> 0.107</td> <td>   -0.198</td> <td>    0.019</td>\n",
       "</tr>\n",
       "<tr>\n",
       "  <th>g_Sport</th>             <td>   -0.4589</td> <td>    0.090</td> <td>   -5.087</td> <td> 0.000</td> <td>   -0.636</td> <td>   -0.282</td>\n",
       "</tr>\n",
       "<tr>\n",
       "  <th>g_Thriller</th>          <td>    0.0025</td> <td>    0.051</td> <td>    0.050</td> <td> 0.960</td> <td>   -0.097</td> <td>    0.102</td>\n",
       "</tr>\n",
       "<tr>\n",
       "  <th>g_War</th>               <td>   -0.2832</td> <td>    0.112</td> <td>   -2.522</td> <td> 0.012</td> <td>   -0.503</td> <td>   -0.063</td>\n",
       "</tr>\n",
       "<tr>\n",
       "  <th>g_Western</th>           <td>   -0.6865</td> <td>    0.165</td> <td>   -4.172</td> <td> 0.000</td> <td>   -1.009</td> <td>   -0.364</td>\n",
       "</tr>\n",
       "<tr>\n",
       "  <th>intercept</th>           <td>   25.2477</td> <td>    5.422</td> <td>    4.656</td> <td> 0.000</td> <td>   14.613</td> <td>   35.882</td>\n",
       "</tr>\n",
       "</table>\n",
       "<table class=\"simpletable\">\n",
       "<tr>\n",
       "  <th>Omnibus:</th>       <td>128.799</td> <th>  Durbin-Watson:     </th> <td>   1.794</td> \n",
       "</tr>\n",
       "<tr>\n",
       "  <th>Prob(Omnibus):</th> <td> 0.000</td>  <th>  Jarque-Bera (JB):  </th> <td> 630.307</td> \n",
       "</tr>\n",
       "<tr>\n",
       "  <th>Skew:</th>          <td>-0.002</td>  <th>  Prob(JB):          </th> <td>1.35e-137</td>\n",
       "</tr>\n",
       "<tr>\n",
       "  <th>Kurtosis:</th>      <td> 5.871</td>  <th>  Cond. No.          </th> <td>1.03e+16</td> \n",
       "</tr>\n",
       "</table>"
      ],
      "text/plain": [
       "<class 'statsmodels.iolib.summary.Summary'>\n",
       "\"\"\"\n",
       "                              OLS Regression Results                              \n",
       "==================================================================================\n",
       "Dep. Variable:     log_worldwide_adjusted   R-squared:                       0.684\n",
       "Model:                                OLS   Adj. R-squared:                  0.678\n",
       "Method:                     Least Squares   F-statistic:                     99.81\n",
       "Date:                    Fri, 06 Oct 2017   Prob (F-statistic):               0.00\n",
       "Time:                            09:51:58   Log-Likelihood:                -2029.0\n",
       "No. Observations:                    1835   AIC:                             4138.\n",
       "Df Residuals:                        1795   BIC:                             4359.\n",
       "Df Model:                              39                                         \n",
       "Covariance Type:                nonrobust                                         \n",
       "=======================================================================================\n",
       "                          coef    std err          t      P>|t|      [0.025      0.975]\n",
       "---------------------------------------------------------------------------------------\n",
       "runtime                 0.0097      0.001      6.777      0.000       0.007       0.013\n",
       "theaters                0.0009   2.87e-05     30.873      0.000       0.001       0.001\n",
       "year                   -0.0116      0.004     -3.241      0.001      -0.019      -0.005\n",
       "log_budget_adjusted     0.2539      0.029      8.724      0.000       0.197       0.311\n",
       "top_director            0.4084      0.067      6.086      0.000       0.277       0.540\n",
       "m_April                 1.9602      0.454      4.315      0.000       1.069       2.851\n",
       "m_August                2.1044      0.457      4.605      0.000       1.208       3.001\n",
       "m_December              2.3795      0.456      5.222      0.000       1.486       3.273\n",
       "m_February              1.9720      0.456      4.323      0.000       1.077       2.867\n",
       "m_January               2.1482      0.460      4.674      0.000       1.247       3.050\n",
       "m_July                  2.2590      0.456      4.953      0.000       1.364       3.153\n",
       "m_June                  2.2332      0.455      4.906      0.000       1.340       3.126\n",
       "m_March                 1.9814      0.454      4.360      0.000       1.090       2.873\n",
       "m_May                   2.1684      0.455      4.762      0.000       1.275       3.061\n",
       "m_November              2.1773      0.454      4.800      0.000       1.288       3.067\n",
       "m_October               1.9635      0.454      4.322      0.000       1.072       2.855\n",
       "m_September             1.9006      0.457      4.161      0.000       1.005       2.796\n",
       "m_G                     6.4073      1.353      4.735      0.000       3.753       9.061\n",
       "m_PG                    6.2991      1.361      4.630      0.000       3.631       8.968\n",
       "m_PG-13                 6.2663      1.357      4.617      0.000       3.605       8.928\n",
       "m_R                     6.2750      1.360      4.615      0.000       3.608       8.942\n",
       "g_Action               -0.1017      0.049     -2.080      0.038      -0.197      -0.006\n",
       "g_Adventure             0.0612      0.053      1.156      0.248      -0.043       0.165\n",
       "g_Animation             0.2070      0.090      2.311      0.021       0.031       0.383\n",
       "g_Biography            -0.0477      0.092     -0.519      0.604      -0.228       0.133\n",
       "g_Comedy               -0.1155      0.052     -2.204      0.028      -0.218      -0.013\n",
       "g_Crime                -0.1018      0.054     -1.903      0.057      -0.207       0.003\n",
       "g_Drama                -0.0221      0.046     -0.479      0.632      -0.112       0.068\n",
       "g_Family               -0.0293      0.104     -0.283      0.778      -0.232       0.174\n",
       "g_Fantasy              -0.0225      0.056     -0.398      0.691      -0.133       0.088\n",
       "g_History               0.1164      0.118      0.986      0.324      -0.115       0.348\n",
       "g_Horror                0.0512      0.066      0.770      0.441      -0.079       0.182\n",
       "g_Music                 0.0549      0.094      0.583      0.560      -0.130       0.240\n",
       "g_Musical               0.0910      0.145      0.626      0.531      -0.194       0.376\n",
       "g_Mystery               0.0087      0.057      0.152      0.879      -0.103       0.120\n",
       "g_Romance               0.0642      0.049      1.310      0.191      -0.032       0.160\n",
       "g_Sci-Fi               -0.0895      0.056     -1.612      0.107      -0.198       0.019\n",
       "g_Sport                -0.4589      0.090     -5.087      0.000      -0.636      -0.282\n",
       "g_Thriller              0.0025      0.051      0.050      0.960      -0.097       0.102\n",
       "g_War                  -0.2832      0.112     -2.522      0.012      -0.503      -0.063\n",
       "g_Western              -0.6865      0.165     -4.172      0.000      -1.009      -0.364\n",
       "intercept              25.2477      5.422      4.656      0.000      14.613      35.882\n",
       "==============================================================================\n",
       "Omnibus:                      128.799   Durbin-Watson:                   1.794\n",
       "Prob(Omnibus):                  0.000   Jarque-Bera (JB):              630.307\n",
       "Skew:                          -0.002   Prob(JB):                    1.35e-137\n",
       "Kurtosis:                       5.871   Cond. No.                     1.03e+16\n",
       "==============================================================================\n",
       "\n",
       "Warnings:\n",
       "[1] Standard Errors assume that the covariance matrix of the errors is correctly specified.\n",
       "[2] The smallest eigenvalue is 2.04e-22. This might indicate that there are\n",
       "strong multicollinearity problems or that the design matrix is singular.\n",
       "\"\"\""
      ]
     },
     "execution_count": 79,
     "metadata": {},
     "output_type": "execute_result"
    }
   ],
   "source": [
    "X[\"intercept\"] = 1\n",
    "model = sm.OLS(y, X)\n",
    "fit1 = model.fit()\n",
    "fit1.summary()"
   ]
  },
  {
   "cell_type": "code",
   "execution_count": 80,
   "metadata": {},
   "outputs": [
    {
     "ename": "NameError",
     "evalue": "name 'sig_columns' is not defined",
     "output_type": "error",
     "traceback": [
      "\u001b[0;31m---------------------------------------------------------------------------\u001b[0m",
      "\u001b[0;31mNameError\u001b[0m                                 Traceback (most recent call last)",
      "\u001b[0;32m<ipython-input-80-5c639e41c559>\u001b[0m in \u001b[0;36m<module>\u001b[0;34m()\u001b[0m\n\u001b[0;32m----> 1\u001b[0;31m \u001b[0msig_columns\u001b[0m\u001b[0;34m\u001b[0m\u001b[0m\n\u001b[0m",
      "\u001b[0;31mNameError\u001b[0m: name 'sig_columns' is not defined"
     ]
    }
   ],
   "source": [
    "sig_columns"
   ]
  },
  {
   "cell_type": "code",
   "execution_count": 306,
   "metadata": {
    "collapsed": true
   },
   "outputs": [],
   "source": [
    "# Cross validate statsmodels\n",
    "def evaluate_model(est, X, y, cv=10):\n",
    "    X_train, X_test, y_train, y_test = train_test_split(X, y, test_size=0.3)\n",
    "    est.fit(X_train,y_train)\n",
    "    r2 = est.score(X_test,y_test)\n",
    "    cv_r2 = cross_val_score(est, X, y, cv=cv, scoring='r2')\n",
    "\n",
    "    \n",
    "    # Traintest\n",
    "    cv_r2_mean = sum(cv_r2)/len(cv_r2)\n",
    "    mse = mean_squared_error(y, est.predict(X))\n",
    "    cv_mse =  cross_val_score(est, X, y, cv=cv, scoring='neg_mean_squared_error')\n",
    "    cv_mse_mean = -sum(cv_mse)/len(cv_mse)\n",
    "    \n",
    "    #Repeated train/test split\n",
    "    scores = []\n",
    "    for i in range(cv):\n",
    "        X_train, X_test, y_train, y_test = train_test_split(X, y, test_size=0.3)\n",
    "        est.fit(X_train, y_train)\n",
    "        scores.append(est.score(X_test, y_test))\n",
    "    train = sum(scores)/len(scores)\n",
    "    \n",
    "    \n",
    "    \n",
    "    print(\"With {} columns\".format(X.shape[1]))\n",
    "    print(\"The MSE is {}\".format(mse))\n",
    "    print(\"The train/test split r-square is {}\".format(r2))\n",
    "    print(\"The cross-validated mean mse is {}\".format(cv_mse_mean))\n",
    "    print(\"The r-squared of the model is: {}\".format(est.score(X, y)))\n",
    "    print(\"The cross-validated mean r-squared is: {}\".format(cv_r2_mean))\n",
    "    print(\"Repeated train/test split yields a r-squared of {}\".format(train))\n",
    "    #print(cv_r2)\n"
   ]
  },
  {
   "cell_type": "code",
   "execution_count": 324,
   "metadata": {
    "collapsed": true
   },
   "outputs": [],
   "source": [
    "def evaluate_model(est, X, y, cv=10):\n",
    "    X_train, X_test, y_train, y_test = train_test_split(X, y, test_size=0.3)\n",
    "    est.fit(X_train,y_train)\n",
    "    est_pred = est.predict(X_test)\n",
    "    mse_test = mean_squared_error(y_test, est.predict(X_test))\n",
    "    mse_train = mean_squared_error(y_train, est.predict(X_train))\n",
    "    \n",
    "    r2_test = est.score(X_test, y_test)\n",
    "    r2_train = est.score(X_train, y_train)\n",
    "    \n",
    "    \n",
    "    r2_alt = r2_score(y_test, est.predict(X_test))\n",
    "    print(r2_alt)\n",
    "    \n",
    "    '''r2 = est.score(X_test,y_test)\n",
    "    cv_r2 = cross_val_score(est, X, y, cv=cv, scoring='r2')\n",
    "\n",
    "    \n",
    "    # Traintest\n",
    "    cv_r2_mean = sum(cv_r2)/len(cv_r2)\n",
    "    mse = mean_squared_error(y, est.predict(X))\n",
    "    cv_mse =  cross_val_score(est, X, y, cv=cv, scoring='neg_mean_squared_error')\n",
    "    cv_mse_mean = -sum(cv_mse)/len(cv_mse)\n",
    "    \n",
    "    #Repeated train/test split\n",
    "    scores = []\n",
    "    for i in range(cv):\n",
    "        X_train, X_test, y_train, y_test = train_test_split(X, y, test_size=0.3)\n",
    "        est.fit(X_train, y_train)\n",
    "        scores.append(est.score(X_test, y_test))\n",
    "    train = sum(scores)/len(scores)'''\n",
    "    \n",
    "    \n",
    "    \n",
    "    print(\"With {} columns\".format(X.shape[1]))\n",
    "    print(\"The train MSE is {}\".format(mse_train))\n",
    "    print(\"The test MSE is {}\".format(mse_test))\n",
    "    print(\"The r-squared of the training set is {}\".format(r2_train))\n",
    "    print(\"The r-squared of the testing set is {}\".format(r2_test))\n",
    "    \n",
    "    \"\"\"print(\"The train/test split r-square is {}\".format(r2))\n",
    "    print(\"The cross-validated mean mse is {}\".format(cv_mse_mean))\n",
    "    print(\"The r-squared of the model is: {}\".format(est.score(X, y)))\n",
    "    print(\"The cross-validated mean r-squared is: {}\".format(cv_r2_mean))\n",
    "    print(\"Repeated train/test split yields a r-squared of {}\".format(train))\"\"\"\n",
    "    #print(cv_r2)"
   ]
  },
  {
   "cell_type": "code",
   "execution_count": 330,
   "metadata": {},
   "outputs": [
    {
     "name": "stdout",
     "output_type": "stream",
     "text": [
      "-0.00450541196075\n",
      "With 153 columns\n",
      "The train MSE is 1.7356209101953801\n",
      "The test MSE is 1.5977425329740753\n",
      "The r-squared of the training set is 0.0\n",
      "The r-squared of the testing set is -0.0045054119607483845\n"
     ]
    }
   ],
   "source": [
    "evaluate_model(est, df_mod, df_y, cv=10)"
   ]
  },
  {
   "cell_type": "code",
   "execution_count": 332,
   "metadata": {},
   "outputs": [
    {
     "data": {
      "text/plain": [
       "Index(['runtime', 'theaters', 'year', 'log_budget_adjusted', 'top_director',\n",
       "       'm_April', 'm_August', 'm_December', 'm_February', 'm_January',\n",
       "       ...\n",
       "       'd_Mexico', 'd_New_Zealand', 'd_Panama', 'd_Romania', 'd_Russia',\n",
       "       'd_South_Africa', 'd_Spain', 'd_UK', 'd_USA', 'd_United_Arab_Emirates'],\n",
       "      dtype='object', length=153)"
      ]
     },
     "execution_count": 332,
     "metadata": {},
     "output_type": "execute_result"
    }
   ],
   "source": [
    "df_mod.columns"
   ]
  },
  {
   "cell_type": "code",
   "execution_count": 303,
   "metadata": {
    "collapsed": true
   },
   "outputs": [],
   "source": [
    "X_train, X_test, y_train, y_test = train_test_split(df_mod, df_y, test_size=0.3)"
   ]
  },
  {
   "cell_type": "code",
   "execution_count": null,
   "metadata": {
    "collapsed": true
   },
   "outputs": [],
   "source": [
    "est = LinearRegression()\n",
    "est.fit(X_train, y_train)\n",
    "split_score = est.score(X_test, y_test)\n"
   ]
  },
  {
   "cell_type": "code",
   "execution_count": 225,
   "metadata": {},
   "outputs": [
    {
     "data": {
      "text/plain": [
       "0.99603496801153102"
      ]
     },
     "execution_count": 225,
     "metadata": {},
     "output_type": "execute_result"
    }
   ],
   "source": [
    "X_train, X_test, y_train, y_test = train_test_split(X, y, test_size=0.3)\n",
    "est2 = LinearRegression()\n",
    "# Manual r^2\n",
    "est2.fit(X_train, y_train)\n",
    "l = est2.predict(X_test)\n",
    "ymean = sum(y_test)/len(y)\n",
    "sst = sum([(x-ymean)**2 for x in y_test])\n",
    "ssr = sum([(x-y)**2 for x,y in zip(l, y_test)])\n",
    "1-(ssr/sst)\n"
   ]
  },
  {
   "cell_type": "code",
   "execution_count": 230,
   "metadata": {},
   "outputs": [
    {
     "data": {
      "text/plain": [
       "0.65934478796396556"
      ]
     },
     "execution_count": 230,
     "metadata": {},
     "output_type": "execute_result"
    }
   ],
   "source": [
    "r2_score(y_test, est2.predict(X_test))"
   ]
  },
  {
   "cell_type": "code",
   "execution_count": 69,
   "metadata": {},
   "outputs": [
    {
     "ename": "NameError",
     "evalue": "name 'sig_columns' is not defined",
     "output_type": "error",
     "traceback": [
      "\u001b[0;31m---------------------------------------------------------------------------\u001b[0m",
      "\u001b[0;31mNameError\u001b[0m                                 Traceback (most recent call last)",
      "\u001b[0;32m<ipython-input-69-2c90bafa3fa4>\u001b[0m in \u001b[0;36m<module>\u001b[0;34m()\u001b[0m\n\u001b[1;32m      1\u001b[0m \u001b[0;31m#est = make_pipeline(PolynomialFeatures(2),LinearRegression())\u001b[0m\u001b[0;34m\u001b[0m\u001b[0;34m\u001b[0m\u001b[0m\n\u001b[1;32m      2\u001b[0m \u001b[0mest\u001b[0m \u001b[0;34m=\u001b[0m \u001b[0mLinearRegression\u001b[0m\u001b[0;34m(\u001b[0m\u001b[0;34m)\u001b[0m\u001b[0;34m\u001b[0m\u001b[0m\n\u001b[0;32m----> 3\u001b[0;31m \u001b[0mX\u001b[0m \u001b[0;34m=\u001b[0m \u001b[0mdf_mod\u001b[0m\u001b[0;34m[\u001b[0m\u001b[0msig_columns\u001b[0m\u001b[0;34m]\u001b[0m\u001b[0;34m\u001b[0m\u001b[0m\n\u001b[0m\u001b[1;32m      4\u001b[0m \u001b[0my\u001b[0m \u001b[0;34m=\u001b[0m \u001b[0mdf_y\u001b[0m\u001b[0;34m\u001b[0m\u001b[0m\n\u001b[1;32m      5\u001b[0m \u001b[0mevaluate_model\u001b[0m\u001b[0;34m(\u001b[0m\u001b[0mest\u001b[0m\u001b[0;34m,\u001b[0m \u001b[0mX\u001b[0m\u001b[0;34m,\u001b[0m \u001b[0my\u001b[0m\u001b[0;34m,\u001b[0m\u001b[0;36m10\u001b[0m\u001b[0;34m)\u001b[0m\u001b[0;34m\u001b[0m\u001b[0m\n",
      "\u001b[0;31mNameError\u001b[0m: name 'sig_columns' is not defined"
     ]
    }
   ],
   "source": [
    "est = LinearRegression()\n",
    "X = df_mod\n",
    "y = df_y\n",
    "evaluate_model(est, X, y,10)"
   ]
  },
  {
   "cell_type": "code",
   "execution_count": 135,
   "metadata": {},
   "outputs": [
    {
     "ename": "NameError",
     "evalue": "name 'evaluate_model' is not defined",
     "output_type": "error",
     "traceback": [
      "\u001b[0;31m---------------------------------------------------------------------------\u001b[0m",
      "\u001b[0;31mNameError\u001b[0m                                 Traceback (most recent call last)",
      "\u001b[0;32m<ipython-input-135-a076d048fc62>\u001b[0m in \u001b[0;36m<module>\u001b[0;34m()\u001b[0m\n\u001b[1;32m      2\u001b[0m \u001b[0mX\u001b[0m \u001b[0;34m=\u001b[0m \u001b[0mdf_mod\u001b[0m\u001b[0;34m\u001b[0m\u001b[0m\n\u001b[1;32m      3\u001b[0m \u001b[0my\u001b[0m \u001b[0;34m=\u001b[0m \u001b[0mdf_y\u001b[0m\u001b[0;34m\u001b[0m\u001b[0m\n\u001b[0;32m----> 4\u001b[0;31m \u001b[0mevaluate_model\u001b[0m\u001b[0;34m(\u001b[0m\u001b[0mest\u001b[0m\u001b[0;34m,\u001b[0m \u001b[0mX\u001b[0m\u001b[0;34m,\u001b[0m \u001b[0my\u001b[0m\u001b[0;34m,\u001b[0m\u001b[0;36m10\u001b[0m\u001b[0;34m)\u001b[0m\u001b[0;34m\u001b[0m\u001b[0m\n\u001b[0m",
      "\u001b[0;31mNameError\u001b[0m: name 'evaluate_model' is not defined"
     ]
    }
   ],
   "source": [
    "est = LinearRegression()#Lasso(normalize=True)\n",
    "X = df_mod\n",
    "y = df_y\n",
    "evaluate_model(est, X, y,10)"
   ]
  },
  {
   "cell_type": "code",
   "execution_count": 71,
   "metadata": {},
   "outputs": [
    {
     "data": {
      "text/plain": [
       "budget                                                7000\n",
       "country                                                USA\n",
       "director                                     Shane Carruth\n",
       "genre                              Drama, Sci-Fi, Thriller\n",
       "language                                    English,French\n",
       "lifetime                                            424760\n",
       "mojo_url                            /movies/?id=primer.htm\n",
       "opening                                              28162\n",
       "rating                                                 6.9\n",
       "rating_count                                        81,410\n",
       "release                                2005-05-27 00:00:00\n",
       "runtime                                                 77\n",
       "studio                                               Think\n",
       "theaters                                                 4\n",
       "title                                               Primer\n",
       "url                       /title/tt0390384/?ref_=adv_li_tt\n",
       "worldwide                                           424760\n",
       "year                                                  2004\n",
       "opening_adjusted                                   31846.2\n",
       "lifetime_adjusted                                   480328\n",
       "worldwide_adjusted                                  480328\n",
       "budget_adjusted                                    7915.76\n",
       "log_opening                                        10.2457\n",
       "log_lifetime                                       12.9593\n",
       "log_worldwide                                      12.9593\n",
       "log_budget                                         8.85367\n",
       "log_opening_adjusted                               10.3687\n",
       "log_lifetime_adjusted                              13.0822\n",
       "log_worldwide_adjusted                             12.9593\n",
       "log_budget_adjusted                                8.97661\n",
       "                                        ...               \n",
       "d_Denmark                                                0\n",
       "d_Finland                                                0\n",
       "d_France                                                 0\n",
       "d_Georgia                                                0\n",
       "d_Germany                                                0\n",
       "d_Greece                                                 0\n",
       "d_Hong_Kong                                              0\n",
       "d_Hungary                                                0\n",
       "d_India                                                  0\n",
       "d_Indonesia                                              0\n",
       "d_Iran                                                   0\n",
       "d_Ireland                                                0\n",
       "d_Israel                                                 0\n",
       "d_Italy                                                  0\n",
       "d_Japan                                                  0\n",
       "d_Kenya                                                  0\n",
       "d_Malta                                                  0\n",
       "d_Mexico                                                 0\n",
       "d_New_Zealand                                            0\n",
       "d_Norway                                                 0\n",
       "d_Panama                                                 0\n",
       "d_Romania                                                0\n",
       "d_Russia                                                 0\n",
       "d_South_Africa                                           0\n",
       "d_South_Korea                                            0\n",
       "d_Spain                                                  0\n",
       "d_Sweden                                                 0\n",
       "d_UK                                                     0\n",
       "d_USA                                                    1\n",
       "d_United_Arab_Emirates                                   0\n",
       "Name: 304, Length: 211, dtype: object"
      ]
     },
     "execution_count": 71,
     "metadata": {},
     "output_type": "execute_result"
    }
   ],
   "source": [
    "#X[X.log_budget_adjusted < 10]\n",
    "df_clean.loc[304]"
   ]
  },
  {
   "cell_type": "code",
   "execution_count": 72,
   "metadata": {},
   "outputs": [
    {
     "data": {
      "text/plain": [
       "count    2370.000000\n",
       "mean       16.920790\n",
       "std         1.876788\n",
       "min         7.665753\n",
       "25%        16.306673\n",
       "50%        17.335720\n",
       "75%        18.093064\n",
       "max        20.657833\n",
       "Name: log_lifetime, dtype: float64"
      ]
     },
     "execution_count": 72,
     "metadata": {},
     "output_type": "execute_result"
    }
   ],
   "source": [
    "df_clean.log_lifetime.describe()"
   ]
  },
  {
   "cell_type": "code",
   "execution_count": 73,
   "metadata": {},
   "outputs": [
    {
     "name": "stdout",
     "output_type": "stream",
     "text": [
      "With 184 columns\n",
      "The MSE is 1.201497200719672\n",
      "The cross-validated mean mse is 1.4914982482544579\n",
      "The r-squared of the model is: 0.6163549240996624\n",
      "The cross-validated mean r-squared is: 0.37510183587596463\n",
      "Repeated train/test split yields a r-squared of 0.5567957121705428\n"
     ]
    }
   ],
   "source": [
    "est = Ridge(alpha=0.1, normalize=True)\n",
    "X = df_mod\n",
    "y = df_y\n",
    "evaluate_model(est, X, y,10)"
   ]
  },
  {
   "cell_type": "code",
   "execution_count": null,
   "metadata": {
    "collapsed": true
   },
   "outputs": [],
   "source": []
  },
  {
   "cell_type": "code",
   "execution_count": 74,
   "metadata": {
    "collapsed": true
   },
   "outputs": [],
   "source": [
    "def plot_alpha(X,y, estimator, title):    #X.describe().T\n",
    "    X_train, X_test, y_train, y_test = train_test_split(X, y, test_size=0.3)\n",
    "    colors = sns.hls_palette(2)\n",
    "\n",
    "    n_steps = 5\n",
    "    degree = 9\n",
    "    a_exp = np.linspace(-15,1,num=n_steps)\n",
    "    alpha_range = [10**a for a in a_exp] \n",
    "    #alpha_range = [0.1, 0.5, 1, 5, 10]\n",
    "    \n",
    "    train_error = np.empty(n_steps)\n",
    "    test_error = np.empty(n_steps)\n",
    "    coefs = []\n",
    "    train_error_r2 = np.empty(n_steps)\n",
    "    test_error_r2 = np.empty(n_steps)\n",
    "    \n",
    "\n",
    "    for i,alpha in enumerate(alpha_range):\n",
    "        est = estimator(alpha=alpha, normalize=True)\n",
    "        est.fit(X_train, y_train)\n",
    "\n",
    "        train_error_r2[i] = est.score(X_test, y_test)#mean_squared_error(y_train, est.predict(X_train))\n",
    "        test_error_r2[i] = est.score(X_test, y_test)#mean_squared_error(y_test, est.predict(X_test))\n",
    "\n",
    "        train_error[i] = mean_squared_error(y_train, est.predict(X_train))\n",
    "        test_error[i] = mean_squared_error(y_test, est.predict(X_test))\n",
    "        coefs.append(est.coef_)\n",
    "\n",
    "\n",
    "    # Plot the training and test errors against degree\n",
    "\n",
    "    fig, axes = plt.subplots(nrows=1, ncols=2, squeeze=True, figsize=(12,5), sharex=True)\n",
    "\n",
    "    fig.suptitle(title)\n",
    "    axes[0].plot(alpha_range, train_error, label='train', color=colors[0])\n",
    "    axes[0].plot(alpha_range, test_error, label='test', color=colors[1])\n",
    "    axes[0].set_ylabel('mean squared error')\n",
    "    axes[0].set_xlabel('log($\\lambda$)')\n",
    "    axes[0].legend(loc='upper right')\n",
    "    \n",
    "    axes[1].plot(alpha_range, train_error_r2, label='train', color=colors[0])\n",
    "    axes[1].plot(alpha_range, test_error_r2, label='test', color=colors[1])\n",
    "    axes[1].set_ylabel('r-squared')\n",
    "    axes[1].set_xlabel('log($\\lambda$)')\n",
    "    axes[1].legend(loc='upper right')"
   ]
  },
  {
   "cell_type": "code",
   "execution_count": 356,
   "metadata": {},
   "outputs": [
    {
     "name": "stderr",
     "output_type": "stream",
     "text": [
      "/home/jvheeswijck/anaconda3/lib/python3.6/site-packages/scipy/linalg/basic.py:223: RuntimeWarning: scipy.linalg.solve\n",
      "Ill-conditioned matrix detected. Result is not guaranteed to be accurate.\n",
      "Reciprocal condition number: 1.142785024709152e-17\n",
      "  ' condition number: {}'.format(rcond), RuntimeWarning)\n"
     ]
    },
    {
     "data": {
      "image/png": "[encoded data removed]",
      "text/plain": [
       "<matplotlib.figure.Figure at 0x7fe8f033f240>"
      ]
     },
     "metadata": {},
     "output_type": "display_data"
    }
   ],
   "source": [
    "plot_alpha(X,y, Ridge, \"Ridge\")"
   ]
  },
  {
   "cell_type": "code",
   "execution_count": 76,
   "metadata": {},
   "outputs": [
    {
     "name": "stderr",
     "output_type": "stream",
     "text": [
      "/home/jvheeswijck/anaconda3/lib/python3.6/site-packages/sklearn/linear_model/coordinate_descent.py:484: ConvergenceWarning: Objective did not converge. You might want to increase the number of iterations. Fitting data with very small alpha may cause precision problems.\n",
      "  ConvergenceWarning)\n"
     ]
    },
    {
     "data": {
      "image/png": "[encoded data removed]",
      "text/plain": [
       "<matplotlib.figure.Figure at 0x7fe8f1ab7ba8>"
      ]
     },
     "metadata": {},
     "output_type": "display_data"
    }
   ],
   "source": [
    "plot_alpha(X,y, Lasso, 'Lasso')"
   ]
  },
  {
   "cell_type": "code",
   "execution_count": null,
   "metadata": {
    "collapsed": true
   },
   "outputs": [],
   "source": []
  },
  {
   "cell_type": "markdown",
   "metadata": {},
   "source": [
    "We can see we're overfitting, lets do a bit of feature selection. First let's try using p-value selection by looking for columns that have a low p-value, indicating that the correlation is significant"
   ]
  },
  {
   "cell_type": "code",
   "execution_count": 379,
   "metadata": {},
   "outputs": [
    {
     "ename": "KeyError",
     "evalue": "\"['d_Brazil' 'd_Georgia' 'd_Greece' 'd_Norway'] not in index\"",
     "output_type": "error",
     "traceback": [
      "\u001b[0;31m---------------------------------------------------------------------------\u001b[0m",
      "\u001b[0;31mKeyError\u001b[0m                                  Traceback (most recent call last)",
      "\u001b[0;32m<ipython-input-379-1f34663faaa3>\u001b[0m in \u001b[0;36m<module>\u001b[0;34m()\u001b[0m\n\u001b[1;32m      1\u001b[0m \u001b[0;34m\u001b[0m\u001b[0m\n\u001b[1;32m      2\u001b[0m \u001b[0;34m\u001b[0m\u001b[0m\n\u001b[0;32m----> 3\u001b[0;31m \u001b[0mX\u001b[0m \u001b[0;34m=\u001b[0m \u001b[0mdf_mod\u001b[0m\u001b[0;34m[\u001b[0m\u001b[0msig_columns\u001b[0m\u001b[0;34m]\u001b[0m\u001b[0;34m\u001b[0m\u001b[0m\n\u001b[0m\u001b[1;32m      4\u001b[0m \u001b[0my\u001b[0m \u001b[0;34m=\u001b[0m \u001b[0mdf_y\u001b[0m\u001b[0;34m\u001b[0m\u001b[0m\n\u001b[1;32m      5\u001b[0m \u001b[0mevaluate_model\u001b[0m\u001b[0;34m(\u001b[0m\u001b[0mest\u001b[0m\u001b[0;34m,\u001b[0m \u001b[0mX\u001b[0m\u001b[0;34m,\u001b[0m \u001b[0my\u001b[0m\u001b[0;34m)\u001b[0m\u001b[0;34m\u001b[0m\u001b[0m\n",
      "\u001b[0;32m/home/jvheeswijck/anaconda3/lib/python3.6/site-packages/pandas/core/frame.py\u001b[0m in \u001b[0;36m__getitem__\u001b[0;34m(self, key)\u001b[0m\n\u001b[1;32m   2054\u001b[0m         \u001b[0;32mif\u001b[0m \u001b[0misinstance\u001b[0m\u001b[0;34m(\u001b[0m\u001b[0mkey\u001b[0m\u001b[0;34m,\u001b[0m \u001b[0;34m(\u001b[0m\u001b[0mSeries\u001b[0m\u001b[0;34m,\u001b[0m \u001b[0mnp\u001b[0m\u001b[0;34m.\u001b[0m\u001b[0mndarray\u001b[0m\u001b[0;34m,\u001b[0m \u001b[0mIndex\u001b[0m\u001b[0;34m,\u001b[0m \u001b[0mlist\u001b[0m\u001b[0;34m)\u001b[0m\u001b[0;34m)\u001b[0m\u001b[0;34m:\u001b[0m\u001b[0;34m\u001b[0m\u001b[0m\n\u001b[1;32m   2055\u001b[0m             \u001b[0;31m# either boolean or fancy integer index\u001b[0m\u001b[0;34m\u001b[0m\u001b[0;34m\u001b[0m\u001b[0m\n\u001b[0;32m-> 2056\u001b[0;31m             \u001b[0;32mreturn\u001b[0m \u001b[0mself\u001b[0m\u001b[0;34m.\u001b[0m\u001b[0m_getitem_array\u001b[0m\u001b[0;34m(\u001b[0m\u001b[0mkey\u001b[0m\u001b[0;34m)\u001b[0m\u001b[0;34m\u001b[0m\u001b[0m\n\u001b[0m\u001b[1;32m   2057\u001b[0m         \u001b[0;32melif\u001b[0m \u001b[0misinstance\u001b[0m\u001b[0;34m(\u001b[0m\u001b[0mkey\u001b[0m\u001b[0;34m,\u001b[0m \u001b[0mDataFrame\u001b[0m\u001b[0;34m)\u001b[0m\u001b[0;34m:\u001b[0m\u001b[0;34m\u001b[0m\u001b[0m\n\u001b[1;32m   2058\u001b[0m             \u001b[0;32mreturn\u001b[0m \u001b[0mself\u001b[0m\u001b[0;34m.\u001b[0m\u001b[0m_getitem_frame\u001b[0m\u001b[0;34m(\u001b[0m\u001b[0mkey\u001b[0m\u001b[0;34m)\u001b[0m\u001b[0;34m\u001b[0m\u001b[0m\n",
      "\u001b[0;32m/home/jvheeswijck/anaconda3/lib/python3.6/site-packages/pandas/core/frame.py\u001b[0m in \u001b[0;36m_getitem_array\u001b[0;34m(self, key)\u001b[0m\n\u001b[1;32m   2098\u001b[0m             \u001b[0;32mreturn\u001b[0m \u001b[0mself\u001b[0m\u001b[0;34m.\u001b[0m\u001b[0mtake\u001b[0m\u001b[0;34m(\u001b[0m\u001b[0mindexer\u001b[0m\u001b[0;34m,\u001b[0m \u001b[0maxis\u001b[0m\u001b[0;34m=\u001b[0m\u001b[0;36m0\u001b[0m\u001b[0;34m,\u001b[0m \u001b[0mconvert\u001b[0m\u001b[0;34m=\u001b[0m\u001b[0;32mFalse\u001b[0m\u001b[0;34m)\u001b[0m\u001b[0;34m\u001b[0m\u001b[0m\n\u001b[1;32m   2099\u001b[0m         \u001b[0;32melse\u001b[0m\u001b[0;34m:\u001b[0m\u001b[0;34m\u001b[0m\u001b[0m\n\u001b[0;32m-> 2100\u001b[0;31m             \u001b[0mindexer\u001b[0m \u001b[0;34m=\u001b[0m \u001b[0mself\u001b[0m\u001b[0;34m.\u001b[0m\u001b[0mloc\u001b[0m\u001b[0;34m.\u001b[0m\u001b[0m_convert_to_indexer\u001b[0m\u001b[0;34m(\u001b[0m\u001b[0mkey\u001b[0m\u001b[0;34m,\u001b[0m \u001b[0maxis\u001b[0m\u001b[0;34m=\u001b[0m\u001b[0;36m1\u001b[0m\u001b[0;34m)\u001b[0m\u001b[0;34m\u001b[0m\u001b[0m\n\u001b[0m\u001b[1;32m   2101\u001b[0m             \u001b[0;32mreturn\u001b[0m \u001b[0mself\u001b[0m\u001b[0;34m.\u001b[0m\u001b[0mtake\u001b[0m\u001b[0;34m(\u001b[0m\u001b[0mindexer\u001b[0m\u001b[0;34m,\u001b[0m \u001b[0maxis\u001b[0m\u001b[0;34m=\u001b[0m\u001b[0;36m1\u001b[0m\u001b[0;34m,\u001b[0m \u001b[0mconvert\u001b[0m\u001b[0;34m=\u001b[0m\u001b[0;32mTrue\u001b[0m\u001b[0;34m)\u001b[0m\u001b[0;34m\u001b[0m\u001b[0m\n\u001b[1;32m   2102\u001b[0m \u001b[0;34m\u001b[0m\u001b[0m\n",
      "\u001b[0;32m/home/jvheeswijck/anaconda3/lib/python3.6/site-packages/pandas/core/indexing.py\u001b[0m in \u001b[0;36m_convert_to_indexer\u001b[0;34m(self, obj, axis, is_setter)\u001b[0m\n\u001b[1;32m   1229\u001b[0m                 \u001b[0mmask\u001b[0m \u001b[0;34m=\u001b[0m \u001b[0mcheck\u001b[0m \u001b[0;34m==\u001b[0m \u001b[0;34m-\u001b[0m\u001b[0;36m1\u001b[0m\u001b[0;34m\u001b[0m\u001b[0m\n\u001b[1;32m   1230\u001b[0m                 \u001b[0;32mif\u001b[0m \u001b[0mmask\u001b[0m\u001b[0;34m.\u001b[0m\u001b[0many\u001b[0m\u001b[0;34m(\u001b[0m\u001b[0;34m)\u001b[0m\u001b[0;34m:\u001b[0m\u001b[0;34m\u001b[0m\u001b[0m\n\u001b[0;32m-> 1231\u001b[0;31m                     \u001b[0;32mraise\u001b[0m \u001b[0mKeyError\u001b[0m\u001b[0;34m(\u001b[0m\u001b[0;34m'%s not in index'\u001b[0m \u001b[0;34m%\u001b[0m \u001b[0mobjarr\u001b[0m\u001b[0;34m[\u001b[0m\u001b[0mmask\u001b[0m\u001b[0;34m]\u001b[0m\u001b[0;34m)\u001b[0m\u001b[0;34m\u001b[0m\u001b[0m\n\u001b[0m\u001b[1;32m   1232\u001b[0m \u001b[0;34m\u001b[0m\u001b[0m\n\u001b[1;32m   1233\u001b[0m                 \u001b[0;32mreturn\u001b[0m \u001b[0m_values_from_object\u001b[0m\u001b[0;34m(\u001b[0m\u001b[0mindexer\u001b[0m\u001b[0;34m)\u001b[0m\u001b[0;34m\u001b[0m\u001b[0m\n",
      "\u001b[0;31mKeyError\u001b[0m: \"['d_Brazil' 'd_Georgia' 'd_Greece' 'd_Norway'] not in index\""
     ]
    }
   ],
   "source": [
    "\n",
    "\n",
    "X = df_mod[sig_columns]\n",
    "y = df_y\n",
    "evaluate_model(est, X, y)"
   ]
  },
  {
   "cell_type": "code",
   "execution_count": 81,
   "metadata": {},
   "outputs": [
    {
     "name": "stderr",
     "output_type": "stream",
     "text": [
      "/home/jvheeswijck/anaconda3/lib/python3.6/site-packages/sklearn/feature_selection/univariate_selection.py:279: RuntimeWarning: invalid value encountered in true_divide\n",
      "  corr /= row_norms(X.T)\n"
     ]
    },
    {
     "data": {
      "text/plain": [
       "['runtime',\n",
       " 'theaters',\n",
       " 'year',\n",
       " 'log_budget_adjusted',\n",
       " 'top_director',\n",
       " 'm_April',\n",
       " 'm_August',\n",
       " 'm_December',\n",
       " 'm_January',\n",
       " 'm_July',\n",
       " 'm_June',\n",
       " 'm_May',\n",
       " 'm_November',\n",
       " 'm_October',\n",
       " 'm_September',\n",
       " 'm_G',\n",
       " 'm_PG',\n",
       " 'm_PG-13',\n",
       " 'm_R',\n",
       " 'g_Action',\n",
       " 'g_Adventure',\n",
       " 'g_Animation',\n",
       " 'g_Biography',\n",
       " 'g_Crime',\n",
       " 'g_Drama',\n",
       " 'g_Family',\n",
       " 'g_Fantasy',\n",
       " 'g_Horror',\n",
       " 'g_Music',\n",
       " 'g_Musical',\n",
       " 'g_Romance',\n",
       " 'g_Sci-Fi',\n",
       " 'g_Sport']"
      ]
     },
     "execution_count": 81,
     "metadata": {},
     "output_type": "execute_result"
    }
   ],
   "source": [
    "sig_columns = find_sig_cols(df_mod, df_y, alpha=0.05)\n",
    "sig_columns"
   ]
  },
  {
   "cell_type": "code",
   "execution_count": 106,
   "metadata": {},
   "outputs": [
    {
     "name": "stdout",
     "output_type": "stream",
     "text": [
      "With 184 columns\n",
      "The MSE is 1.1844820718649605\n",
      "The cross-validated mean mse is 88009214105741.44\n",
      "The r-squared of the model is: 0.6273415537393474\n",
      "The cross-validated mean r-squared is: -25108620940924.785\n",
      "Repeated train/test split yields a r-squared of -2916838259893.875\n"
     ]
    }
   ],
   "source": [
    "evaluate_model(est, X, y)"
   ]
  },
  {
   "cell_type": "code",
   "execution_count": 189,
   "metadata": {},
   "outputs": [
    {
     "name": "stdout",
     "output_type": "stream",
     "text": [
      "With 154 columns\n",
      "The MSE is 0.4957044230499696\n",
      "The cross-validated mean mse is 0.6299238982683235\n",
      "The r-squared of the model is: 0.6949376479465463\n",
      "The cross-validated mean r-squared is: 0.4532259593659108\n",
      "Repeated train/test split yields a r-squared of 0.6373144316723319\n"
     ]
    }
   ],
   "source": [
    "evaluate_model(est, X, y)"
   ]
  },
  {
   "cell_type": "code",
   "execution_count": 79,
   "metadata": {},
   "outputs": [
    {
     "ename": "SyntaxError",
     "evalue": "invalid syntax (<ipython-input-79-960f217bc58a>, line 2)",
     "output_type": "error",
     "traceback": [
      "\u001b[0;36m  File \u001b[0;32m\"<ipython-input-79-960f217bc58a>\"\u001b[0;36m, line \u001b[0;32m2\u001b[0m\n\u001b[0;31m    for col in ['']\u001b[0m\n\u001b[0m                   ^\u001b[0m\n\u001b[0;31mSyntaxError\u001b[0m\u001b[0;31m:\u001b[0m invalid syntax\n"
     ]
    }
   ],
   "source": [
    "# Make a loop comparing normal, log, normal adjusted, log adjusted\n",
    "for col in ['']"
   ]
  },
  {
   "cell_type": "code",
   "execution_count": 194,
   "metadata": {},
   "outputs": [
    {
     "data": {
      "text/plain": [
       "(154,)"
      ]
     },
     "execution_count": 194,
     "metadata": {},
     "output_type": "execute_result"
    }
   ],
   "source": [
    "X.columns.shape"
   ]
  },
  {
   "cell_type": "code",
   "execution_count": 359,
   "metadata": {
    "collapsed": true
   },
   "outputs": [],
   "source": [
    "X = df_mod\n",
    "y = df_y"
   ]
  },
  {
   "cell_type": "code",
   "execution_count": 376,
   "metadata": {
    "collapsed": true
   },
   "outputs": [],
   "source": [
    "est = Lasso(alpha=0.000001)"
   ]
  },
  {
   "cell_type": "code",
   "execution_count": 377,
   "metadata": {},
   "outputs": [
    {
     "name": "stderr",
     "output_type": "stream",
     "text": [
      "/home/jvheeswijck/anaconda3/lib/python3.6/site-packages/sklearn/linear_model/coordinate_descent.py:484: ConvergenceWarning: Objective did not converge. You might want to increase the number of iterations. Fitting data with very small alpha may cause precision problems.\n",
      "  ConvergenceWarning)\n"
     ]
    },
    {
     "data": {
      "text/plain": [
       "0.48620584348296941"
      ]
     },
     "execution_count": 377,
     "metadata": {},
     "output_type": "execute_result"
    }
   ],
   "source": [
    "est.fit(df_mod, df_y)\n",
    "mean_squared_error(df.log_worldwide_adjusted, est.predict(df_mod))"
   ]
  },
  {
   "cell_type": "code",
   "execution_count": 192,
   "metadata": {},
   "outputs": [
    {
     "name": "stdout",
     "output_type": "stream",
     "text": [
      "With 154 columns\n",
      "The MSE is 0.1247370948659048\n",
      "The cross-validated mean mse is 11006815029262.822\n",
      "The r-squared of the model is: -6465137687.49683\n",
      "The cross-validated mean r-squared is: -9064987517931.426\n",
      "Repeated train/test split yields a r-squared of -52995978588923.05\n"
     ]
    }
   ],
   "source": [
    "est = make_pipeline(PolynomialFeatures(2), LinearRegression())\n",
    "evaluate_model(est, X, y)"
   ]
  },
  {
   "cell_type": "code",
   "execution_count": 347,
   "metadata": {},
   "outputs": [
    {
     "name": "stderr",
     "output_type": "stream",
     "text": [
      "/home/jvheeswijck/anaconda3/lib/python3.6/site-packages/sklearn/metrics/scorer.py:90: DeprecationWarning: Scoring method mean_squared_error was renamed to neg_mean_squared_error in version 0.18 and will be removed in 0.20.\n",
      "  sample_weight=sample_weight)\n",
      "/home/jvheeswijck/anaconda3/lib/python3.6/site-packages/sklearn/metrics/scorer.py:90: DeprecationWarning: Scoring method mean_squared_error was renamed to neg_mean_squared_error in version 0.18 and will be removed in 0.20.\n",
      "  sample_weight=sample_weight)\n",
      "/home/jvheeswijck/anaconda3/lib/python3.6/site-packages/sklearn/metrics/scorer.py:90: DeprecationWarning: Scoring method mean_squared_error was renamed to neg_mean_squared_error in version 0.18 and will be removed in 0.20.\n",
      "  sample_weight=sample_weight)\n",
      "/home/jvheeswijck/anaconda3/lib/python3.6/site-packages/sklearn/metrics/scorer.py:90: DeprecationWarning: Scoring method mean_squared_error was renamed to neg_mean_squared_error in version 0.18 and will be removed in 0.20.\n",
      "  sample_weight=sample_weight)\n",
      "/home/jvheeswijck/anaconda3/lib/python3.6/site-packages/sklearn/metrics/scorer.py:90: DeprecationWarning: Scoring method mean_squared_error was renamed to neg_mean_squared_error in version 0.18 and will be removed in 0.20.\n",
      "  sample_weight=sample_weight)\n"
     ]
    },
    {
     "data": {
      "text/plain": [
       "-0.62019026206367223"
      ]
     },
     "execution_count": 347,
     "metadata": {},
     "output_type": "execute_result"
    }
   ],
   "source": [
    "# Cross validation\n",
    "score_metric = 'mean_squared_error'\n",
    "scores = cross_val_score(est, X, y, cv=5, scoring=score_metric)\n",
    "sum(scores)/len(scores)\n",
    "#-scores"
   ]
  },
  {
   "cell_type": "code",
   "execution_count": 386,
   "metadata": {},
   "outputs": [
    {
     "data": {
      "text/plain": [
       "0.69269564854774168"
      ]
     },
     "execution_count": 386,
     "metadata": {},
     "output_type": "execute_result"
    }
   ],
   "source": [
    "est = LinearRegression()\n",
    "est.fit(X[sig_columns], y)\n",
    "est.score(X[sig_columns],y)"
   ]
  },
  {
   "cell_type": "code",
   "execution_count": 387,
   "metadata": {
    "collapsed": true
   },
   "outputs": [],
   "source": [
    "def mean(l):\n",
    "    return sum(l)/len(l)"
   ]
  },
  {
   "cell_type": "code",
   "execution_count": 405,
   "metadata": {},
   "outputs": [
    {
     "name": "stdout",
     "output_type": "stream",
     "text": [
      "0.525939500444\n"
     ]
    }
   ],
   "source": [
    "result = cross_val_score(est, X[sig_columns], y, scoring='r2', cv=5)\n",
    "print(mean(result))"
   ]
  },
  {
   "cell_type": "code",
   "execution_count": 150,
   "metadata": {},
   "outputs": [
    {
     "data": {
      "text/plain": [
       "(33,)"
      ]
     },
     "execution_count": 150,
     "metadata": {},
     "output_type": "execute_result"
    }
   ],
   "source": [
    "# Single fit test\n",
    "X_train, X_test, y_train, y_test = train_test_split(X, y, test_size=0.3)\n",
    "est.fit(X_train, y_train)\n",
    "est.score(X_test, y_test)\n",
    "\n",
    "X[sig_columns].columns.shape"
   ]
  },
  {
   "cell_type": "code",
   "execution_count": 106,
   "metadata": {},
   "outputs": [
    {
     "ename": "NameError",
     "evalue": "name 'mean' is not defined",
     "output_type": "error",
     "traceback": [
      "\u001b[0;31m---------------------------------------------------------------------------\u001b[0m",
      "\u001b[0;31mNameError\u001b[0m                                 Traceback (most recent call last)",
      "\u001b[0;32m<ipython-input-106-d21b0fa32386>\u001b[0m in \u001b[0;36m<module>\u001b[0;34m()\u001b[0m\n\u001b[1;32m      9\u001b[0m     \u001b[0mmse\u001b[0m\u001b[0;34m.\u001b[0m\u001b[0mappend\u001b[0m\u001b[0;34m(\u001b[0m\u001b[0mmean_squared_error\u001b[0m\u001b[0;34m(\u001b[0m\u001b[0my_test\u001b[0m\u001b[0;34m,\u001b[0m \u001b[0mest\u001b[0m\u001b[0;34m.\u001b[0m\u001b[0mpredict\u001b[0m\u001b[0;34m(\u001b[0m\u001b[0mX_test\u001b[0m\u001b[0;34m)\u001b[0m\u001b[0;34m)\u001b[0m\u001b[0;34m)\u001b[0m\u001b[0;34m\u001b[0m\u001b[0m\n\u001b[1;32m     10\u001b[0m     \u001b[0mscores\u001b[0m\u001b[0;34m.\u001b[0m\u001b[0mappend\u001b[0m\u001b[0;34m(\u001b[0m\u001b[0mest\u001b[0m\u001b[0;34m.\u001b[0m\u001b[0mscore\u001b[0m\u001b[0;34m(\u001b[0m\u001b[0mX_test\u001b[0m\u001b[0;34m,\u001b[0m \u001b[0my_test\u001b[0m\u001b[0;34m)\u001b[0m\u001b[0;34m)\u001b[0m\u001b[0;34m\u001b[0m\u001b[0m\n\u001b[0;32m---> 11\u001b[0;31m \u001b[0mprint\u001b[0m\u001b[0;34m(\u001b[0m\u001b[0mmean\u001b[0m\u001b[0;34m(\u001b[0m\u001b[0mscores\u001b[0m\u001b[0;34m)\u001b[0m\u001b[0;34m)\u001b[0m\u001b[0;34m\u001b[0m\u001b[0m\n\u001b[0m\u001b[1;32m     12\u001b[0m \u001b[0mprint\u001b[0m\u001b[0;34m(\u001b[0m\u001b[0mmean\u001b[0m\u001b[0;34m(\u001b[0m\u001b[0mmse\u001b[0m\u001b[0;34m)\u001b[0m\u001b[0;34m)\u001b[0m\u001b[0;34m\u001b[0m\u001b[0m\n",
      "\u001b[0;31mNameError\u001b[0m: name 'mean' is not defined"
     ]
    }
   ],
   "source": [
    "# Multiple Average Train/Test Split\n",
    "scores = []\n",
    "amount = 100\n",
    "mse = []\n",
    "est = LinearRegression()\n",
    "for i in range(amount):\n",
    "    X_train, X_test, y_train, y_test = train_test_split(X[sig_columns], y, test_size=0.3)\n",
    "    est.fit(X_train, y_train)\n",
    "    mse.append(mean_squared_error(y_test, est.predict(X_test)))\n",
    "    scores.append(est.score(X_test, y_test))\n",
    "print(mean(scores))\n",
    "print(mean(mse))\n"
   ]
  },
  {
   "cell_type": "code",
   "execution_count": 156,
   "metadata": {},
   "outputs": [
    {
     "data": {
      "text/plain": [
       "0.66943225372853976"
      ]
     },
     "execution_count": 156,
     "metadata": {},
     "output_type": "execute_result"
    }
   ],
   "source": [
    "X = df_mod#[sig_columns]\n",
    "X_train, X_test, y_train, y_test = train_test_split(X[sig_columns], y, test_size=0.3)\n",
    "est.fit(X_train, y_train)\n",
    "est.score(X_test, y_test)\n"
   ]
  },
  {
   "cell_type": "code",
   "execution_count": 125,
   "metadata": {},
   "outputs": [
    {
     "data": {
      "text/plain": [
       "33"
      ]
     },
     "execution_count": 125,
     "metadata": {},
     "output_type": "execute_result"
    }
   ],
   "source": [
    "len(sig_columns)"
   ]
  },
  {
   "cell_type": "code",
   "execution_count": 118,
   "metadata": {},
   "outputs": [
    {
     "data": {
      "text/plain": [
       "(42,)"
      ]
     },
     "execution_count": 118,
     "metadata": {},
     "output_type": "execute_result"
    }
   ],
   "source": [
    "X.columns.shape"
   ]
  },
  {
   "cell_type": "code",
   "execution_count": 434,
   "metadata": {},
   "outputs": [
    {
     "name": "stdout",
     "output_type": "stream",
     "text": [
      "runtime\n",
      "theaters\n",
      "year\n",
      "log_budget_adjusted\n",
      "top_director\n",
      "m_April\n",
      "m_August\n",
      "m_December\n",
      "m_January\n",
      "m_July\n",
      "m_June\n",
      "m_May\n",
      "m_November\n",
      "m_October\n",
      "m_September\n",
      "m_G\n",
      "m_PG\n",
      "m_PG-13\n",
      "m_R\n",
      "g_Action\n",
      "g_Adventure\n",
      "g_Animation\n",
      "g_Biography\n",
      "g_Crime\n",
      "g_Drama\n",
      "g_Family\n",
      "g_Fantasy\n",
      "g_Horror\n",
      "g_Music\n",
      "g_Musical\n",
      "g_Romance\n",
      "g_Sci-Fi\n",
      "g_Sport\n",
      "l_Aramaic\n",
      "l_French\n",
      "l_German\n",
      "l_Italian\n",
      "l_Japanese\n",
      "l_Russian\n",
      "l_Swiss_German\n",
      "l_Ukrainian\n",
      "d_Canada\n",
      "d_China\n",
      "d_Czech_Republic\n",
      "d_Denmark\n",
      "d_Germany\n",
      "d_Kenya\n",
      "d_Mexico\n",
      "d_Panama\n",
      "d_USA\n"
     ]
    }
   ],
   "source": [
    "import pprint\n",
    "for r in sig_columns:\n",
    "    print(r)"
   ]
  },
  {
   "cell_type": "code",
   "execution_count": 422,
   "metadata": {},
   "outputs": [
    {
     "name": "stdout",
     "output_type": "stream",
     "text": [
      "0.525939500444\n",
      "-0.591599371959\n"
     ]
    }
   ],
   "source": [
    "result = cross_val_score(est, X[sig_columns], y, cv=5)\n",
    "print(mean(result))\n",
    "result = cross_val_score(est, X[sig_columns], y, cv=5, scoring='neg_mean_squared_error')\n",
    "print(mean(result))"
   ]
  },
  {
   "cell_type": "code",
   "execution_count": 406,
   "metadata": {
    "collapsed": true
   },
   "outputs": [],
   "source": [
    "def plot_actual_predicted(est, y, X):\n",
    "    fig,ax = plt.subplots(figsize=(12,5))\n",
    "    X_train, X_test, y_train, y_test = train_test_split(X, y, test_size=0.3)\n",
    "    est.fit(X_train,y_train)\n",
    "    ax.scatter(y_test, est.predict(X_test))\n",
    "    x = np.linspace(8, 22, 50)\n",
    "    ax.plot(x,x, color='red')\n",
    "    ax.set_ylabel('Predicted')\n",
    "    ax.set_xlabel('Actual')\n",
    "    #ax.plot(x='actual', y='predicted', data=pd.DataFrame(list(zip(y, est.predict(X))), columns=['actual', 'predicted']))"
   ]
  },
  {
   "cell_type": "code",
   "execution_count": null,
   "metadata": {
    "collapsed": true
   },
   "outputs": [],
   "source": [
    "# Residuals\n",
    "df = pd.DataFrame()"
   ]
  },
  {
   "cell_type": "code",
   "execution_count": 408,
   "metadata": {},
   "outputs": [
    {
     "data": {
      "image/png": "[encoded data removed]",
      "text/plain": [
       "<matplotlib.figure.Figure at 0x7fe8f03a4908>"
      ]
     },
     "metadata": {},
     "output_type": "display_data"
    }
   ],
   "source": [
    "est = LinearRegression()\n",
    "plot_actual_predicted(est, y, X)"
   ]
  },
  {
   "cell_type": "code",
   "execution_count": 409,
   "metadata": {},
   "outputs": [
    {
     "data": {
      "image/png": "[encoded data removed]",
      "text/plain": [
       "<matplotlib.figure.Figure at 0x7fe8f0099dd8>"
      ]
     },
     "metadata": {},
     "output_type": "display_data"
    }
   ],
   "source": [
    "est = LinearRegression()#Lasso(alpha=0.001)\n",
    "plot_actual_predicted(est, y[X.theaters > 100], X[X.theaters > 100])"
   ]
  },
  {
   "cell_type": "code",
   "execution_count": 335,
   "metadata": {},
   "outputs": [
    {
     "data": {
      "image/png": "[encoded data removed]",
      "text/plain": [
       "<matplotlib.figure.Figure at 0x7fe8f0394f28>"
      ]
     },
     "metadata": {},
     "output_type": "display_data"
    }
   ],
   "source": [
    "est = LinearRegression()#Lasso(alpha=0.001)\n",
    "plot_actual_predicted(est, y[X.theaters > 100], X[X.theaters > 100])"
   ]
  },
  {
   "cell_type": "code",
   "execution_count": null,
   "metadata": {
    "collapsed": true
   },
   "outputs": [],
   "source": [
    "X = df_mod"
   ]
  },
  {
   "cell_type": "code",
   "execution_count": null,
   "metadata": {
    "collapsed": true
   },
   "outputs": [],
   "source": [
    "fig,ax = plt.subplots()\n",
    "measurements = np.random.normal(loc = 20, scale = 5, size=100)\n",
    "stats.probplot(measurements, dist=\"norm\", ax=fig)\n",
    "ax.show()"
   ]
  },
  {
   "cell_type": "code",
   "execution_count": null,
   "metadata": {
    "collapsed": true
   },
   "outputs": [],
   "source": [
    "pd.DataFrame(list(zip(y, est.predict(X)))).head()"
   ]
  },
  {
   "cell_type": "code",
   "execution_count": null,
   "metadata": {
    "collapsed": true
   },
   "outputs": [],
   "source": [
    "mean_squared_error(y, est.predict(X))"
   ]
  },
  {
   "cell_type": "code",
   "execution_count": null,
   "metadata": {
    "collapsed": true
   },
   "outputs": [],
   "source": []
  },
  {
   "cell_type": "code",
   "execution_count": null,
   "metadata": {
    "collapsed": true
   },
   "outputs": [],
   "source": []
  }
 ],
 "metadata": {
  "kernelspec": {
   "display_name": "Python 3",
   "language": "python",
   "name": "python3"
  },
  "language_info": {
   "codemirror_mode": {
    "name": "ipython",
    "version": 3
   },
   "file_extension": ".py",
   "mimetype": "text/x-python",
   "name": "python",
   "nbconvert_exporter": "python",
   "pygments_lexer": "ipython3",
   "version": "3.6.1"
  }
 },
 "nbformat": 4,
 "nbformat_minor": 2
}
